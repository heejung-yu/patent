{
 "cells": [
  {
   "cell_type": "markdown",
   "metadata": {},
   "source": [
    "# ner model 테스트"
   ]
  },
  {
   "cell_type": "code",
   "execution_count": 14,
   "metadata": {},
   "outputs": [],
   "source": [
    "import pandas as pd\n",
    "from tqdm import tqdm\n",
    "import os, sys\n",
    "from Read_Data import ReadKiprisData\n",
    "from transformers import ElectraModel, ElectraTokenizer\n",
    "from typing import Dict, Tuple"
   ]
  },
  {
   "cell_type": "code",
   "execution_count": 2,
   "metadata": {},
   "outputs": [],
   "source": [
    "# path 설정\n",
    "save_path = \"./data/output\""
   ]
  },
  {
   "cell_type": "code",
   "execution_count": 5,
   "metadata": {},
   "outputs": [
    {
     "name": "stderr",
     "output_type": "stream",
     "text": [
      "100%|██████████| 4/4 [00:00<00:00, 21.02it/s]\n"
     ]
    },
    {
     "name": "stdout",
     "output_type": "stream",
     "text": [
      "143151\n"
     ]
    },
    {
     "data": {
      "text/html": [
       "<div>\n",
       "<style scoped>\n",
       "    .dataframe tbody tr th:only-of-type {\n",
       "        vertical-align: middle;\n",
       "    }\n",
       "\n",
       "    .dataframe tbody tr th {\n",
       "        vertical-align: top;\n",
       "    }\n",
       "\n",
       "    .dataframe thead th {\n",
       "        text-align: right;\n",
       "    }\n",
       "</style>\n",
       "<table border=\"1\" class=\"dataframe\">\n",
       "  <thead>\n",
       "    <tr style=\"text-align: right;\">\n",
       "      <th></th>\n",
       "      <th>특허번호</th>\n",
       "      <th>문장번호</th>\n",
       "      <th>문장</th>\n",
       "      <th>단어</th>\n",
       "      <th>tag</th>\n",
       "      <th>BIO</th>\n",
       "    </tr>\n",
       "  </thead>\n",
       "  <tbody>\n",
       "    <tr>\n",
       "      <th>0</th>\n",
       "      <td>1.020190e+12</td>\n",
       "      <td>1.0</td>\n",
       "      <td>1. 분산처리 작업 데이터를 처리하는 단말기와,상기 분산처리 작업 데이터를 상기 단...</td>\n",
       "      <td>1</td>\n",
       "      <td>SN</td>\n",
       "      <td>O</td>\n",
       "    </tr>\n",
       "    <tr>\n",
       "      <th>1</th>\n",
       "      <td>1.020190e+12</td>\n",
       "      <td>1.0</td>\n",
       "      <td>1. 분산처리 작업 데이터를 처리하는 단말기와,상기 분산처리 작업 데이터를 상기 단...</td>\n",
       "      <td>.</td>\n",
       "      <td>SF</td>\n",
       "      <td>O</td>\n",
       "    </tr>\n",
       "    <tr>\n",
       "      <th>2</th>\n",
       "      <td>1.020190e+12</td>\n",
       "      <td>1.0</td>\n",
       "      <td>1. 분산처리 작업 데이터를 처리하는 단말기와,상기 분산처리 작업 데이터를 상기 단...</td>\n",
       "      <td>분산</td>\n",
       "      <td>NNG</td>\n",
       "      <td>B_TRM</td>\n",
       "    </tr>\n",
       "    <tr>\n",
       "      <th>3</th>\n",
       "      <td>1.020190e+12</td>\n",
       "      <td>1.0</td>\n",
       "      <td>1. 분산처리 작업 데이터를 처리하는 단말기와,상기 분산처리 작업 데이터를 상기 단...</td>\n",
       "      <td>처리</td>\n",
       "      <td>NNG</td>\n",
       "      <td>I_TRM</td>\n",
       "    </tr>\n",
       "    <tr>\n",
       "      <th>4</th>\n",
       "      <td>1.020190e+12</td>\n",
       "      <td>1.0</td>\n",
       "      <td>1. 분산처리 작업 데이터를 처리하는 단말기와,상기 분산처리 작업 데이터를 상기 단...</td>\n",
       "      <td>작업</td>\n",
       "      <td>NNG</td>\n",
       "      <td>I_TRM</td>\n",
       "    </tr>\n",
       "  </tbody>\n",
       "</table>\n",
       "</div>"
      ],
      "text/plain": [
       "           특허번호  문장번호                                                 문장  단어  \\\n",
       "0  1.020190e+12   1.0  1. 분산처리 작업 데이터를 처리하는 단말기와,상기 분산처리 작업 데이터를 상기 단...   1   \n",
       "1  1.020190e+12   1.0  1. 분산처리 작업 데이터를 처리하는 단말기와,상기 분산처리 작업 데이터를 상기 단...   .   \n",
       "2  1.020190e+12   1.0  1. 분산처리 작업 데이터를 처리하는 단말기와,상기 분산처리 작업 데이터를 상기 단...  분산   \n",
       "3  1.020190e+12   1.0  1. 분산처리 작업 데이터를 처리하는 단말기와,상기 분산처리 작업 데이터를 상기 단...  처리   \n",
       "4  1.020190e+12   1.0  1. 분산처리 작업 데이터를 처리하는 단말기와,상기 분산처리 작업 데이터를 상기 단...  작업   \n",
       "\n",
       "   tag    BIO  \n",
       "0   SN      O  \n",
       "1   SF      O  \n",
       "2  NNG  B_TRM  \n",
       "3  NNG  I_TRM  \n",
       "4  NNG  I_TRM  "
      ]
     },
     "execution_count": 5,
     "metadata": {},
     "output_type": "execute_result"
    }
   ],
   "source": [
    "# 1. 데이터 읽기\n",
    "read_data = ReadKiprisData()\n",
    "data_df = read_data.run(\"./data/ner_dic_ami\")\n",
    "print(len(data_df))\n",
    "data_df.head()"
   ]
  },
  {
   "cell_type": "code",
   "execution_count": 52,
   "metadata": {},
   "outputs": [],
   "source": [
    "# 2. input에 맞게 데이터 처리\n",
    "\n",
    "# [entity:idx], [idx:entity] 딕셔너리 반환 \n",
    "def lable_to_ner(data_df: pd.DataFrame, text: str='-') -> Tuple[Dict[int, str], Dict[str, int]]:\n",
    "    label_group  = data_df.groupby('BIO')\n",
    "    \n",
    "    idx = 0\n",
    "    label_to_idx = dict(); idx_to_label = dict()\n",
    "    label_to_idx[text] = idx; idx_to_label[idx]=text # '[CLS]', '[SEP]'\n",
    "\n",
    "    for label, _ in label_group:\n",
    "        idx += 1\n",
    "        idx_to_label[idx] = label\n",
    "        label_to_idx[label] = idx\n",
    "\n",
    "    return label_to_idx, idx_to_label\n",
    "\n",
    "label_to_idx, idx_to_label = lable_to_ner(data_df, '-')"
   ]
  },
  {
   "cell_type": "code",
   "execution_count": 116,
   "metadata": {},
   "outputs": [
    {
     "name": "stderr",
     "output_type": "stream",
     "text": [
      "단어, BIO 태그: 100%|██████████| 2308/2308 [00:12<00:00, 181.04it/s]\n"
     ]
    }
   ],
   "source": [
    "sen_group = data_df.groupby('문장')\n",
    "sen_targets = []\n",
    "\n",
    "for idx, group in tqdm(sen_group, desc=\"단어, BIO 태그\"):\n",
    "    sen_target = []\n",
    "\n",
    "    sen_target.append([\"CLS\", \"-\"])\n",
    "    for _, row in group.iterrows():\n",
    "        if pd.notnull(row['단어']):\n",
    "            sen_target.append([row[\"단어\"], row[\"BIO\"]])\n",
    "    sen_target.append([\"SEP\", \"-\"])\n",
    "\n",
    "    sen_targets.append(sen_target)"
   ]
  },
  {
   "cell_type": "code",
   "execution_count": 125,
   "metadata": {},
   "outputs": [],
   "source": [
    "sentences = []; targets = []; errors = []\n",
    "for sen in sen_targets:\n",
    "    sentence = []; target = []\n",
    "\n",
    "    for word, bio in sen:\n",
    "        sentence.append(word)\n",
    "        try:\n",
    "            target.append(label_to_idx[bio])\n",
    "        except KeyError:\n",
    "            target.append(label_to_idx['O'])\n",
    "        except Exception as e:\n",
    "            errors.append([word, bio, e])\n",
    "\n",
    "    sentences.append(sentence); targets.append(target)"
   ]
  },
  {
   "cell_type": "code",
   "execution_count": 127,
   "metadata": {},
   "outputs": [
    {
     "data": {
      "text/plain": [
       "(2308, 2308)"
      ]
     },
     "execution_count": 127,
     "metadata": {},
     "output_type": "execute_result"
    }
   ],
   "source": [
    "len(sentences), len(targets)"
   ]
  },
  {
   "cell_type": "code",
   "execution_count": 135,
   "metadata": {},
   "outputs": [
    {
     "data": {
      "text/plain": [
       "{0: 4615, 3: 102851, 1: 19380, 2: 19005}"
      ]
     },
     "execution_count": 135,
     "metadata": {},
     "output_type": "execute_result"
    }
   ],
   "source": [
    "# 최종 태깅된 bio 태그 건수\n",
    "bio_count = dict()\n",
    "flatten_target = [t for target in targets for t in target]\n",
    "for target in flatten_target:\n",
    "    if target not in bio_count: bio_count[target] = 0\n",
    "    else: bio_count[target]+=1\n",
    "bio_count"
   ]
  },
  {
   "cell_type": "code",
   "execution_count": 6,
   "metadata": {},
   "outputs": [
    {
     "name": "stderr",
     "output_type": "stream",
     "text": [
      "Some weights of the model checkpoint at ../old/KIPI-KorPatELECTRA/KorPatELECTRA/PT were not used when initializing ElectraModel: ['discriminator_predictions.dense.bias', 'discriminator_predictions.dense_prediction.weight', 'discriminator_predictions.dense.weight', 'discriminator_predictions.dense_prediction.bias']\n",
      "- This IS expected if you are initializing ElectraModel from the checkpoint of a model trained on another task or with another architecture (e.g. initializing a BertForSequenceClassification model from a BertForPreTraining model).\n",
      "- This IS NOT expected if you are initializing ElectraModel from the checkpoint of a model that you expect to be exactly identical (initializing a BertForSequenceClassification model from a BertForSequenceClassification model).\n"
     ]
    },
    {
     "name": "stdout",
     "output_type": "stream",
     "text": [
      "모델과 토크나이저가 성공적으로 불러와졌습니다.\n"
     ]
    }
   ],
   "source": [
    "# 3. 토크나이즈\n",
    "\n",
    "# 모델 경로 (KIPI-KorPatELECTRA 경로 설정)\n",
    "model_path = \"../old/KIPI-KorPatELECTRA/KorPatELECTRA/PT\"\n",
    "\n",
    "# 토크나이저 및 모델 불러오기\n",
    "tokenizer = ElectraTokenizer.from_pretrained(model_path)\n",
    "model = ElectraModel.from_pretrained(model_path)"
   ]
  },
  {
   "cell_type": "code",
   "execution_count": null,
   "metadata": {},
   "outputs": [],
   "source": []
  }
 ],
 "metadata": {
  "kernelspec": {
   "display_name": "korpatE",
   "language": "python",
   "name": "python3"
  },
  "language_info": {
   "codemirror_mode": {
    "name": "ipython",
    "version": 3
   },
   "file_extension": ".py",
   "mimetype": "text/x-python",
   "name": "python",
   "nbconvert_exporter": "python",
   "pygments_lexer": "ipython3",
   "version": "3.8.0"
  }
 },
 "nbformat": 4,
 "nbformat_minor": 2
}
