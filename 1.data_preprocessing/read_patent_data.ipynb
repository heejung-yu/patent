{
 "cells": [
  {
   "cell_type": "code",
   "execution_count": 4,
   "metadata": {},
   "outputs": [],
   "source": [
    "import requests\n",
    "import pandas as pd\n",
    "from tqdm import tqdm\n",
    "from bs4 import BeautifulSoup\n",
    "import os\n",
    "import xml.etree.ElementTree as ET\n",
    "import json\n",
    "import xmltodict\n",
    "import xml.etree.ElementTree as ET\n",
    "import pickle\n",
    "import json\n",
    "from typing import List"
   ]
  },
  {
   "cell_type": "markdown",
   "metadata": {},
   "source": [
    "# ~~1. 특허 데이터 오픈 API 읽어오기~~\n",
    "- 공공데이터포털, \"한국과학기술연구원_특허DB\""
   ]
  },
  {
   "cell_type": "code",
   "execution_count": null,
   "metadata": {},
   "outputs": [],
   "source": [
    "uri = \"http://161.122.37.103:6736/openapi-data/service/thesis/\"\n",
    "encodingKey = \"\"\n",
    "decodingKey = \"\"\n",
    "\n",
    "service_name_dict = {'논문조회서비스': 'GetThesisInfoService', \n",
    "                     '특허조회서비스': 'GetPatentInfoService'}"
   ]
  },
  {
   "cell_type": "code",
   "execution_count": null,
   "metadata": {},
   "outputs": [],
   "source": [
    "\n",
    "service_name_dict = {'논문조회서비스': 'GetThesisInfoService', \n",
    "                     '특허조회서비스': 'GetPatentInfoService'}"
   ]
  },
  {
   "cell_type": "code",
   "execution_count": 4,
   "metadata": {},
   "outputs": [],
   "source": [
    "# response 반환\n",
    "def getResponse(url, params):\n",
    "    try:\n",
    "        response = requests.get(url, params=params)\n",
    "    except Exception as e:\n",
    "        print(e)\n",
    "        return\n",
    "    return response"
   ]
  },
  {
   "cell_type": "code",
   "execution_count": 5,
   "metadata": {},
   "outputs": [],
   "source": [
    "# 전체 데이터개수 반환\n",
    "def getLastPageNum(response):\n",
    "    soup =BeautifulSoup(response.text, 'xml')\n",
    "    return int(soup.find(\"totalCount\").text)"
   ]
  },
  {
   "cell_type": "code",
   "execution_count": 6,
   "metadata": {},
   "outputs": [],
   "source": [
    "def createData(response):\n",
    "    contents = response.json()\n",
    "    return pd.DataFrame(contents['response']['body']['items'])"
   ]
  },
  {
   "cell_type": "code",
   "execution_count": 7,
   "metadata": {},
   "outputs": [],
   "source": [
    "def getData(url, totalPageNum):\n",
    "    df_list = []\n",
    "    pageNum = 1\n",
    "    params ={'serviceKey' : decodingKey, 'pageNo' : pageNum, 'numOfRows' : '1000', 'type' : 'json'}\n",
    "\n",
    "    with tqdm(total=totalPageNum, desc=f\"진행 상황\") as pbar:\n",
    "        for i in range(totalPageNum):\n",
    "            df_list.append(createData(getResponse(url, params=params)))\n",
    "\n",
    "            pageNum+=1\n",
    "            params ={'serviceKey' : decodingKey, 'pageNo' : pageNum, 'numOfRows' : '1000', 'type' : 'json'}\n",
    "            pbar.update(1)  # 진행 상황 업데이트\n",
    "            \n",
    "    return df_list"
   ]
  },
  {
   "cell_type": "code",
   "execution_count": 8,
   "metadata": {},
   "outputs": [
    {
     "ename": "AttributeError",
     "evalue": "'NoneType' object has no attribute 'text'",
     "output_type": "error",
     "traceback": [
      "\u001b[0;31m---------------------------------------------------------------------------\u001b[0m",
      "\u001b[0;31mAttributeError\u001b[0m                            Traceback (most recent call last)",
      "Cell \u001b[0;32mIn[8], line 5\u001b[0m\n\u001b[1;32m      3\u001b[0m target_uri \u001b[38;5;241m=\u001b[39m \u001b[38;5;124m'\u001b[39m\u001b[38;5;124mhttp://161.122.37.103:6736/openapi-data/service/patent/patentApplication?pageNo=1&applyDate=201411&serviceKey=\u001b[39m\u001b[38;5;124m'\u001b[39m\u001b[38;5;241m+\u001b[39mdecodingKey\n\u001b[1;32m      4\u001b[0m \u001b[38;5;66;03m# 데이터 전체 개수 카운팅\u001b[39;00m\n\u001b[0;32m----> 5\u001b[0m totalDataLength \u001b[38;5;241m=\u001b[39m \u001b[43mgetLastPageNum\u001b[49m\u001b[43m(\u001b[49m\u001b[43mgetResponse\u001b[49m\u001b[43m(\u001b[49m\u001b[43mtarget_uri\u001b[49m\u001b[43m,\u001b[49m\u001b[43m \u001b[49m\u001b[43mparams\u001b[49m\u001b[43m)\u001b[49m\u001b[43m)\u001b[49m\n\u001b[1;32m      6\u001b[0m totalPageNum \u001b[38;5;241m=\u001b[39m \u001b[38;5;28mint\u001b[39m(totalDataLength\u001b[38;5;241m/\u001b[39m\u001b[38;5;241m1000\u001b[39m)\u001b[38;5;241m+\u001b[39m\u001b[38;5;241m1\u001b[39m\n\u001b[1;32m      8\u001b[0m df \u001b[38;5;241m=\u001b[39m pd\u001b[38;5;241m.\u001b[39mconcat(getData(target_uri, totalPageNum), ignore_index\u001b[38;5;241m=\u001b[39m\u001b[38;5;28;01mTrue\u001b[39;00m)\n",
      "Cell \u001b[0;32mIn[5], line 4\u001b[0m, in \u001b[0;36mgetLastPageNum\u001b[0;34m(response)\u001b[0m\n\u001b[1;32m      2\u001b[0m \u001b[38;5;28;01mdef\u001b[39;00m \u001b[38;5;21mgetLastPageNum\u001b[39m(response):\n\u001b[1;32m      3\u001b[0m     soup \u001b[38;5;241m=\u001b[39mBeautifulSoup(response\u001b[38;5;241m.\u001b[39mtext, \u001b[38;5;124m'\u001b[39m\u001b[38;5;124mxml\u001b[39m\u001b[38;5;124m'\u001b[39m)\n\u001b[0;32m----> 4\u001b[0m     \u001b[38;5;28;01mreturn\u001b[39;00m \u001b[38;5;28mint\u001b[39m(\u001b[43msoup\u001b[49m\u001b[38;5;241;43m.\u001b[39;49m\u001b[43mfind\u001b[49m\u001b[43m(\u001b[49m\u001b[38;5;124;43m\"\u001b[39;49m\u001b[38;5;124;43mtotalCount\u001b[39;49m\u001b[38;5;124;43m\"\u001b[39;49m\u001b[43m)\u001b[49m\u001b[38;5;241;43m.\u001b[39;49m\u001b[43mtext\u001b[49m)\n",
      "\u001b[0;31mAttributeError\u001b[0m: 'NoneType' object has no attribute 'text'"
     ]
    }
   ],
   "source": [
    "params ={'serviceKey' : encodingKey, 'pageNo' : 1, 'numOfRows' : '1000', 'type' : 'xml'}\n",
    "target_uri = uri+service_name_dict['특허조회서비스']\n",
    "target_uri = 'http://161.122.37.103:6736/openapi-data/service/patent/patentApplication?pageNo=1&applyDate=201411&serviceKey='+decodingKey\n",
    "# 데이터 전체 개수 카운팅\n",
    "totalDataLength = getLastPageNum(getResponse(target_uri, params))\n",
    "totalPageNum = int(totalDataLength/1000)+1\n",
    "\n",
    "df = pd.concat(getData(target_uri, totalPageNum), ignore_index=True)"
   ]
  },
  {
   "cell_type": "markdown",
   "metadata": {},
   "source": [
    "# 2. USPTO 데이터"
   ]
  },
  {
   "cell_type": "code",
   "execution_count": 4,
   "metadata": {},
   "outputs": [],
   "source": [
    "def read_pkl_file(filePath):\n",
    "    with open(filePath, 'rb') as file:\n",
    "        data = pickle.load(file)\n",
    "    return data"
   ]
  },
  {
   "cell_type": "code",
   "execution_count": 5,
   "metadata": {},
   "outputs": [
    {
     "data": {
      "text/plain": [
       "1"
      ]
     },
     "execution_count": 5,
     "metadata": {},
     "output_type": "execute_result"
    }
   ],
   "source": [
    "patent_data_path = \"./data/patent\"\n",
    "patent_file_list = os.listdir(patent_data_path)\n",
    "len(patent_file_list)"
   ]
  },
  {
   "cell_type": "code",
   "execution_count": 6,
   "metadata": {},
   "outputs": [
    {
     "name": "stderr",
     "output_type": "stream",
     "text": [
      "Read Patent File:   0%|          | 0/1 [00:09<?, ?it/s]\n"
     ]
    }
   ],
   "source": [
    "for filename in tqdm(patent_file_list, desc=f\"Read Patent File\"):\n",
    "    p_data: List[dict] = read_pkl_file(os.path.join(patent_data_path, filename))\n",
    "    break"
   ]
  },
  {
   "cell_type": "code",
   "execution_count": 9,
   "metadata": {},
   "outputs": [
    {
     "name": "stderr",
     "output_type": "stream",
     "text": [
      "Read 2003.pkl data: 100%|██████████| 187104/187104 [11:25<00:00, 272.81it/s]\n"
     ]
    }
   ],
   "source": [
    "patent_df = pd.DataFrame()\n",
    "\n",
    "for data in tqdm(p_data, desc=f\"Read {filename} data\"):  \n",
    "    patent_name = data.get('bibliographic_information', {}).get('title_of_invention', None)\n",
    "    code_information = data.get('classifications', {})\n",
    "    cpc_ipc_code = code_information.get('main_or_locrano_class', None)\n",
    "    edition = code_information.get('ipc_edition', None)\n",
    "    patent_df = pd.concat([patent_df, pd.DataFrame([{'patent_title':patent_name, 'cpc_ipc_code': cpc_ipc_code, 'edition': edition}])])"
   ]
  },
  {
   "cell_type": "code",
   "execution_count": 11,
   "metadata": {},
   "outputs": [
    {
     "data": {
      "text/plain": [
       "(187104,\n",
       "                                         patent_title  cpc_ipc_code edition\n",
       " 0       Method and apparatus for pay-per-view system   [H04N  716]     [7]\n",
       " 0  Method and apparatus for customized rendering ...   [H04N  900]     [7]\n",
       " 0  Conditional access filter as for a packet vide...  [H04N  7167]     [7]\n",
       " 0  System for distributing and handling electroni...   [H04N  545]     [7]\n",
       " 0  Method and apparatus for lost connectivity rec...  [H04N  7173]     [7])"
      ]
     },
     "execution_count": 11,
     "metadata": {},
     "output_type": "execute_result"
    }
   ],
   "source": [
    "len(patent_df), patent_df.tail()"
   ]
  },
  {
   "cell_type": "code",
   "execution_count": 13,
   "metadata": {},
   "outputs": [],
   "source": [
    "patent_df.to_csv(\"./data/output/2003_patent_titlt_code(241204,1).csv\")"
   ]
  },
  {
   "cell_type": "markdown",
   "metadata": {},
   "source": [
    "# 1. cpc코드"
   ]
  },
  {
   "cell_type": "code",
   "execution_count": 15,
   "metadata": {},
   "outputs": [
    {
     "data": {
      "text/plain": [
       "9"
      ]
     },
     "execution_count": 15,
     "metadata": {},
     "output_type": "execute_result"
    }
   ],
   "source": [
    "cpc_data_path = \"./data/cpc_title\"\n",
    "cpc_file_list = [filename for filename in os.listdir(cpc_data_path) if filename.endswith(\"txt\")]\n",
    "len(cpc_file_list)"
   ]
  },
  {
   "cell_type": "code",
   "execution_count": 27,
   "metadata": {},
   "outputs": [
    {
     "name": "stderr",
     "output_type": "stream",
     "text": [
      "100%|██████████| 9/9 [00:00<00:00, 49.79it/s]\n"
     ]
    },
    {
     "data": {
      "text/plain": [
       "(260820,\n",
       "        code  depth                                              title\n",
       " 0         D    NaN                                    TEXTILES; PAPER\n",
       " 1       D01    NaN    NATURAL OR MAN-MADE THREADS OR FIBRES; SPINNING\n",
       " 2      D01B    NaN  MECHANICAL TREATMENT OF NATURAL FIBROUS OR FIL...\n",
       " 3  D01B1/00    0.0  Mechanical separation of fibres from plant mat...\n",
       " 4  D01B1/02    1.0  Separating vegetable fibres from seeds, e.g. c...)"
      ]
     },
     "execution_count": 27,
     "metadata": {},
     "output_type": "execute_result"
    }
   ],
   "source": [
    "cpc_title_df = pd.DataFrame()\n",
    "for filename in tqdm(cpc_file_list):\n",
    "    df = pd.read_csv(os.path.join(cpc_data_path, filename), sep='\\t', names=['code','depth','title'])\n",
    "    cpc_title_df = pd.concat([cpc_title_df, df])\n",
    "len(cpc_title_df), cpc_title_df.head()"
   ]
  },
  {
   "cell_type": "code",
   "execution_count": 28,
   "metadata": {},
   "outputs": [
    {
     "data": {
      "text/html": [
       "<div>\n",
       "<style scoped>\n",
       "    .dataframe tbody tr th:only-of-type {\n",
       "        vertical-align: middle;\n",
       "    }\n",
       "\n",
       "    .dataframe tbody tr th {\n",
       "        vertical-align: top;\n",
       "    }\n",
       "\n",
       "    .dataframe thead th {\n",
       "        text-align: right;\n",
       "    }\n",
       "</style>\n",
       "<table border=\"1\" class=\"dataframe\">\n",
       "  <thead>\n",
       "    <tr style=\"text-align: right;\">\n",
       "      <th></th>\n",
       "      <th>code</th>\n",
       "      <th>depth</th>\n",
       "      <th>title</th>\n",
       "    </tr>\n",
       "  </thead>\n",
       "  <tbody>\n",
       "    <tr>\n",
       "      <th>38974</th>\n",
       "      <td>H10N99/03</td>\n",
       "      <td>1.0</td>\n",
       "      <td>{Devices using Mott metal-insulator transition...</td>\n",
       "    </tr>\n",
       "    <tr>\n",
       "      <th>38975</th>\n",
       "      <td>H10N99/05</td>\n",
       "      <td>1.0</td>\n",
       "      <td>{Devices based on quantum mechanical effects, ...</td>\n",
       "    </tr>\n",
       "    <tr>\n",
       "      <th>38976</th>\n",
       "      <td>H99</td>\n",
       "      <td>NaN</td>\n",
       "      <td>SUBJECT MATTER NOT OTHERWISE PROVIDED FOR IN T...</td>\n",
       "    </tr>\n",
       "    <tr>\n",
       "      <th>38977</th>\n",
       "      <td>H99Z</td>\n",
       "      <td>NaN</td>\n",
       "      <td>SUBJECT MATTER NOT OTHERWISE PROVIDED FOR IN T...</td>\n",
       "    </tr>\n",
       "    <tr>\n",
       "      <th>38978</th>\n",
       "      <td>H99Z99/00</td>\n",
       "      <td>0.0</td>\n",
       "      <td>Subject matter not otherwise provided for in t...</td>\n",
       "    </tr>\n",
       "  </tbody>\n",
       "</table>\n",
       "</div>"
      ],
      "text/plain": [
       "            code  depth                                              title\n",
       "38974  H10N99/03    1.0  {Devices using Mott metal-insulator transition...\n",
       "38975  H10N99/05    1.0  {Devices based on quantum mechanical effects, ...\n",
       "38976        H99    NaN  SUBJECT MATTER NOT OTHERWISE PROVIDED FOR IN T...\n",
       "38977       H99Z    NaN  SUBJECT MATTER NOT OTHERWISE PROVIDED FOR IN T...\n",
       "38978  H99Z99/00    0.0  Subject matter not otherwise provided for in t..."
      ]
     },
     "execution_count": 28,
     "metadata": {},
     "output_type": "execute_result"
    }
   ],
   "source": [
    "cpc_title_df.tail()"
   ]
  },
  {
   "cell_type": "code",
   "execution_count": 30,
   "metadata": {},
   "outputs": [],
   "source": [
    "cpc_title_df.to_csv(\"./data/output/cpc_title(2408).csv\")"
   ]
  },
  {
   "cell_type": "markdown",
   "metadata": {},
   "source": [
    "# 2. 키프리스 데이터"
   ]
  },
  {
   "cell_type": "code",
   "execution_count": 2,
   "metadata": {},
   "outputs": [],
   "source": [
    "# MySQL에 연결\n",
    "\n",
    "# 커서 생성\n",
    "cursor = connection.cursor()"
   ]
  },
  {
   "cell_type": "code",
   "execution_count": 3,
   "metadata": {},
   "outputs": [
    {
     "name": "stdout",
     "output_type": "stream",
     "text": [
      "MainClaim_patent\n",
      "Main_patent\n",
      "areabaselist\n",
      "areacode\n",
      "contenttypeid\n",
      "patent\n",
      "patent_claim\n",
      "sigungu\n"
     ]
    }
   ],
   "source": [
    "# 모든 데이터베이스 출력하는 쿼리 실행\n",
    "cursor.execute(\"SHOW TABLES\")\n",
    "\n",
    "# 결과 출력\n",
    "databases = cursor.fetchall()\n",
    "for db in databases:\n",
    "    print(db[0])\n",
    "\n",
    "# # 커서 및 연결 종료\n",
    "# cursor.close()\n",
    "# connection.close()"
   ]
  },
  {
   "cell_type": "code",
   "execution_count": 3,
   "metadata": {},
   "outputs": [
    {
     "data": {
      "text/plain": [
       "(2634934,\n",
       "    seq applicationNumber                              inventionTitle  \\\n",
       " 0    1     1020190000013           인공지능 통합방재 배전반 및 인공지능 통합방재 배전반 시스템   \n",
       " 1    2     1020190000030                                  주차장공유관리시스템   \n",
       " 2    3     1020190000037       척추측만증 교정을 위한 방법 및 이러한 방법에 따라 제조된 교정기구   \n",
       " 3    4     1020190000052  등속조인트용 케이지 및 그 케이지 및  슬리브 일체형 내륜을 갖는 등속조인트   \n",
       " 4    5     1020190000075                        오버로크 재봉틀용 박음질 가이드 장치   \n",
       " \n",
       "                                    inventionTitleEng applicationDate  \\\n",
       " 0  The AI unified anti-disaster panel and its system        20190101   \n",
       " 1                         Parking Lot Sharing System        20190101   \n",
       " 2  Correcting method for scoliosis and manufactur...        20190101   \n",
       " 3  A cage for constant velocity joint and the  co...        20190102   \n",
       " 4  DEVICE GUIDING STITCH FOR OVERLOCK SEWING  MAC...        20190102   \n",
       " \n",
       "   registerNumber registerDate registerStatus originalApplicationKind  \\\n",
       " 0  1020076190000     20190730             등록                      신규   \n",
       " 1                                         공개                      신규   \n",
       " 2  1020076200000     20190730             등록                      신규   \n",
       " 3  1019946610000     20190625             등록                      신규   \n",
       " 4  1019876120000     20190603             등록                      신규   \n",
       " \n",
       "   claimCount  ... applicantName  \\\n",
       " 0          8  ...           이승철   \n",
       " 1          2  ...           이만석   \n",
       " 2          4  ...           이종성   \n",
       " 3          7  ...       서한산업(주)   \n",
       " 4          5  ...           박희만   \n",
       " \n",
       "                                            astrtCont  \\\n",
       " 0   저압반 내부의 통합제어계전기는 턴온 이벤트만 수신될 경우, 위험경보 이벤트를 발생...   \n",
       " 1   (1) 컴퓨터 프로그래밍 및 디지털통신 기술을 이용하여 (2) 도시주차난을 해결하...   \n",
       " 2   척추측만증을 교정하기 위한 방법이 개시된다. 본 발명에 따른 척추측만증의 교정 데...   \n",
       " 3   본 발명은 등속조인트용 케이지 및 그 케이지 및 슬리브 일체형 내륜을 갖는 등속조...   \n",
       " 4   본 발명은 직물이 재봉바늘 쪽으로 정확하게 진입이 이루어지도록 하여 원하는 위치에...   \n",
       " \n",
       "   listRndMinistriesandoffices listRndProject listRndTask listRndInstitution  \\\n",
       " 0                                                                             \n",
       " 1                                                                             \n",
       " 2                                                                             \n",
       " 3                                                                             \n",
       " 4                                                                             \n",
       " \n",
       "   listFamilycountryCode listFamilycountryName listFamilyKind listFamilyNumber  \n",
       " 0                                                                              \n",
       " 1                                                                              \n",
       " 2                                                                              \n",
       " 3                                                                              \n",
       " 4                                                                              \n",
       " \n",
       " [5 rows x 27 columns])"
      ]
     },
     "execution_count": 3,
     "metadata": {},
     "output_type": "execute_result"
    }
   ],
   "source": [
    "# 쿼리 실행 (도로명주소관리번호에 대응하는 number 값 가져오기)\n",
    "query = \"\"\"\n",
    "SELECT *\n",
    "FROM Main_patent;\n",
    "\"\"\"\n",
    "mainPatent_df = pd.read_sql(query, con=connection)\n",
    "len(mainPatent_df), mainPatent_df.head()"
   ]
  },
  {
   "cell_type": "code",
   "execution_count": null,
   "metadata": {},
   "outputs": [],
   "source": [
    "# mainPatent_df.to_csv(\"./data/patent/kipris_main_patent.csv\")"
   ]
  },
  {
   "cell_type": "code",
   "execution_count": 5,
   "metadata": {},
   "outputs": [
    {
     "data": {
      "text/plain": [
       "(2640867,\n",
       "    seq applicationNumber                                              claim\n",
       " 0    1     1020190000013  1. 하나 이상 배전반, 조기화재검지센서, 감시카메라로 구성된 배전반 통합 방재시스...\n",
       " 1    2     1020190000030  1.        위 발명을 실시하기 위한 구체적인 내용 중 '2. 전산시스템 구성...\n",
       " 2    3     1020190000037  1. 인체의 2차원 이미지를 획득하는 단계와,상기 2차원 이미지로부터 가상라인을 생...\n",
       " 3    4     1020190000052  1. 외륜과 내륜 사이에 배치되도록 내경에는 곡선부를 성형하며, 볼의 이탈을 방지하...\n",
       " 4    5     1020190000075  1. 오버로크 재봉틀의 일측에 설치된 브라켓과;상기 브라켓에 위치 변경 가능하게 장...)"
      ]
     },
     "execution_count": 5,
     "metadata": {},
     "output_type": "execute_result"
    }
   ],
   "source": [
    "# 쿼리 실행 (도로명주소관리번호에 대응하는 number 값 가져오기)\n",
    "query = \"\"\"\n",
    "SELECT *\n",
    "FROM MainClaim_patent;\n",
    "\"\"\"\n",
    "mainClaim_df = pd.read_sql(query, con=connection)\n",
    "len(mainClaim_df), mainClaim_df.head()"
   ]
  },
  {
   "cell_type": "code",
   "execution_count": null,
   "metadata": {},
   "outputs": [
    {
     "ename": "",
     "evalue": "",
     "output_type": "error",
     "traceback": [
      "\u001b[1;31mThe Kernel crashed while executing code in the current cell or a previous cell. \n",
      "\u001b[1;31mPlease review the code in the cell(s) to identify a possible cause of the failure. \n",
      "\u001b[1;31mClick <a href='https://aka.ms/vscodeJupyterKernelCrash'>here</a> for more info. \n",
      "\u001b[1;31mView Jupyter <a href='command:jupyter.viewOutput'>log</a> for further details."
     ]
    }
   ],
   "source": [
    "mainClaim_df.to_csv(\"./data/patent/kipris_claim_patent.csv\")"
   ]
  },
  {
   "cell_type": "markdown",
   "metadata": {},
   "source": [
    "# 통계"
   ]
  },
  {
   "cell_type": "code",
   "execution_count": null,
   "metadata": {},
   "outputs": [],
   "source": [
    "# 키프리스데이터 cpc 개수 통계\n",
    "patent_cpc_count_dict = {}\n",
    "error_data = []; not_upper_data = []\n",
    "\n",
    "for _, data in tqdm(mainPatent_df.iterrows(), total = len(mainPatent_df)):\n",
    "    cpc_str = data['listCPC']  # string\n",
    "    cpc_str = cpc_str.replace(\"[\", \"\"); cpc_str = cpc_str.replace(\"]\", \"\")\n",
    "    cpc_list = [cpc.strip() for cpc in cpc_str.split(\",\")]\n",
    "    \n",
    "    # 특허 하나에 들어있는 CPC 종류 체크\n",
    "    cpc_check = []\n",
    "    for cpc in cpc_list:\n",
    "        try:\n",
    "            target_cpc = cpc[0]\n",
    "            if not target_cpc.isupper(): \n",
    "                target_cpc = target_cpc.upper()\n",
    "                not_upper_data.append([data['seq'], cpc])\n",
    "            \n",
    "            if target_cpc not in cpc_check:\n",
    "                cpc_check.append(target_cpc)\n",
    "                \n",
    "                # 전체 특허 CPC 카운팅\n",
    "                if target_cpc not in patent_cpc_count_dict.keys(): patent_cpc_count_dict[target_cpc] = 1\n",
    "                else: patent_cpc_count_dict[target_cpc]+=1\n",
    "        except:\n",
    "            error_data.append([data['seq'], cpc])\n",
    "            continue\n",
    "patent_cpc_count_dict"
   ]
  },
  {
   "cell_type": "code",
   "execution_count": null,
   "metadata": {},
   "outputs": [],
   "source": [
    "df = pd.DataFrame([patent_cpc_count_dict]).T\n",
    "df.to_csv(\"./data/output/data_CPC_count.csv\", encoding='euc-kr')"
   ]
  },
  {
   "cell_type": "code",
   "execution_count": null,
   "metadata": {},
   "outputs": [],
   "source": [
    "len(not_upper_data), not_upper_data[:5]"
   ]
  },
  {
   "cell_type": "code",
   "execution_count": null,
   "metadata": {},
   "outputs": [],
   "source": [
    "len(error_data), error_data[:5]"
   ]
  },
  {
   "cell_type": "markdown",
   "metadata": {},
   "source": [
    "# 연도별 통계"
   ]
  },
  {
   "cell_type": "code",
   "execution_count": 5,
   "metadata": {},
   "outputs": [
    {
     "name": "stderr",
     "output_type": "stream",
     "text": [
      "/tmp/ipykernel_457492/956689083.py:2: DtypeWarning: Columns (10,20,21,22,23) have mixed types. Specify dtype option on import or set low_memory=False.\n",
      "  patent_df = pd.read_csv(patent_path)\n"
     ]
    }
   ],
   "source": [
    "patent_path = \"./data/patent/kipris_main_patent.csv\"\n",
    "patent_df = pd.read_csv(patent_path)"
   ]
  },
  {
   "cell_type": "code",
   "execution_count": 6,
   "metadata": {},
   "outputs": [
    {
     "data": {
      "text/html": [
       "<div>\n",
       "<style scoped>\n",
       "    .dataframe tbody tr th:only-of-type {\n",
       "        vertical-align: middle;\n",
       "    }\n",
       "\n",
       "    .dataframe tbody tr th {\n",
       "        vertical-align: top;\n",
       "    }\n",
       "\n",
       "    .dataframe thead th {\n",
       "        text-align: right;\n",
       "    }\n",
       "</style>\n",
       "<table border=\"1\" class=\"dataframe\">\n",
       "  <thead>\n",
       "    <tr style=\"text-align: right;\">\n",
       "      <th></th>\n",
       "      <th>Unnamed: 0</th>\n",
       "      <th>seq</th>\n",
       "      <th>applicationNumber</th>\n",
       "      <th>inventionTitle</th>\n",
       "      <th>inventionTitleEng</th>\n",
       "      <th>applicationDate</th>\n",
       "      <th>registerNumber</th>\n",
       "      <th>registerDate</th>\n",
       "      <th>registerStatus</th>\n",
       "      <th>originalApplicationKind</th>\n",
       "      <th>...</th>\n",
       "      <th>applicantName</th>\n",
       "      <th>astrtCont</th>\n",
       "      <th>listRndMinistriesandoffices</th>\n",
       "      <th>listRndProject</th>\n",
       "      <th>listRndTask</th>\n",
       "      <th>listRndInstitution</th>\n",
       "      <th>listFamilycountryCode</th>\n",
       "      <th>listFamilycountryName</th>\n",
       "      <th>listFamilyKind</th>\n",
       "      <th>listFamilyNumber</th>\n",
       "    </tr>\n",
       "  </thead>\n",
       "  <tbody>\n",
       "    <tr>\n",
       "      <th>0</th>\n",
       "      <td>0</td>\n",
       "      <td>1</td>\n",
       "      <td>1020190000013</td>\n",
       "      <td>인공지능 통합방재 배전반 및 인공지능 통합방재 배전반 시스템</td>\n",
       "      <td>The AI unified anti-disaster panel and its system</td>\n",
       "      <td>20190101</td>\n",
       "      <td>1020076190000</td>\n",
       "      <td>20190730</td>\n",
       "      <td>등록</td>\n",
       "      <td>신규</td>\n",
       "      <td>...</td>\n",
       "      <td>이승철</td>\n",
       "      <td>저압반 내부의 통합제어계전기는 턴온 이벤트만 수신될 경우, 위험경보 이벤트를 발생...</td>\n",
       "      <td>NaN</td>\n",
       "      <td>NaN</td>\n",
       "      <td>NaN</td>\n",
       "      <td>NaN</td>\n",
       "      <td>NaN</td>\n",
       "      <td>NaN</td>\n",
       "      <td>NaN</td>\n",
       "      <td>NaN</td>\n",
       "    </tr>\n",
       "  </tbody>\n",
       "</table>\n",
       "<p>1 rows × 28 columns</p>\n",
       "</div>"
      ],
      "text/plain": [
       "   Unnamed: 0  seq  applicationNumber                     inventionTitle  \\\n",
       "0           0    1      1020190000013  인공지능 통합방재 배전반 및 인공지능 통합방재 배전반 시스템   \n",
       "\n",
       "                                   inventionTitleEng  applicationDate  \\\n",
       "0  The AI unified anti-disaster panel and its system         20190101   \n",
       "\n",
       "  registerNumber registerDate registerStatus originalApplicationKind  ...  \\\n",
       "0  1020076190000     20190730             등록                      신규  ...   \n",
       "\n",
       "  applicantName                                          astrtCont  \\\n",
       "0           이승철   저압반 내부의 통합제어계전기는 턴온 이벤트만 수신될 경우, 위험경보 이벤트를 발생...   \n",
       "\n",
       "  listRndMinistriesandoffices listRndProject listRndTask listRndInstitution  \\\n",
       "0                         NaN            NaN         NaN                NaN   \n",
       "\n",
       "  listFamilycountryCode listFamilycountryName listFamilyKind listFamilyNumber  \n",
       "0                   NaN                   NaN            NaN              NaN  \n",
       "\n",
       "[1 rows x 28 columns]"
      ]
     },
     "execution_count": 6,
     "metadata": {},
     "output_type": "execute_result"
    }
   ],
   "source": [
    "patent_df.head(1)"
   ]
  },
  {
   "cell_type": "code",
   "execution_count": 8,
   "metadata": {},
   "outputs": [
    {
     "name": "stderr",
     "output_type": "stream",
     "text": [
      "100%|██████████| 2634934/2634934 [00:42<00:00, 62506.31it/s]\n"
     ]
    },
    {
     "data": {
      "text/plain": [
       "2634934"
      ]
     },
     "execution_count": 8,
     "metadata": {},
     "output_type": "execute_result"
    }
   ],
   "source": [
    "total_data_eda = []\n",
    "\n",
    "for _, data in tqdm(patent_df.iterrows(), total=len(patent_df)):\n",
    "    date = data['applicationDate']\n",
    "    year = str(date)[:4]\n",
    "    month = str(date)[4:6]\n",
    "\n",
    "    date_dict = {'date':date, 'year': year, 'month': month}\n",
    "    total_data_eda.append(date_dict)\n",
    "    \n",
    "len(total_data_eda)"
   ]
  },
  {
   "cell_type": "code",
   "execution_count": 9,
   "metadata": {},
   "outputs": [
    {
     "data": {
      "text/html": [
       "<div>\n",
       "<style scoped>\n",
       "    .dataframe tbody tr th:only-of-type {\n",
       "        vertical-align: middle;\n",
       "    }\n",
       "\n",
       "    .dataframe tbody tr th {\n",
       "        vertical-align: top;\n",
       "    }\n",
       "\n",
       "    .dataframe thead th {\n",
       "        text-align: right;\n",
       "    }\n",
       "</style>\n",
       "<table border=\"1\" class=\"dataframe\">\n",
       "  <thead>\n",
       "    <tr style=\"text-align: right;\">\n",
       "      <th></th>\n",
       "      <th>date</th>\n",
       "      <th>year</th>\n",
       "      <th>month</th>\n",
       "    </tr>\n",
       "  </thead>\n",
       "  <tbody>\n",
       "    <tr>\n",
       "      <th>0</th>\n",
       "      <td>20190101</td>\n",
       "      <td>2019</td>\n",
       "      <td>01</td>\n",
       "    </tr>\n",
       "    <tr>\n",
       "      <th>1</th>\n",
       "      <td>20190101</td>\n",
       "      <td>2019</td>\n",
       "      <td>01</td>\n",
       "    </tr>\n",
       "    <tr>\n",
       "      <th>2</th>\n",
       "      <td>20190101</td>\n",
       "      <td>2019</td>\n",
       "      <td>01</td>\n",
       "    </tr>\n",
       "    <tr>\n",
       "      <th>3</th>\n",
       "      <td>20190102</td>\n",
       "      <td>2019</td>\n",
       "      <td>01</td>\n",
       "    </tr>\n",
       "    <tr>\n",
       "      <th>4</th>\n",
       "      <td>20190102</td>\n",
       "      <td>2019</td>\n",
       "      <td>01</td>\n",
       "    </tr>\n",
       "  </tbody>\n",
       "</table>\n",
       "</div>"
      ],
      "text/plain": [
       "       date  year month\n",
       "0  20190101  2019    01\n",
       "1  20190101  2019    01\n",
       "2  20190101  2019    01\n",
       "3  20190102  2019    01\n",
       "4  20190102  2019    01"
      ]
     },
     "execution_count": 9,
     "metadata": {},
     "output_type": "execute_result"
    }
   ],
   "source": [
    "total_data_eda_df = pd.DataFrame(total_data_eda)\n",
    "total_data_eda_df.head()"
   ]
  },
  {
   "cell_type": "code",
   "execution_count": 20,
   "metadata": {},
   "outputs": [],
   "source": [
    "# 연도별 카운팅\n",
    "yearly_counts = total_data_eda_df.groupby('year').size().reset_index(name='count')\n",
    "total_count = yearly_counts['count'].sum()\n",
    "yearly_counts['percentage'] = ((yearly_counts['count'] / total_count) * 100).round(2)\n",
    "yearly_counts.to_csv(\"./data/output/kipris_yearly_data.csv\", encoding='euc-kr')"
   ]
  },
  {
   "cell_type": "code",
   "execution_count": 19,
   "metadata": {},
   "outputs": [
    {
     "data": {
      "image/png": "[encoded data removed]",
      "text/plain": [
       "<Figure size 1200x600 with 1 Axes>"
      ]
     },
     "metadata": {},
     "output_type": "display_data"
    }
   ],
   "source": [
    "import matplotlib.pyplot as plt\n",
    "\n",
    "# 시각화\n",
    "fig, ax1 = plt.subplots(figsize=(12, 6))  # 그래프 크기 확장\n",
    "\n",
    "# 막대 그래프로 카운트 시각화\n",
    "ax1.bar(yearly_counts['year'], yearly_counts['count'], color='skyblue', label='Count')\n",
    "ax1.set_xlabel(\"Year\")\n",
    "ax1.set_ylabel(\"Count\", color='blue')\n",
    "ax1.tick_params(axis='y', labelcolor='blue')\n",
    "\n",
    "# X축 눈금 간격 조정 및 레이블 회전\n",
    "step = 5  # 5년 단위로 눈금 표시\n",
    "plt.xticks(yearly_counts['year'][::step], rotation=45)\n",
    "\n",
    "# 그래프 타이틀 및 범례 설정\n",
    "plt.title(\"Yearly Counts\")\n",
    "fig.tight_layout()\n",
    "fig.legend(loc=\"upper left\", bbox_to_anchor=(0.1, 0.9))\n",
    "\n",
    "plt.show()"
   ]
  },
  {
   "cell_type": "code",
   "execution_count": null,
   "metadata": {},
   "outputs": [],
   "source": []
  }
 ],
 "metadata": {
  "kernelspec": {
   "display_name": "address",
   "language": "python",
   "name": "python3"
  },
  "language_info": {
   "codemirror_mode": {
    "name": "ipython",
    "version": 3
   },
   "file_extension": ".py",
   "mimetype": "text/x-python",
   "name": "python",
   "nbconvert_exporter": "python",
   "pygments_lexer": "ipython3",
   "version": "3.8.19"
  }
 },
 "nbformat": 4,
 "nbformat_minor": 2
}
