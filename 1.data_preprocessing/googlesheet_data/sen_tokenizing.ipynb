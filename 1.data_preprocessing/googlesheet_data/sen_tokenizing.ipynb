{
 "cells": [
  {
   "cell_type": "markdown",
   "metadata": {},
   "source": [
    "# 1. 문장 2207건 ChatGPT 입력용 데이터 만들기"
   ]
  },
  {
   "cell_type": "code",
   "execution_count": 1,
   "metadata": {},
   "outputs": [
    {
     "name": "stderr",
     "output_type": "stream",
     "text": [
      "/home/hee/anaconda3/envs/korpatE/lib/python3.8/site-packages/tqdm/auto.py:21: TqdmWarning: IProgress not found. Please update jupyter and ipywidgets. See https://ipywidgets.readthedocs.io/en/stable/user_install.html\n",
      "  from .autonotebook import tqdm as notebook_tqdm\n"
     ]
    }
   ],
   "source": [
    "import pandas as pd\n",
    "from tqdm import tqdm\n",
    "import os, sys\n",
    "sys.path.append(os.path.abspath(\"..\"))\n",
    "from Read_Data import ReadKiprisData\n",
    "from transformers import ElectraModel, ElectraTokenizer\n",
    "from typing import Dict, Tuple\n",
    "import re\n",
    "import openai\n",
    "from openai import OpenAI"
   ]
  },
  {
   "cell_type": "code",
   "execution_count": 11,
   "metadata": {},
   "outputs": [],
   "source": [
    "# path 설정\n",
    "patent_data_path = \"../data/ner_dic_ami\"\n",
    "save_path = \"../data/output\""
   ]
  },
  {
   "cell_type": "code",
   "execution_count": 12,
   "metadata": {},
   "outputs": [
    {
     "name": "stderr",
     "output_type": "stream",
     "text": [
      "  0%|          | 0/4 [00:00<?, ?it/s]"
     ]
    },
    {
     "name": "stderr",
     "output_type": "stream",
     "text": [
      "100%|██████████| 4/4 [00:00<00:00,  7.44it/s]\n"
     ]
    }
   ],
   "source": [
    "read_data = ReadKiprisData()\n",
    "data_df = read_data.run(patent_data_path)"
   ]
  },
  {
   "cell_type": "code",
   "execution_count": 13,
   "metadata": {},
   "outputs": [
    {
     "name": "stderr",
     "output_type": "stream",
     "text": [
      "Some weights of the model checkpoint at ../KIPI-KorPatELECTRA/KorPatELECTRA/PT were not used when initializing ElectraModel: ['discriminator_predictions.dense_prediction.bias', 'discriminator_predictions.dense.bias', 'discriminator_predictions.dense.weight', 'discriminator_predictions.dense_prediction.weight']\n",
      "- This IS expected if you are initializing ElectraModel from the checkpoint of a model trained on another task or with another architecture (e.g. initializing a BertForSequenceClassification model from a BertForPreTraining model).\n",
      "- This IS NOT expected if you are initializing ElectraModel from the checkpoint of a model that you expect to be exactly identical (initializing a BertForSequenceClassification model from a BertForSequenceClassification model).\n"
     ]
    }
   ],
   "source": [
    "# 모델 경로 (KIPI-KorPatELECTRA 경로 설정)\n",
    "model_path = \"../KIPI-KorPatELECTRA/KorPatELECTRA/PT\"\n",
    "\n",
    "# 토크나이저 및 모델 불러오기\n",
    "tokenizer = ElectraTokenizer.from_pretrained(model_path)\n",
    "model = ElectraModel.from_pretrained(model_path)"
   ]
  },
  {
   "cell_type": "code",
   "execution_count": 15,
   "metadata": {},
   "outputs": [
    {
     "data": {
      "text/html": [
       "<div>\n",
       "<style scoped>\n",
       "    .dataframe tbody tr th:only-of-type {\n",
       "        vertical-align: middle;\n",
       "    }\n",
       "\n",
       "    .dataframe tbody tr th {\n",
       "        vertical-align: top;\n",
       "    }\n",
       "\n",
       "    .dataframe thead th {\n",
       "        text-align: right;\n",
       "    }\n",
       "</style>\n",
       "<table border=\"1\" class=\"dataframe\">\n",
       "  <thead>\n",
       "    <tr style=\"text-align: right;\">\n",
       "      <th></th>\n",
       "      <th>문장</th>\n",
       "    </tr>\n",
       "  </thead>\n",
       "  <tbody>\n",
       "    <tr>\n",
       "      <th>0</th>\n",
       "      <td>제 1 항. 분산처리 작업 데이터를 처리하는 단말기와,상기 분산처리 작업 데이터를 ...</td>\n",
       "    </tr>\n",
       "    <tr>\n",
       "      <th>1</th>\n",
       "      <td>제 2 항. 단말기에 콘텐트 리스트를 전송하는 콘텐트 리스트 제공부와,분산처리 작업...</td>\n",
       "    </tr>\n",
       "    <tr>\n",
       "      <th>2</th>\n",
       "      <td>제 3 항. 제 2 항에 있어서, 상기 스트리밍 처리부는 상기 단말기로부터 선택된 ...</td>\n",
       "    </tr>\n",
       "    <tr>\n",
       "      <th>3</th>\n",
       "      <td>제 4 항. 제 3 항에 있어서, 상기 스트리밍 처리부는 상기 콘텐트 목록에 속한 ...</td>\n",
       "    </tr>\n",
       "    <tr>\n",
       "      <th>4</th>\n",
       "      <td>제 5 항. 제 4 항에 있어서, 상기 작업량 계산부는 상기 콘텐트의 메타 정보에 ...</td>\n",
       "    </tr>\n",
       "  </tbody>\n",
       "</table>\n",
       "</div>"
      ],
      "text/plain": [
       "                                                  문장\n",
       "0  제 1 항. 분산처리 작업 데이터를 처리하는 단말기와,상기 분산처리 작업 데이터를 ...\n",
       "1  제 2 항. 단말기에 콘텐트 리스트를 전송하는 콘텐트 리스트 제공부와,분산처리 작업...\n",
       "2  제 3 항. 제 2 항에 있어서, 상기 스트리밍 처리부는 상기 단말기로부터 선택된 ...\n",
       "3  제 4 항. 제 3 항에 있어서, 상기 스트리밍 처리부는 상기 콘텐트 목록에 속한 ...\n",
       "4  제 5 항. 제 4 항에 있어서, 상기 작업량 계산부는 상기 콘텐트의 메타 정보에 ..."
      ]
     },
     "execution_count": 15,
     "metadata": {},
     "output_type": "execute_result"
    }
   ],
   "source": [
    "# 1. 데이터 전처리\n",
    "# ex) \"1.\"\" -> \"제 1항\"\n",
    "def text_replace(text: str)-> str:\n",
    "    new_text = re.sub(r\"(\\d)\\.\", lambda match: f\"제 {match.group(1)} 항.\", text)\n",
    "    return new_text\n",
    "\n",
    "sen_df = pd.DataFrame({'문장': list(data_df['문장'].unique())})\n",
    "sen_df['문장'] = sen_df['문장'].apply(lambda sen: text_replace(sen))\n",
    "sen_df.head()"
   ]
  },
  {
   "cell_type": "code",
   "execution_count": 67,
   "metadata": {},
   "outputs": [
    {
     "name": "stderr",
     "output_type": "stream",
     "text": [
      "문장 토크나이징: 100%|██████████| 2207/2207 [00:03<00:00, 637.31it/s]\n"
     ]
    },
    {
     "data": {
      "text/html": [
       "<div>\n",
       "<style scoped>\n",
       "    .dataframe tbody tr th:only-of-type {\n",
       "        vertical-align: middle;\n",
       "    }\n",
       "\n",
       "    .dataframe tbody tr th {\n",
       "        vertical-align: top;\n",
       "    }\n",
       "\n",
       "    .dataframe thead th {\n",
       "        text-align: right;\n",
       "    }\n",
       "</style>\n",
       "<table border=\"1\" class=\"dataframe\">\n",
       "  <thead>\n",
       "    <tr style=\"text-align: right;\">\n",
       "      <th></th>\n",
       "      <th>sen</th>\n",
       "      <th>tokens</th>\n",
       "      <th>input_ids</th>\n",
       "    </tr>\n",
       "  </thead>\n",
       "  <tbody>\n",
       "    <tr>\n",
       "      <th>0</th>\n",
       "      <td>제 1 항. 분산처리 작업 데이터를 처리하는 단말기와,상기 분산처리 작업 데이터를 ...</td>\n",
       "      <td>[CLS]</td>\n",
       "      <td>2</td>\n",
       "    </tr>\n",
       "    <tr>\n",
       "      <th>1</th>\n",
       "      <td>제 1 항. 분산처리 작업 데이터를 처리하는 단말기와,상기 분산처리 작업 데이터를 ...</td>\n",
       "      <td>제</td>\n",
       "      <td>1749</td>\n",
       "    </tr>\n",
       "    <tr>\n",
       "      <th>2</th>\n",
       "      <td>제 1 항. 분산처리 작업 데이터를 처리하는 단말기와,상기 분산처리 작업 데이터를 ...</td>\n",
       "      <td>1</td>\n",
       "      <td>10</td>\n",
       "    </tr>\n",
       "    <tr>\n",
       "      <th>3</th>\n",
       "      <td>제 1 항. 분산처리 작업 데이터를 처리하는 단말기와,상기 분산처리 작업 데이터를 ...</td>\n",
       "      <td>항</td>\n",
       "      <td>2390</td>\n",
       "    </tr>\n",
       "    <tr>\n",
       "      <th>4</th>\n",
       "      <td>제 1 항. 분산처리 작업 데이터를 처리하는 단말기와,상기 분산처리 작업 데이터를 ...</td>\n",
       "      <td>.</td>\n",
       "      <td>8</td>\n",
       "    </tr>\n",
       "    <tr>\n",
       "      <th>...</th>\n",
       "      <td>...</td>\n",
       "      <td>...</td>\n",
       "      <td>...</td>\n",
       "    </tr>\n",
       "    <tr>\n",
       "      <th>141041</th>\n",
       "      <td>상기 확인부에서 확인된 사용자의 신분을 공개하는 신분 공개부를 더 포함함을 특징으로...</td>\n",
       "      <td>이동통신단말기</td>\n",
       "      <td>10854</td>\n",
       "    </tr>\n",
       "    <tr>\n",
       "      <th>141042</th>\n",
       "      <td>상기 확인부에서 확인된 사용자의 신분을 공개하는 신분 공개부를 더 포함함을 특징으로...</td>\n",
       "      <td>##의</td>\n",
       "      <td>2715</td>\n",
       "    </tr>\n",
       "    <tr>\n",
       "      <th>141043</th>\n",
       "      <td>상기 확인부에서 확인된 사용자의 신분을 공개하는 신분 공개부를 더 포함함을 특징으로...</td>\n",
       "      <td>인증</td>\n",
       "      <td>5276</td>\n",
       "    </tr>\n",
       "    <tr>\n",
       "      <th>141044</th>\n",
       "      <td>상기 확인부에서 확인된 사용자의 신분을 공개하는 신분 공개부를 더 포함함을 특징으로...</td>\n",
       "      <td>##시스템</td>\n",
       "      <td>5671</td>\n",
       "    </tr>\n",
       "    <tr>\n",
       "      <th>141045</th>\n",
       "      <td>상기 확인부에서 확인된 사용자의 신분을 공개하는 신분 공개부를 더 포함함을 특징으로...</td>\n",
       "      <td>[SEP]</td>\n",
       "      <td>3</td>\n",
       "    </tr>\n",
       "  </tbody>\n",
       "</table>\n",
       "<p>141046 rows × 3 columns</p>\n",
       "</div>"
      ],
      "text/plain": [
       "                                                      sen   tokens input_ids\n",
       "0       제 1 항. 분산처리 작업 데이터를 처리하는 단말기와,상기 분산처리 작업 데이터를 ...    [CLS]         2\n",
       "1       제 1 항. 분산처리 작업 데이터를 처리하는 단말기와,상기 분산처리 작업 데이터를 ...        제      1749\n",
       "2       제 1 항. 분산처리 작업 데이터를 처리하는 단말기와,상기 분산처리 작업 데이터를 ...        1        10\n",
       "3       제 1 항. 분산처리 작업 데이터를 처리하는 단말기와,상기 분산처리 작업 데이터를 ...        항      2390\n",
       "4       제 1 항. 분산처리 작업 데이터를 처리하는 단말기와,상기 분산처리 작업 데이터를 ...        .         8\n",
       "...                                                   ...      ...       ...\n",
       "141041  상기 확인부에서 확인된 사용자의 신분을 공개하는 신분 공개부를 더 포함함을 특징으로...  이동통신단말기     10854\n",
       "141042  상기 확인부에서 확인된 사용자의 신분을 공개하는 신분 공개부를 더 포함함을 특징으로...      ##의      2715\n",
       "141043  상기 확인부에서 확인된 사용자의 신분을 공개하는 신분 공개부를 더 포함함을 특징으로...       인증      5276\n",
       "141044  상기 확인부에서 확인된 사용자의 신분을 공개하는 신분 공개부를 더 포함함을 특징으로...    ##시스템      5671\n",
       "141045  상기 확인부에서 확인된 사용자의 신분을 공개하는 신분 공개부를 더 포함함을 특징으로...    [SEP]         3\n",
       "\n",
       "[141046 rows x 3 columns]"
      ]
     },
     "execution_count": 67,
     "metadata": {},
     "output_type": "execute_result"
    }
   ],
   "source": [
    "# 2. 확장\n",
    "def tokenizing_result(sen: str)-> Tuple[list, list]:\n",
    "    tokens = tokenizer.tokenize(sen)\n",
    "    tokens = [\"[CLS]\"] + tokens + [\"[SEP]\"]\n",
    "    input_ids = tokenizer(sen)['input_ids']\n",
    "\n",
    "    return tokens, input_ids\n",
    "\n",
    "tqdm.pandas(desc=\"문장 토크나이징\")\n",
    "\n",
    "sen_df[[\"tokens\", \"input_ids\"]] = sen_df[\"sen\"].progress_apply(\n",
    "    lambda sentence: pd.Series(tokenizing_result(sentence)))\n",
    "\n",
    "expanded_df = sen_df.explode([\"tokens\", \"input_ids\"]).reset_index(drop=True) # 리스트를 행으로 확장\n",
    "expanded_df"
   ]
  },
  {
   "cell_type": "code",
   "execution_count": null,
   "metadata": {},
   "outputs": [],
   "source": [
    "# expanded_df.to_csv(os.path.join(save_path, \"patentData_token_ids_2207.csv\"), encoding='euc-kr')"
   ]
  },
  {
   "cell_type": "code",
   "execution_count": 90,
   "metadata": {},
   "outputs": [
    {
     "name": "stderr",
     "output_type": "stream",
     "text": [
      "문장 토크나이징: 100%|██████████| 2207/2207 [00:01<00:00, 1757.56it/s]\n"
     ]
    },
    {
     "data": {
      "text/html": [
       "<div>\n",
       "<style scoped>\n",
       "    .dataframe tbody tr th:only-of-type {\n",
       "        vertical-align: middle;\n",
       "    }\n",
       "\n",
       "    .dataframe tbody tr th {\n",
       "        vertical-align: top;\n",
       "    }\n",
       "\n",
       "    .dataframe thead th {\n",
       "        text-align: right;\n",
       "    }\n",
       "</style>\n",
       "<table border=\"1\" class=\"dataframe\">\n",
       "  <thead>\n",
       "    <tr style=\"text-align: right;\">\n",
       "      <th></th>\n",
       "      <th>sen</th>\n",
       "      <th>tokens</th>\n",
       "    </tr>\n",
       "  </thead>\n",
       "  <tbody>\n",
       "    <tr>\n",
       "      <th>0</th>\n",
       "      <td>제 1 항. 분산처리 작업 데이터를 처리하는 단말기와,상기 분산처리 작업 데이터를 ...</td>\n",
       "      <td>[CLS]</td>\n",
       "    </tr>\n",
       "    <tr>\n",
       "      <th>1</th>\n",
       "      <td>제 1 항. 분산처리 작업 데이터를 처리하는 단말기와,상기 분산처리 작업 데이터를 ...</td>\n",
       "      <td>제</td>\n",
       "    </tr>\n",
       "    <tr>\n",
       "      <th>2</th>\n",
       "      <td>제 1 항. 분산처리 작업 데이터를 처리하는 단말기와,상기 분산처리 작업 데이터를 ...</td>\n",
       "      <td>1</td>\n",
       "    </tr>\n",
       "    <tr>\n",
       "      <th>3</th>\n",
       "      <td>제 1 항. 분산처리 작업 데이터를 처리하는 단말기와,상기 분산처리 작업 데이터를 ...</td>\n",
       "      <td>항</td>\n",
       "    </tr>\n",
       "    <tr>\n",
       "      <th>4</th>\n",
       "      <td>제 1 항. 분산처리 작업 데이터를 처리하는 단말기와,상기 분산처리 작업 데이터를 ...</td>\n",
       "      <td>.</td>\n",
       "    </tr>\n",
       "    <tr>\n",
       "      <th>...</th>\n",
       "      <td>...</td>\n",
       "      <td>...</td>\n",
       "    </tr>\n",
       "    <tr>\n",
       "      <th>141041</th>\n",
       "      <td>상기 확인부에서 확인된 사용자의 신분을 공개하는 신분 공개부를 더 포함함을 특징으로...</td>\n",
       "      <td>이동통신단말기</td>\n",
       "    </tr>\n",
       "    <tr>\n",
       "      <th>141042</th>\n",
       "      <td>상기 확인부에서 확인된 사용자의 신분을 공개하는 신분 공개부를 더 포함함을 특징으로...</td>\n",
       "      <td>##의</td>\n",
       "    </tr>\n",
       "    <tr>\n",
       "      <th>141043</th>\n",
       "      <td>상기 확인부에서 확인된 사용자의 신분을 공개하는 신분 공개부를 더 포함함을 특징으로...</td>\n",
       "      <td>인증</td>\n",
       "    </tr>\n",
       "    <tr>\n",
       "      <th>141044</th>\n",
       "      <td>상기 확인부에서 확인된 사용자의 신분을 공개하는 신분 공개부를 더 포함함을 특징으로...</td>\n",
       "      <td>##시스템</td>\n",
       "    </tr>\n",
       "    <tr>\n",
       "      <th>141045</th>\n",
       "      <td>상기 확인부에서 확인된 사용자의 신분을 공개하는 신분 공개부를 더 포함함을 특징으로...</td>\n",
       "      <td>[SEP]</td>\n",
       "    </tr>\n",
       "  </tbody>\n",
       "</table>\n",
       "<p>141046 rows × 2 columns</p>\n",
       "</div>"
      ],
      "text/plain": [
       "                                                      sen   tokens\n",
       "0       제 1 항. 분산처리 작업 데이터를 처리하는 단말기와,상기 분산처리 작업 데이터를 ...    [CLS]\n",
       "1       제 1 항. 분산처리 작업 데이터를 처리하는 단말기와,상기 분산처리 작업 데이터를 ...        제\n",
       "2       제 1 항. 분산처리 작업 데이터를 처리하는 단말기와,상기 분산처리 작업 데이터를 ...        1\n",
       "3       제 1 항. 분산처리 작업 데이터를 처리하는 단말기와,상기 분산처리 작업 데이터를 ...        항\n",
       "4       제 1 항. 분산처리 작업 데이터를 처리하는 단말기와,상기 분산처리 작업 데이터를 ...        .\n",
       "...                                                   ...      ...\n",
       "141041  상기 확인부에서 확인된 사용자의 신분을 공개하는 신분 공개부를 더 포함함을 특징으로...  이동통신단말기\n",
       "141042  상기 확인부에서 확인된 사용자의 신분을 공개하는 신분 공개부를 더 포함함을 특징으로...      ##의\n",
       "141043  상기 확인부에서 확인된 사용자의 신분을 공개하는 신분 공개부를 더 포함함을 특징으로...       인증\n",
       "141044  상기 확인부에서 확인된 사용자의 신분을 공개하는 신분 공개부를 더 포함함을 특징으로...    ##시스템\n",
       "141045  상기 확인부에서 확인된 사용자의 신분을 공개하는 신분 공개부를 더 포함함을 특징으로...    [SEP]\n",
       "\n",
       "[141046 rows x 2 columns]"
      ]
     },
     "execution_count": 90,
     "metadata": {},
     "output_type": "execute_result"
    }
   ],
   "source": [
    "def tokenizing_result(sen: str)-> Tuple[list, list]:\n",
    "    tokens = tokenizer.tokenize(sen)\n",
    "    tokens = [\"[CLS]\"] + tokens + [\"[SEP]\"]\n",
    "\n",
    "    return tokens\n",
    "\n",
    "tqdm.pandas(desc=\"문장 토크나이징\")\n",
    "\n",
    "sen_df[\"tokens\"] = sen_df[\"sen\"].progress_apply(\n",
    "    lambda sentence:tokenizing_result(sentence))\n",
    "\n",
    "expanded_df2 = sen_df.explode(\"tokens\").reset_index(drop=True) # 리스트를 행으로 확장\n",
    "expanded_df2"
   ]
  },
  {
   "cell_type": "code",
   "execution_count": 93,
   "metadata": {},
   "outputs": [
    {
     "data": {
      "text/html": [
       "<div>\n",
       "<style scoped>\n",
       "    .dataframe tbody tr th:only-of-type {\n",
       "        vertical-align: middle;\n",
       "    }\n",
       "\n",
       "    .dataframe tbody tr th {\n",
       "        vertical-align: top;\n",
       "    }\n",
       "\n",
       "    .dataframe thead th {\n",
       "        text-align: right;\n",
       "    }\n",
       "</style>\n",
       "<table border=\"1\" class=\"dataframe\">\n",
       "  <thead>\n",
       "    <tr style=\"text-align: right;\">\n",
       "      <th></th>\n",
       "      <th>sen</th>\n",
       "      <th>tokens</th>\n",
       "      <th>sen_idx</th>\n",
       "    </tr>\n",
       "  </thead>\n",
       "  <tbody>\n",
       "    <tr>\n",
       "      <th>0</th>\n",
       "      <td>제 1 항. 분산처리 작업 데이터를 처리하는 단말기와,상기 분산처리 작업 데이터를 ...</td>\n",
       "      <td>[CLS]</td>\n",
       "      <td>1402</td>\n",
       "    </tr>\n",
       "    <tr>\n",
       "      <th>1</th>\n",
       "      <td>제 1 항. 분산처리 작업 데이터를 처리하는 단말기와,상기 분산처리 작업 데이터를 ...</td>\n",
       "      <td>제</td>\n",
       "      <td>1402</td>\n",
       "    </tr>\n",
       "    <tr>\n",
       "      <th>2</th>\n",
       "      <td>제 1 항. 분산처리 작업 데이터를 처리하는 단말기와,상기 분산처리 작업 데이터를 ...</td>\n",
       "      <td>1</td>\n",
       "      <td>1402</td>\n",
       "    </tr>\n",
       "    <tr>\n",
       "      <th>3</th>\n",
       "      <td>제 1 항. 분산처리 작업 데이터를 처리하는 단말기와,상기 분산처리 작업 데이터를 ...</td>\n",
       "      <td>항</td>\n",
       "      <td>1402</td>\n",
       "    </tr>\n",
       "    <tr>\n",
       "      <th>4</th>\n",
       "      <td>제 1 항. 분산처리 작업 데이터를 처리하는 단말기와,상기 분산처리 작업 데이터를 ...</td>\n",
       "      <td>.</td>\n",
       "      <td>1402</td>\n",
       "    </tr>\n",
       "    <tr>\n",
       "      <th>...</th>\n",
       "      <td>...</td>\n",
       "      <td>...</td>\n",
       "      <td>...</td>\n",
       "    </tr>\n",
       "    <tr>\n",
       "      <th>141041</th>\n",
       "      <td>상기 확인부에서 확인된 사용자의 신분을 공개하는 신분 공개부를 더 포함함을 특징으로...</td>\n",
       "      <td>이동통신단말기</td>\n",
       "      <td>1293</td>\n",
       "    </tr>\n",
       "    <tr>\n",
       "      <th>141042</th>\n",
       "      <td>상기 확인부에서 확인된 사용자의 신분을 공개하는 신분 공개부를 더 포함함을 특징으로...</td>\n",
       "      <td>##의</td>\n",
       "      <td>1293</td>\n",
       "    </tr>\n",
       "    <tr>\n",
       "      <th>141043</th>\n",
       "      <td>상기 확인부에서 확인된 사용자의 신분을 공개하는 신분 공개부를 더 포함함을 특징으로...</td>\n",
       "      <td>인증</td>\n",
       "      <td>1293</td>\n",
       "    </tr>\n",
       "    <tr>\n",
       "      <th>141044</th>\n",
       "      <td>상기 확인부에서 확인된 사용자의 신분을 공개하는 신분 공개부를 더 포함함을 특징으로...</td>\n",
       "      <td>##시스템</td>\n",
       "      <td>1293</td>\n",
       "    </tr>\n",
       "    <tr>\n",
       "      <th>141045</th>\n",
       "      <td>상기 확인부에서 확인된 사용자의 신분을 공개하는 신분 공개부를 더 포함함을 특징으로...</td>\n",
       "      <td>[SEP]</td>\n",
       "      <td>1293</td>\n",
       "    </tr>\n",
       "  </tbody>\n",
       "</table>\n",
       "<p>141046 rows × 3 columns</p>\n",
       "</div>"
      ],
      "text/plain": [
       "                                                      sen   tokens  sen_idx\n",
       "0       제 1 항. 분산처리 작업 데이터를 처리하는 단말기와,상기 분산처리 작업 데이터를 ...    [CLS]     1402\n",
       "1       제 1 항. 분산처리 작업 데이터를 처리하는 단말기와,상기 분산처리 작업 데이터를 ...        제     1402\n",
       "2       제 1 항. 분산처리 작업 데이터를 처리하는 단말기와,상기 분산처리 작업 데이터를 ...        1     1402\n",
       "3       제 1 항. 분산처리 작업 데이터를 처리하는 단말기와,상기 분산처리 작업 데이터를 ...        항     1402\n",
       "4       제 1 항. 분산처리 작업 데이터를 처리하는 단말기와,상기 분산처리 작업 데이터를 ...        .     1402\n",
       "...                                                   ...      ...      ...\n",
       "141041  상기 확인부에서 확인된 사용자의 신분을 공개하는 신분 공개부를 더 포함함을 특징으로...  이동통신단말기     1293\n",
       "141042  상기 확인부에서 확인된 사용자의 신분을 공개하는 신분 공개부를 더 포함함을 특징으로...      ##의     1293\n",
       "141043  상기 확인부에서 확인된 사용자의 신분을 공개하는 신분 공개부를 더 포함함을 특징으로...       인증     1293\n",
       "141044  상기 확인부에서 확인된 사용자의 신분을 공개하는 신분 공개부를 더 포함함을 특징으로...    ##시스템     1293\n",
       "141045  상기 확인부에서 확인된 사용자의 신분을 공개하는 신분 공개부를 더 포함함을 특징으로...    [SEP]     1293\n",
       "\n",
       "[141046 rows x 3 columns]"
      ]
     },
     "execution_count": 93,
     "metadata": {},
     "output_type": "execute_result"
    }
   ],
   "source": [
    "# 문장 번호 추가 \n",
    "expanded_df2['sen_idx'] = expanded_df2.groupby('sen').ngroup()\n",
    "expanded_df2"
   ]
  },
  {
   "cell_type": "code",
   "execution_count": 16,
   "metadata": {},
   "outputs": [
    {
     "data": {
      "text/html": [
       "<div>\n",
       "<style scoped>\n",
       "    .dataframe tbody tr th:only-of-type {\n",
       "        vertical-align: middle;\n",
       "    }\n",
       "\n",
       "    .dataframe tbody tr th {\n",
       "        vertical-align: top;\n",
       "    }\n",
       "\n",
       "    .dataframe thead th {\n",
       "        text-align: right;\n",
       "    }\n",
       "</style>\n",
       "<table border=\"1\" class=\"dataframe\">\n",
       "  <thead>\n",
       "    <tr style=\"text-align: right;\">\n",
       "      <th></th>\n",
       "      <th>문장</th>\n",
       "      <th>토큰</th>\n",
       "    </tr>\n",
       "  </thead>\n",
       "  <tbody>\n",
       "    <tr>\n",
       "      <th>0</th>\n",
       "      <td>제 1 항. 분산처리 작업 데이터를 처리하는 단말기와,상기 분산처리 작업 데이터를 ...</td>\n",
       "      <td>[CLS], 제, 1, 항, ., 분산, ##처리, 작업, 데이터, ##를, 처리,...</td>\n",
       "    </tr>\n",
       "    <tr>\n",
       "      <th>1</th>\n",
       "      <td>제 2 항. 단말기에 콘텐트 리스트를 전송하는 콘텐트 리스트 제공부와,분산처리 작업...</td>\n",
       "      <td>[CLS], 제, 2, 항, ., 단말기, ##에, 콘텐트, 리스트, ##를, 전송...</td>\n",
       "    </tr>\n",
       "    <tr>\n",
       "      <th>2</th>\n",
       "      <td>제 3 항. 제 2 항에 있어서, 상기 스트리밍 처리부는 상기 단말기로부터 선택된 ...</td>\n",
       "      <td>[CLS], 제, 3, 항, ., 제, 2, 항, ##에, 있, ##어서, ,, 상...</td>\n",
       "    </tr>\n",
       "    <tr>\n",
       "      <th>3</th>\n",
       "      <td>제 4 항. 제 3 항에 있어서, 상기 스트리밍 처리부는 상기 콘텐트 목록에 속한 ...</td>\n",
       "      <td>[CLS], 제, 4, 항, ., 제, 3, 항, ##에, 있, ##어서, ,, 상...</td>\n",
       "    </tr>\n",
       "    <tr>\n",
       "      <th>4</th>\n",
       "      <td>제 5 항. 제 4 항에 있어서, 상기 작업량 계산부는 상기 콘텐트의 메타 정보에 ...</td>\n",
       "      <td>[CLS], 제, 5, 항, ., 제, 4, 항, ##에, 있, ##어서, ,, 상...</td>\n",
       "    </tr>\n",
       "    <tr>\n",
       "      <th>...</th>\n",
       "      <td>...</td>\n",
       "      <td>...</td>\n",
       "    </tr>\n",
       "    <tr>\n",
       "      <th>2202</th>\n",
       "      <td>상기 그룹 비밀 키 발생부의 그룹 비밀 키로부터 이동통신단말기가 인증을 위해 그룹 ...</td>\n",
       "      <td>[CLS], 상기, 그룹, 비밀, 키, 발생부, ##의, 그룹, 비밀, 키로, ##...</td>\n",
       "    </tr>\n",
       "    <tr>\n",
       "      <th>2203</th>\n",
       "      <td>상기 홈 네트워크 상의 가전기기(ex. 디지털TV...)를 원격제어 하기 위해 이동...</td>\n",
       "      <td>[CLS], 상기, 홈, 네트워크, 상의, 가전기기, (, ex, ., 디지털, #...</td>\n",
       "    </tr>\n",
       "    <tr>\n",
       "      <th>2204</th>\n",
       "      <td>제 5 항. 제 4항에 있어서, 상기 홈 네트워크의 사용 중 문제가 발생 시 상기 ...</td>\n",
       "      <td>[CLS], 제, 5, 항, ., 제, 4, ##항, ##에, 있, ##어서, ,,...</td>\n",
       "    </tr>\n",
       "    <tr>\n",
       "      <th>2205</th>\n",
       "      <td>상기 그룹 공개 키 수집부에서 수집된 그룹 공개 키에서 각각의 서명을 확인하여 분실...</td>\n",
       "      <td>[CLS], 상기, 그룹, 공개, 키, 수집부, ##에, ##서, 수집, ##된, ...</td>\n",
       "    </tr>\n",
       "    <tr>\n",
       "      <th>2206</th>\n",
       "      <td>상기 확인부에서 확인된 사용자의 신분을 공개하는 신분 공개부를 더 포함함을 특징으로...</td>\n",
       "      <td>[CLS], 상기, 확인부, ##에, ##서, 확인, ##된, 사용자, ##의, 신...</td>\n",
       "    </tr>\n",
       "  </tbody>\n",
       "</table>\n",
       "<p>2207 rows × 2 columns</p>\n",
       "</div>"
      ],
      "text/plain": [
       "                                                     문장  \\\n",
       "0     제 1 항. 분산처리 작업 데이터를 처리하는 단말기와,상기 분산처리 작업 데이터를 ...   \n",
       "1     제 2 항. 단말기에 콘텐트 리스트를 전송하는 콘텐트 리스트 제공부와,분산처리 작업...   \n",
       "2     제 3 항. 제 2 항에 있어서, 상기 스트리밍 처리부는 상기 단말기로부터 선택된 ...   \n",
       "3     제 4 항. 제 3 항에 있어서, 상기 스트리밍 처리부는 상기 콘텐트 목록에 속한 ...   \n",
       "4     제 5 항. 제 4 항에 있어서, 상기 작업량 계산부는 상기 콘텐트의 메타 정보에 ...   \n",
       "...                                                 ...   \n",
       "2202  상기 그룹 비밀 키 발생부의 그룹 비밀 키로부터 이동통신단말기가 인증을 위해 그룹 ...   \n",
       "2203  상기 홈 네트워크 상의 가전기기(ex. 디지털TV...)를 원격제어 하기 위해 이동...   \n",
       "2204  제 5 항. 제 4항에 있어서, 상기 홈 네트워크의 사용 중 문제가 발생 시 상기 ...   \n",
       "2205  상기 그룹 공개 키 수집부에서 수집된 그룹 공개 키에서 각각의 서명을 확인하여 분실...   \n",
       "2206  상기 확인부에서 확인된 사용자의 신분을 공개하는 신분 공개부를 더 포함함을 특징으로...   \n",
       "\n",
       "                                                     토큰  \n",
       "0     [CLS], 제, 1, 항, ., 분산, ##처리, 작업, 데이터, ##를, 처리,...  \n",
       "1     [CLS], 제, 2, 항, ., 단말기, ##에, 콘텐트, 리스트, ##를, 전송...  \n",
       "2     [CLS], 제, 3, 항, ., 제, 2, 항, ##에, 있, ##어서, ,, 상...  \n",
       "3     [CLS], 제, 4, 항, ., 제, 3, 항, ##에, 있, ##어서, ,, 상...  \n",
       "4     [CLS], 제, 5, 항, ., 제, 4, 항, ##에, 있, ##어서, ,, 상...  \n",
       "...                                                 ...  \n",
       "2202  [CLS], 상기, 그룹, 비밀, 키, 발생부, ##의, 그룹, 비밀, 키로, ##...  \n",
       "2203  [CLS], 상기, 홈, 네트워크, 상의, 가전기기, (, ex, ., 디지털, #...  \n",
       "2204  [CLS], 제, 5, 항, ., 제, 4, ##항, ##에, 있, ##어서, ,,...  \n",
       "2205  [CLS], 상기, 그룹, 공개, 키, 수집부, ##에, ##서, 수집, ##된, ...  \n",
       "2206  [CLS], 상기, 확인부, ##에, ##서, 확인, ##된, 사용자, ##의, 신...  \n",
       "\n",
       "[2207 rows x 2 columns]"
      ]
     },
     "execution_count": 16,
     "metadata": {},
     "output_type": "execute_result"
    }
   ],
   "source": [
    "def tokenizing_result(sen: str)-> Tuple[list, list]:\n",
    "    tokens = tokenizer.tokenize(sen)\n",
    "    tokens = [\"[CLS]\"] + tokens + [\"[SEP]\"]\n",
    "\n",
    "    return \", \".join(token for token in tokens)\n",
    "\n",
    "sen_df['토큰'] = sen_df['문장'].apply(lambda data: tokenizing_result(data))\n",
    "sen_df"
   ]
  },
  {
   "cell_type": "code",
   "execution_count": 17,
   "metadata": {},
   "outputs": [],
   "source": [
    "sen_df.to_csv(os.path.join(save_path, \"patentData_2207_v3.csv\"), encoding='euc-kr')"
   ]
  },
  {
   "cell_type": "code",
   "execution_count": 97,
   "metadata": {},
   "outputs": [],
   "source": [
    "# expanded_df2.to_csv(\"patentData_token_idx_2207.csv\", encoding='euc-kr')"
   ]
  },
  {
   "cell_type": "markdown",
   "metadata": {},
   "source": [
    "## 2. ChatGPT API 쓰기"
   ]
  },
  {
   "cell_type": "code",
   "execution_count": 7,
   "metadata": {},
   "outputs": [
    {
     "name": "stdout",
     "output_type": "stream",
     "text": [
      "Requirement already satisfied: openai in /home/hee/anaconda3/envs/korpatE/lib/python3.8/site-packages (1.59.7)\n",
      "Requirement already satisfied: anyio<5,>=3.5.0 in /home/hee/anaconda3/envs/korpatE/lib/python3.8/site-packages (from openai) (4.5.2)\n",
      "Requirement already satisfied: distro<2,>=1.7.0 in /home/hee/anaconda3/envs/korpatE/lib/python3.8/site-packages (from openai) (1.9.0)\n",
      "Requirement already satisfied: httpx<1,>=0.23.0 in /home/hee/anaconda3/envs/korpatE/lib/python3.8/site-packages (from openai) (0.28.1)\n",
      "Requirement already satisfied: jiter<1,>=0.4.0 in /home/hee/anaconda3/envs/korpatE/lib/python3.8/site-packages (from openai) (0.8.2)\n",
      "Requirement already satisfied: pydantic<3,>=1.9.0 in /home/hee/anaconda3/envs/korpatE/lib/python3.8/site-packages (from openai) (2.10.5)\n",
      "Requirement already satisfied: sniffio in /home/hee/anaconda3/envs/korpatE/lib/python3.8/site-packages (from openai) (1.3.1)\n",
      "Requirement already satisfied: tqdm>4 in /home/hee/anaconda3/envs/korpatE/lib/python3.8/site-packages (from openai) (4.66.5)\n",
      "Requirement already satisfied: typing-extensions<5,>=4.11 in /home/hee/anaconda3/envs/korpatE/lib/python3.8/site-packages (from openai) (4.12.2)\n",
      "Requirement already satisfied: idna>=2.8 in /home/hee/anaconda3/envs/korpatE/lib/python3.8/site-packages (from anyio<5,>=3.5.0->openai) (3.7)\n",
      "Requirement already satisfied: exceptiongroup>=1.0.2 in /home/hee/anaconda3/envs/korpatE/lib/python3.8/site-packages (from anyio<5,>=3.5.0->openai) (1.2.2)\n",
      "Requirement already satisfied: certifi in /home/hee/anaconda3/envs/korpatE/lib/python3.8/site-packages (from httpx<1,>=0.23.0->openai) (2024.8.30)\n",
      "Requirement already satisfied: httpcore==1.* in /home/hee/anaconda3/envs/korpatE/lib/python3.8/site-packages (from httpx<1,>=0.23.0->openai) (1.0.7)\n",
      "Requirement already satisfied: h11<0.15,>=0.13 in /home/hee/anaconda3/envs/korpatE/lib/python3.8/site-packages (from httpcore==1.*->httpx<1,>=0.23.0->openai) (0.14.0)\n",
      "Requirement already satisfied: annotated-types>=0.6.0 in /home/hee/anaconda3/envs/korpatE/lib/python3.8/site-packages (from pydantic<3,>=1.9.0->openai) (0.7.0)\n",
      "Requirement already satisfied: pydantic-core==2.27.2 in /home/hee/anaconda3/envs/korpatE/lib/python3.8/site-packages (from pydantic<3,>=1.9.0->openai) (2.27.2)\n"
     ]
    }
   ],
   "source": [
    "!pip install openai"
   ]
  },
  {
   "cell_type": "code",
   "execution_count": 20,
   "metadata": {},
   "outputs": [
    {
     "name": "stdout",
     "output_type": "stream",
     "text": [
      "특허 전문가로서 특허 청구항 일부인 아래 문장과 토큰을 보고, 특허 도메인에서 유의미한 값을 갖는 개체명을 찾아줘. 유의미한 개체명이 없는 경우 <None>이라고 답변해줘.\n",
      "문장:제 1 항. 분산처리 작업 데이터를 처리하는 단말기와,상기 분산처리 작업 데이터를 상기 단말기에 할당하여 분산처리 작업을 요청하는 분산처리 작업관리 장치를 포함하며,상기 분산처리 작업관리 장치는, 상기 분산처리 작업의 대가로 상기 단말기에 제공되는 콘텐트의 재생시간 및 상기 단말기에서 상기 콘텐트의 재생에 필요한 자원량을 기초로 계산된 상기 단말기의 유휴 자원량을 이용하여, 상기 단말기의 분산처리 가능 작업량을 계산하고, 상기 계산된 분산처리 가능 작업량에 따른 분산처리 작업 데이터를 상기 단말기에 할당하는 것을 특징으로 하는 분산 컴퓨팅 제공 시스템\n",
      "토큰:[CLS], 제, 1, 항, ., 분산, ##처리, 작업, 데이터, ##를, 처리, ##하, ##는, 단말기, ##와, ,, 상기, 분산, ##처리, 작업, 데이터, ##를, 상기, 단말기, ##에, 할당, ##하여, 분산, ##처리, 작업, ##을, 요청, ##하, ##는, 분산, ##처리, 작업, ##관리, 장치, ##를, 포함, ##하, ##며, ,, 상기, 분산, ##처리, 작업, ##관리, 장치, ##는, ,, 상기, 분산, ##처리, 작업, ##의, 대가, ##로, 상기, 단말기, ##에, 제공, ##되, ##는, 콘텐트, ##의, 재생시, ##간, 및, 상기, 단말기, ##에, ##서, 상기, 콘텐트, ##의, 재생, ##에, 필요, ##한, 자원, ##량, ##을, 기초, ##로, 계산, ##된, 상기, 단말기, ##의, 유휴, 자원, ##량, ##을, 이용, ##하여, ,, 상기, 단말기, ##의, 분산, ##처리, 가능, 작업, ##량, ##을, 계산, ##하, ##고, ,, 상기, 계산, ##된, 분산, ##처리, 가능, 작업, ##량, ##에, 따른, 분산, ##처리, 작업, 데이터, ##를, 상기, 단말기, ##에, 할당, ##하, ##는, 것, ##을, 특징, ##으로, 하, ##는, 분산, 컴퓨팅, 제공, 시스템, [SEP]\n"
     ]
    }
   ],
   "source": [
    "def tokenizing_result(sen: str)-> Tuple[list, list]:\n",
    "    tokens = tokenizer.tokenize(sen)\n",
    "    tokens = [\"[CLS]\"] + tokens + [\"[SEP]\"]\n",
    "\n",
    "    return \", \".join(token for token in tokens)\n",
    "\n",
    "def create_query(sen: str, tokens: str)-> str:\n",
    "    base_query = \"특허 전문가로서 특허 청구항 일부인 아래 문장과 토큰을 보고, 특허 도메인에서 유의미한 값을 갖는 개체명을 찾아줘. 유의미한 개체명이 없는 경우 <None>이라고 답변해줘.\"\n",
    "    result_query = f'{base_query}\\n문장:{sen}\\n토큰:{tokens}'\n",
    "    return result_query\n",
    "\n",
    "sen_df2 = sen_df.copy()\n",
    "sen_df2['token'] = None; sen_df2['entity'] = None\n",
    "\n",
    "for idx, row in sen_df.iterrows():\n",
    "    sentence=row['sen']\n",
    "    tokens = tokenizing_result(sentence)\n",
    "    sen_df2.loc[idx, 'tokens'] = \", \".join(token for token in tokens)\n",
    "    query = create_query(sentence, tokens)\n",
    "\n",
    "    break\n",
    "print(query)"
   ]
  },
  {
   "cell_type": "code",
   "execution_count": 7,
   "metadata": {},
   "outputs": [],
   "source": [
    "from dotenv import load_dotenv\n",
    "import os, openai\n",
    "load_dotenv()\n",
    "api_key = os.getenv(\"GPT_API_KEY\")"
   ]
  },
  {
   "cell_type": "code",
   "execution_count": 9,
   "metadata": {},
   "outputs": [
    {
     "data": {
      "text/plain": [
       "ChatCompletion(id='chatcmpl-AreTpztN6G6ZdTl4bAxYFtlx69n9u', choices=[Choice(finish_reason='stop', index=0, logprobs=None, message=ChatCompletionMessage(content='가이드이미지, 가이드생성부, 가이드제공부, 가이드제공모듈, 질문입력모듈, 실시간 메이크업 진단 및 질의응답 서비스 제공 시스템', refusal=None, role='assistant', audio=None, function_call=None, tool_calls=None))], created=1737350353, model='gpt-4o-2024-08-06', object='chat.completion', service_tier='default', system_fingerprint='fp_50cad350e4', usage=CompletionUsage(completion_tokens=48, prompt_tokens=568, total_tokens=616, completion_tokens_details=CompletionTokensDetails(accepted_prediction_tokens=0, audio_tokens=0, reasoning_tokens=0, rejected_prediction_tokens=0), prompt_tokens_details=PromptTokensDetails(audio_tokens=0, cached_tokens=0)))"
      ]
     },
     "execution_count": 9,
     "metadata": {},
     "output_type": "execute_result"
    }
   ],
   "source": [
    "openai.api_key = api_key\n",
    "\n",
    "model = 'gpt-4o'\n",
    "query = '''너는 대한민국에서 가장 유능한 특허 전문가야. 특허 전문가로서 특허 청구항 일부인 아래 문장과 토큰을 보고, 특허 도메인에서 유의미한 값을 갖는 개체명을 찾아줘. 유의미한 개체명이 없는 경우 <None>이라고 답변해줘. 출력은 설명없이 개체명만 \", \"로 이어서 출력해줘.\n",
    "문장 : 제 1항에 있어서,상기 시스템은,상기 촬영이미지에 대한 가이드이미지를 생성하는 가이드생성부 및,상기 가이드이미지를 상기 유저에게 제공하는 가이드제공부를 포함하는 가이드제공모듈;을 더 포함하며,상기 질문입력모듈은,상기 가이드이미지를 제공받은 상기 유저로부터 상기 유저의 안면부를 촬영한 적어도 하나 이상의 촬영이미지 및 관련질문을 입력받는 것을 특징으로 하는, 실시간 메이크업 진단 및 질의응답 서비스 제공 시스템.\t\n",
    "토큰 : [CLS], 제, 1, ##항, ##에, 있, ##어서, ,, 상기, 시스템, ##은, ,, 상기, 촬영, ##이미지, ##에, 대한, 가이드, ##이미지, ##를, 생성, ##하, ##는, 가이드, ##생성부, 및, ,, 상기, 가이드, ##이미지, ##를, 상기, 유저, ##에, ##게, 제공, ##하, ##는, 가이드, ##제공부, ##를, 포함, ##하, ##는, 가이드, ##제공, ##모듈, [UNK], 을, 더, 포함, ##하, ##며, ,, 상기, 질문, ##입력, ##모듈, ##은, ,, 상기, 가이드, ##이미지, ##를, 제공, ##받, ##은, 상기, 유저, ##로, ##부터, 상기, 유저, ##의, 안면, ##부, ##를, 촬영, ##한, 적어도, 하나, 이상, ##의, 촬영, ##이미지, 및, 관련, ##질, ##문, ##을, 입력, ##받, ##는, 것, ##을, 특징, ##으로, 하, ##는, ,, 실시간, 메이크업, 진단, 및, 질의, ##응답, 서비스, 제공, 시스템, ., [SEP]\n",
    "'''\n",
    "\n",
    "# 메시지 설정하기\n",
    "messages = [{\n",
    "    \"role\": \"system\",\n",
    "    \"content\": \"You are the nation's top patent expert.\"\n",
    "}, {\n",
    "    \"role\": \"user\",\n",
    "    \"content\": query\n",
    "}]\n",
    "\n",
    "response = openai.chat.completions.create(\n",
    "    messages=messages,\n",
    "    model=model,\n",
    "    temperature=0.1  \n",
    ")\n",
    "response"
   ]
  },
  {
   "cell_type": "code",
   "execution_count": 10,
   "metadata": {},
   "outputs": [
    {
     "name": "stdout",
     "output_type": "stream",
     "text": [
      "가이드이미지, 가이드생성부, 가이드제공부, 가이드제공모듈, 질문입력모듈, 실시간 메이크업 진단 및 질의응답 서비스 제공 시스템\n"
     ]
    }
   ],
   "source": [
    "answer = response.choices[0].message.content\n",
    "print(answer)"
   ]
  },
  {
   "cell_type": "code",
   "execution_count": null,
   "metadata": {},
   "outputs": [],
   "source": []
  }
 ],
 "metadata": {
  "kernelspec": {
   "display_name": "korpatE",
   "language": "python",
   "name": "python3"
  },
  "language_info": {
   "codemirror_mode": {
    "name": "ipython",
    "version": 3
   },
   "file_extension": ".py",
   "mimetype": "text/x-python",
   "name": "python",
   "nbconvert_exporter": "python",
   "pygments_lexer": "ipython3",
   "version": "3.8.0"
  }
 },
 "nbformat": 4,
 "nbformat_minor": 2
}
