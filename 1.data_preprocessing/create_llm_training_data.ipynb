{
 "cells": [
  {
   "cell_type": "markdown",
   "metadata": {},
   "source": [
    "# LLM 입력용 데이터 생성"
   ]
  },
  {
   "cell_type": "code",
   "execution_count": 5,
   "metadata": {},
   "outputs": [],
   "source": [
    "import os, sys\n",
    "from tqdm import tqdm\n",
    "sys.path.append(os.path.abspath(\"..\"))\n",
    "from functions import *"
   ]
  },
  {
   "cell_type": "code",
   "execution_count": null,
   "metadata": {},
   "outputs": [
    {
     "name": "stderr",
     "output_type": "stream",
     "text": [
      "../functions.py:10: DtypeWarning: Columns (10,20,21,22,23) have mixed types. Specify dtype option on import or set low_memory=False.\n",
      "  df = pd.read_csv(path)\n"
     ]
    },
    {
     "data": {
      "text/plain": [
       "(2640867, 2634934)"
      ]
     },
     "execution_count": 4,
     "metadata": {},
     "output_type": "execute_result"
    }
   ],
   "source": [
    "# 1. 데이터 읽어오기\n",
    "data_path = \"../data/kipris_ami\"\n",
    "\n",
    "for filename in tqdm(os.listdir(data_path)):\n",
    "    if \"claim\" in filename:\n",
    "        claim_df = read_csv(os.path.join(data_path, filename))\n",
    "    else:\n",
    "        main_df = read_csv(os.path.join(data_path, filename))\n",
    "\n",
    "len(claim_df), len(main_df)"
   ]
  },
  {
   "cell_type": "code",
   "execution_count": null,
   "metadata": {},
   "outputs": [
    {
     "name": "stderr",
     "output_type": "stream",
     "text": [
      "100%|██████████| 2634934/2634934 [03:41<00:00, 11884.40it/s]\n"
     ]
    }
   ],
   "source": [
    "# # 2. G섹션 데이터 통계내고, 섹션 선택\n",
    "# cpc_dict = {}\n",
    "# errorData = []\n",
    "\n",
    "# for _, data in tqdm(main_df.iterrows(), total=len(main_df)):\n",
    "#     try:\n",
    "#         cpc_str = data['listCPC']  # None값인 경우도 있음\n",
    "#         cpc_str = cpc_str.replace(\"[\", \"\"); cpc_str = cpc_str.replace(\"]\", \"\")\n",
    "#     except AttributeError:\n",
    "#         continue\n",
    "#     except Exception as e:\n",
    "#         errorData.append([data['applicationNumber'], e])\n",
    "\n",
    "#     cpc_list = [cpc.strip() for cpc in cpc_str.split(\",\")]\n",
    "#     split_cpc_list = [cpc[:4] for cpc in cpc_list]\n",
    "\n",
    "#     for cpc in set(split_cpc_list):\n",
    "#         if cpc[0] == 'G':\n",
    "#             if cpc not in cpc_dict: cpc_dict[cpc] = 1\n",
    "#             else: cpc_dict[cpc]+=1"
   ]
  },
  {
   "cell_type": "code",
   "execution_count": 33,
   "metadata": {},
   "outputs": [
    {
     "data": {
      "text/plain": [
       "118"
      ]
     },
     "execution_count": 33,
     "metadata": {},
     "output_type": "execute_result"
    }
   ],
   "source": [
    "cpc_dict['G16Y']  # G:물리학. 사물 인터넷 [IoT]에 특히 적합한 정보 및 통신 기술"
   ]
  },
  {
   "cell_type": "code",
   "execution_count": 36,
   "metadata": {},
   "outputs": [
    {
     "data": {
      "text/plain": [
       "0"
      ]
     },
     "execution_count": 36,
     "metadata": {},
     "output_type": "execute_result"
    }
   ],
   "source": [
    "len(errorData)"
   ]
  },
  {
   "cell_type": "code",
   "execution_count": null,
   "metadata": {},
   "outputs": [],
   "source": [
    "# 3. G16Y 섹션 특허 출원번호 추출\n",
    "target_patent_number = []\n",
    "\n",
    "for _, data in tqdm(main_df.iterrows(), total=len(main_df)):\n",
    "    try:\n",
    "        cpc_str = data['listCPC']  # None값인 경우도 있음\n",
    "        cpc_str = cpc_str.replace(\"[\", \"\"); cpc_str = cpc_str.replace(\"]\", \"\")\n",
    "    except AttributeError:\n",
    "        continue\n",
    "    except Exception as e:\n",
    "        errorData.append([data['applicationNumber'], e])\n",
    "\n",
    "    cpc_list = [cpc.strip() for cpc in cpc_str.split(\",\")]\n",
    "    split_cpc_list = [cpc[:4] for cpc in cpc_list]\n",
    "\n",
    "    for cpc in set(split_cpc_list):\n",
    "        if cpc[:4] == \"G16Y\":\n",
    "            patentNumber = data['applicationNumber']\n",
    "            target_patent_number.append(patentNumber)"
   ]
  }
 ],
 "metadata": {
  "kernelspec": {
   "display_name": "korpatE",
   "language": "python",
   "name": "python3"
  },
  "language_info": {
   "codemirror_mode": {
    "name": "ipython",
    "version": 3
   },
   "file_extension": ".py",
   "mimetype": "text/x-python",
   "name": "python",
   "nbconvert_exporter": "python",
   "pygments_lexer": "ipython3",
   "version": "3.8.0"
  }
 },
 "nbformat": 4,
 "nbformat_minor": 2
}
