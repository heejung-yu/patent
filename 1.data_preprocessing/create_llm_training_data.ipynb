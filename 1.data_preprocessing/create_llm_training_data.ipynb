{
 "cells": [
  {
   "cell_type": "markdown",
   "metadata": {},
   "source": [
    "# LLM 입력용 데이터 생성"
   ]
  },
  {
   "cell_type": "code",
   "execution_count": 1,
   "metadata": {},
   "outputs": [
    {
     "name": "stderr",
     "output_type": "stream",
     "text": [
      "/home/hee/anaconda3/envs/korpatE/lib/python3.8/site-packages/tqdm/auto.py:21: TqdmWarning: IProgress not found. Please update jupyter and ipywidgets. See https://ipywidgets.readthedocs.io/en/stable/user_install.html\n",
      "  from .autonotebook import tqdm as notebook_tqdm\n"
     ]
    }
   ],
   "source": [
    "import os, sys\n",
    "from tqdm import tqdm\n",
    "sys.path.append(os.path.abspath(\"..\"))\n",
    "from functions import *"
   ]
  },
  {
   "cell_type": "markdown",
   "metadata": {},
   "source": [
    "## 1. 데이터 읽어오기"
   ]
  },
  {
   "cell_type": "code",
   "execution_count": null,
   "metadata": {},
   "outputs": [
    {
     "name": "stderr",
     "output_type": "stream",
     "text": [
      " 50%|█████     | 1/2 [02:19<02:19, 139.19s/it]/home/hee/projects/patent/functions.py:10: DtypeWarning: Columns (10,20,21,22,23) have mixed types. Specify dtype option on import or set low_memory=False.\n",
      "  df = pd.read_csv(path)\n",
      "100%|██████████| 2/2 [03:19<00:00, 100.00s/it]\n"
     ]
    },
    {
     "data": {
      "text/plain": [
       "(2640867, 2634934)"
      ]
     },
     "execution_count": 2,
     "metadata": {},
     "output_type": "execute_result"
    }
   ],
   "source": [
    "data_path = \"../data/kipris_ami\"\n",
    "\n",
    "for filename in tqdm(os.listdir(data_path)):\n",
    "    if \"claim\" in filename:\n",
    "        claim_df = read_csv(os.path.join(data_path, filename), index_col=0)\n",
    "    else:\n",
    "        main_df = read_csv(os.path.join(data_path, filename), index_col=0)\n",
    "\n",
    "len(claim_df), len(main_df)"
   ]
  },
  {
   "cell_type": "markdown",
   "metadata": {},
   "source": [
    "## 2. G섹션 데이터 통계내고, 섹션 선택"
   ]
  },
  {
   "cell_type": "code",
   "execution_count": null,
   "metadata": {},
   "outputs": [],
   "source": [
    "# cpc_dict = {}\n",
    "# errorData = []\n",
    "\n",
    "# for _, data in tqdm(main_df.iterrows(), total=len(main_df)):\n",
    "#     try:\n",
    "#         cpc_str = data['listCPC']  # None값인 경우도 있음\n",
    "#         cpc_str = cpc_str.replace(\"[\", \"\"); cpc_str = cpc_str.replace(\"]\", \"\")\n",
    "#     except AttributeError:\n",
    "#         continue\n",
    "#     except Exception as e:\n",
    "#         errorData.append([data['applicationNumber'], e])\n",
    "\n",
    "#     cpc_list = [cpc.strip() for cpc in cpc_str.split(\",\")]\n",
    "#     split_cpc_list = [cpc[:4] for cpc in cpc_list]\n",
    "\n",
    "#     for cpc in set(split_cpc_list):\n",
    "#         if cpc[0] == 'G':\n",
    "#             if cpc not in cpc_dict: cpc_dict[cpc] = 1\n",
    "#             else: cpc_dict[cpc]+=1"
   ]
  },
  {
   "cell_type": "code",
   "execution_count": 4,
   "metadata": {},
   "outputs": [],
   "source": [
    "# cpc_dict['G16Y']  # G:물리학. 사물 인터넷 [IoT]에 특히 적합한 정보 및 통신 기술"
   ]
  },
  {
   "cell_type": "code",
   "execution_count": 5,
   "metadata": {},
   "outputs": [],
   "source": [
    "# len(errorData)"
   ]
  },
  {
   "cell_type": "markdown",
   "metadata": {},
   "source": [
    "## 3. G16Y 섹션 특허 출원번호 추출"
   ]
  },
  {
   "cell_type": "code",
   "execution_count": null,
   "metadata": {},
   "outputs": [
    {
     "name": "stderr",
     "output_type": "stream",
     "text": [
      "100%|██████████| 2634934/2634934 [03:24<00:00, 12865.27it/s]\n"
     ]
    }
   ],
   "source": [
    "target_patent_number = []\n",
    "errorData = []\n",
    "\n",
    "for _, data in tqdm(main_df.iterrows(), total=len(main_df)):\n",
    "    try:\n",
    "        cpc_str = data['listCPC']  # None값인 경우도 있음\n",
    "        cpc_str = cpc_str.replace(\"[\", \"\"); cpc_str = cpc_str.replace(\"]\", \"\")\n",
    "    except AttributeError:\n",
    "        continue\n",
    "    except Exception as e:\n",
    "        errorData.append([data['applicationNumber'], e])\n",
    "\n",
    "    cpc_list = [cpc.strip() for cpc in cpc_str.split(\",\")]\n",
    "    split_cpc_list = [cpc[:4] for cpc in cpc_list]\n",
    "\n",
    "    for cpc in set(split_cpc_list):\n",
    "        if cpc[:4] == \"G16Y\":\n",
    "            patentNumber = data['applicationNumber']\n",
    "            target_patent_number.append(patentNumber)\n",
    "            break"
   ]
  },
  {
   "cell_type": "code",
   "execution_count": 12,
   "metadata": {},
   "outputs": [
    {
     "data": {
      "text/html": [
       "<div>\n",
       "<style scoped>\n",
       "    .dataframe tbody tr th:only-of-type {\n",
       "        vertical-align: middle;\n",
       "    }\n",
       "\n",
       "    .dataframe tbody tr th {\n",
       "        vertical-align: top;\n",
       "    }\n",
       "\n",
       "    .dataframe thead th {\n",
       "        text-align: right;\n",
       "    }\n",
       "</style>\n",
       "<table border=\"1\" class=\"dataframe\">\n",
       "  <thead>\n",
       "    <tr style=\"text-align: right;\">\n",
       "      <th></th>\n",
       "      <th>seq</th>\n",
       "      <th>applicationNumber</th>\n",
       "      <th>claim</th>\n",
       "    </tr>\n",
       "  </thead>\n",
       "  <tbody>\n",
       "    <tr>\n",
       "      <th>0</th>\n",
       "      <td>1</td>\n",
       "      <td>1020190000013</td>\n",
       "      <td>1. 하나 이상 배전반, 조기화재검지센서, 감시카메라로 구성된 배전반 통합 방재시스...</td>\n",
       "    </tr>\n",
       "    <tr>\n",
       "      <th>1</th>\n",
       "      <td>2</td>\n",
       "      <td>1020190000030</td>\n",
       "      <td>1.        위 발명을 실시하기 위한 구체적인 내용 중 '2. 전산시스템 구성...</td>\n",
       "    </tr>\n",
       "    <tr>\n",
       "      <th>2</th>\n",
       "      <td>3</td>\n",
       "      <td>1020190000037</td>\n",
       "      <td>1. 인체의 2차원 이미지를 획득하는 단계와,상기 2차원 이미지로부터 가상라인을 생...</td>\n",
       "    </tr>\n",
       "    <tr>\n",
       "      <th>3</th>\n",
       "      <td>4</td>\n",
       "      <td>1020190000052</td>\n",
       "      <td>1. 외륜과 내륜 사이에 배치되도록 내경에는 곡선부를 성형하며, 볼의 이탈을 방지하...</td>\n",
       "    </tr>\n",
       "    <tr>\n",
       "      <th>4</th>\n",
       "      <td>5</td>\n",
       "      <td>1020190000075</td>\n",
       "      <td>1. 오버로크 재봉틀의 일측에 설치된 브라켓과;상기 브라켓에 위치 변경 가능하게 장...</td>\n",
       "    </tr>\n",
       "  </tbody>\n",
       "</table>\n",
       "</div>"
      ],
      "text/plain": [
       "   seq  applicationNumber                                              claim\n",
       "0    1      1020190000013  1. 하나 이상 배전반, 조기화재검지센서, 감시카메라로 구성된 배전반 통합 방재시스...\n",
       "1    2      1020190000030  1.        위 발명을 실시하기 위한 구체적인 내용 중 '2. 전산시스템 구성...\n",
       "2    3      1020190000037  1. 인체의 2차원 이미지를 획득하는 단계와,상기 2차원 이미지로부터 가상라인을 생...\n",
       "3    4      1020190000052  1. 외륜과 내륜 사이에 배치되도록 내경에는 곡선부를 성형하며, 볼의 이탈을 방지하...\n",
       "4    5      1020190000075  1. 오버로크 재봉틀의 일측에 설치된 브라켓과;상기 브라켓에 위치 변경 가능하게 장..."
      ]
     },
     "execution_count": 12,
     "metadata": {},
     "output_type": "execute_result"
    }
   ],
   "source": [
    "# claim_df = claim_df.drop(columns=['Unnamed: 0'])\n",
    "# claim_df.head()"
   ]
  },
  {
   "cell_type": "code",
   "execution_count": 14,
   "metadata": {},
   "outputs": [
    {
     "data": {
      "text/html": [
       "<div>\n",
       "<style scoped>\n",
       "    .dataframe tbody tr th:only-of-type {\n",
       "        vertical-align: middle;\n",
       "    }\n",
       "\n",
       "    .dataframe tbody tr th {\n",
       "        vertical-align: top;\n",
       "    }\n",
       "\n",
       "    .dataframe thead th {\n",
       "        text-align: right;\n",
       "    }\n",
       "</style>\n",
       "<table border=\"1\" class=\"dataframe\">\n",
       "  <thead>\n",
       "    <tr style=\"text-align: right;\">\n",
       "      <th></th>\n",
       "      <th>seq</th>\n",
       "      <th>applicationNumber</th>\n",
       "      <th>claim</th>\n",
       "    </tr>\n",
       "  </thead>\n",
       "  <tbody>\n",
       "    <tr>\n",
       "      <th>652</th>\n",
       "      <td>653</td>\n",
       "      <td>1020190007311</td>\n",
       "      <td>1. 다수곳에 배치된 세정기들에 개별적으로 설치된 통신모듈 및 사용자의 정보를 공유...</td>\n",
       "    </tr>\n",
       "    <tr>\n",
       "      <th>678</th>\n",
       "      <td>679</td>\n",
       "      <td>1020190007627</td>\n",
       "      <td>1. 블록체인에 기반한 스마트 팩토리 구현을 위한 인공지능 IIoT(Industri...</td>\n",
       "    </tr>\n",
       "    <tr>\n",
       "      <th>1332</th>\n",
       "      <td>1333</td>\n",
       "      <td>1020190016713</td>\n",
       "      <td>1. 태양전지판과, 상기 태양전지판에서 생산한 전력을 저장하는 배터리와, 상기 태양...</td>\n",
       "    </tr>\n",
       "    <tr>\n",
       "      <th>1447</th>\n",
       "      <td>1448</td>\n",
       "      <td>1020190019082</td>\n",
       "      <td>1. 실시간 메이크업 진단 및 질의응답 서비스 제공 시스템으로서,유저로부터 유저정보...</td>\n",
       "    </tr>\n",
       "    <tr>\n",
       "      <th>1486</th>\n",
       "      <td>1487</td>\n",
       "      <td>1020190019837</td>\n",
       "      <td>1. 연속된 단계의 반도체 공정들로 이루어진 제조 설비 시스템의 분산처리 공정관리를...</td>\n",
       "    </tr>\n",
       "  </tbody>\n",
       "</table>\n",
       "</div>"
      ],
      "text/plain": [
       "       seq  applicationNumber  \\\n",
       "652    653      1020190007311   \n",
       "678    679      1020190007627   \n",
       "1332  1333      1020190016713   \n",
       "1447  1448      1020190019082   \n",
       "1486  1487      1020190019837   \n",
       "\n",
       "                                                  claim  \n",
       "652   1. 다수곳에 배치된 세정기들에 개별적으로 설치된 통신모듈 및 사용자의 정보를 공유...  \n",
       "678   1. 블록체인에 기반한 스마트 팩토리 구현을 위한 인공지능 IIoT(Industri...  \n",
       "1332  1. 태양전지판과, 상기 태양전지판에서 생산한 전력을 저장하는 배터리와, 상기 태양...  \n",
       "1447  1. 실시간 메이크업 진단 및 질의응답 서비스 제공 시스템으로서,유저로부터 유저정보...  \n",
       "1486  1. 연속된 단계의 반도체 공정들로 이루어진 제조 설비 시스템의 분산처리 공정관리를...  "
      ]
     },
     "execution_count": 14,
     "metadata": {},
     "output_type": "execute_result"
    }
   ],
   "source": [
    "claim_df = claim_df[claim_df['applicationNumber'].isin(target_patent_number)]\n",
    "claim_df.reset_index(drop=True)  \n",
    "claim_df.head()"
   ]
  },
  {
   "cell_type": "markdown",
   "metadata": {},
   "source": [
    "## 4. 청구항 건수 카운팅\n",
    "- 문장 개수, 길이 조절"
   ]
  },
  {
   "cell_type": "code",
   "execution_count": 29,
   "metadata": {},
   "outputs": [],
   "source": [
    "claim_row_count_dict = {}\n",
    "for _, row in claim_df.iterrows():\n",
    "    original_claim = row['claim']\n",
    "\n",
    "    # claim_row_count_dict[row['applicationNumber']] = \n",
    "    \n",
    "    break"
   ]
  },
  {
   "cell_type": "code",
   "execution_count": null,
   "metadata": {},
   "outputs": [
    {
     "name": "stdout",
     "output_type": "stream",
     "text": [
      "1. 다수곳에 배치된 세정기들에 개별적으로 설치된 통신모듈 및 사용자의 정보를 공유하는 서버 및 무선통신망를 통해 사용자의 단말기와 통신하는 단계;상기 사용자의 단말기에 설치된 애플리케이션을 실행하여 현재날짜 정보를 활성화시키고 상기 서버를 통해 다운로드된 사용자의 생리주기 정보를 입력 및 저장하는 단계; 및현재날짜 정보 및 상기 사용자의 생리주기 정보에 따라 상기 세정기의 제어모듈을 통해 상기 세정기의 기능 중 적어도 하나 이상의 기능을 기 설정된 값으로 제어하거나 상기 사용자가 직접 제어하는 단계를 포함하여 사용자가 장소에 제약받지 않고 사용자의 생리주기에 따라 서비스를 제공 받는 것을 특징으로 하는 사물인터넷을 이용한 세정기의 제어방법.\n",
      "2. 제 1 항에 있어서,상기 사용자의 단말기에 애플리케이션을 설치하는 단계에서는 설치된 애플리케이션을 상기 사용자가 실행하는 단계;현재날짜 정보를 활성화시키는 단계; 및상기 사용자의 생리주기 정보를 입력 및 저장하는 단계;를 포함하는 것을 특징으로 하는 사물인터넷을 이용한 세정기의 제어방법.\n",
      "\n"
     ]
    }
   ],
   "source": [
    "row_claim_dict = {}\n",
    "split_claim = original_claim.split(\"\\n\")\n",
    "row_claim_dict['문장개수'] = len(split_claim)\n",
    "\n",
    "for claim in split_claim:\n",
    "    print(claim)"
   ]
  },
  {
   "cell_type": "code",
   "execution_count": null,
   "metadata": {},
   "outputs": [],
   "source": []
  }
 ],
 "metadata": {
  "kernelspec": {
   "display_name": "korpatE",
   "language": "python",
   "name": "python3"
  },
  "language_info": {
   "codemirror_mode": {
    "name": "ipython",
    "version": 3
   },
   "file_extension": ".py",
   "mimetype": "text/x-python",
   "name": "python",
   "nbconvert_exporter": "python",
   "pygments_lexer": "ipython3",
   "version": "3.8.0"
  }
 },
 "nbformat": 4,
 "nbformat_minor": 2
}
