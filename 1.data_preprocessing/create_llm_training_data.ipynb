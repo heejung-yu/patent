{
 "cells": [
  {
   "cell_type": "markdown",
   "metadata": {},
   "source": [
    "# LLM 입력용 데이터 생성"
   ]
  },
  {
   "cell_type": "code",
   "execution_count": 98,
   "metadata": {},
   "outputs": [],
   "source": [
    "import os, sys\n",
    "from tqdm import tqdm\n",
    "sys.path.append(os.path.abspath(\"..\"))\n",
    "from functions import *\n",
    "from transformers import ElectraModel, ElectraTokenizer"
   ]
  },
  {
   "cell_type": "markdown",
   "metadata": {},
   "source": [
    "## 1. 데이터 읽어오기"
   ]
  },
  {
   "cell_type": "code",
   "execution_count": 2,
   "metadata": {},
   "outputs": [],
   "source": [
    "save_path = \"../data/target\"\n",
    "data_path = \"../data/kipris_ami\""
   ]
  },
  {
   "cell_type": "code",
   "execution_count": 65,
   "metadata": {},
   "outputs": [
    {
     "name": "stderr",
     "output_type": "stream",
     "text": [
      " 50%|█████     | 1/2 [02:22<02:22, 142.80s/it]/home/hee/projects/patent/functions.py:10: DtypeWarning: Columns (10,20,21,22,23) have mixed types. Specify dtype option on import or set low_memory=False.\n",
      "  df = pd.read_csv(path)\n",
      "100%|██████████| 2/2 [03:26<00:00, 103.44s/it]\n"
     ]
    },
    {
     "data": {
      "text/plain": [
       "(2640867, 2634934)"
      ]
     },
     "execution_count": 65,
     "metadata": {},
     "output_type": "execute_result"
    }
   ],
   "source": [
    "for filename in tqdm(os.listdir(data_path)):\n",
    "    if \"claim\" in filename:\n",
    "        claim_df = read_csv(os.path.join(data_path, filename))\n",
    "    else:\n",
    "        main_df = read_csv(os.path.join(data_path, filename))\n",
    "\n",
    "len(claim_df), len(main_df)"
   ]
  },
  {
   "cell_type": "code",
   "execution_count": 79,
   "metadata": {},
   "outputs": [],
   "source": [
    "claim_df = claim_df.drop(columns=['Unnamed: 0'])\n",
    "main_df = main_df.drop(columns=['Unnamed: 0'])"
   ]
  },
  {
   "cell_type": "code",
   "execution_count": 66,
   "metadata": {},
   "outputs": [],
   "source": [
    "claim_df_original = claim_df.copy()"
   ]
  },
  {
   "cell_type": "markdown",
   "metadata": {},
   "source": [
    "## 2. G섹션 데이터 통계내고, 섹션 선택"
   ]
  },
  {
   "cell_type": "code",
   "execution_count": 5,
   "metadata": {},
   "outputs": [],
   "source": [
    "# cpc_dict = {}\n",
    "# errorData = []\n",
    "\n",
    "# for _, data in tqdm(main_df.iterrows(), total=len(main_df)):\n",
    "#     try:\n",
    "#         cpc_str = data['listCPC']  # None값인 경우도 있음\n",
    "#         cpc_str = cpc_str.replace(\"[\", \"\"); cpc_str = cpc_str.replace(\"]\", \"\")\n",
    "#     except AttributeError:\n",
    "#         continue\n",
    "#     except Exception as e:\n",
    "#         errorData.append([data['applicationNumber'], e])\n",
    "\n",
    "#     cpc_list = [cpc.strip() for cpc in cpc_str.split(\",\")]\n",
    "#     split_cpc_list = [cpc[:4] for cpc in cpc_list]\n",
    "\n",
    "#     for cpc in set(split_cpc_list):\n",
    "#         if cpc[0] == 'G':\n",
    "#             if cpc not in cpc_dict: cpc_dict[cpc] = 1\n",
    "#             else: cpc_dict[cpc]+=1"
   ]
  },
  {
   "cell_type": "code",
   "execution_count": 6,
   "metadata": {},
   "outputs": [],
   "source": [
    "# cpc_dict['G16Y']  # G:물리학. 사물 인터넷 [IoT]에 특히 적합한 정보 및 통신 기술"
   ]
  },
  {
   "cell_type": "code",
   "execution_count": 7,
   "metadata": {},
   "outputs": [],
   "source": [
    "# len(errorData)"
   ]
  },
  {
   "cell_type": "markdown",
   "metadata": {},
   "source": [
    "## 3. G16Y 섹션 특허 출원번호 추출"
   ]
  },
  {
   "cell_type": "code",
   "execution_count": 8,
   "metadata": {},
   "outputs": [
    {
     "name": "stderr",
     "output_type": "stream",
     "text": [
      "100%|██████████| 2634934/2634934 [03:33<00:00, 12338.45it/s]\n"
     ]
    }
   ],
   "source": [
    "target_patent_number = []\n",
    "errorData = []\n",
    "\n",
    "for _, data in tqdm(main_df.iterrows(), total=len(main_df)):\n",
    "    try:\n",
    "        cpc_str = data['listCPC']  # None값인 경우도 있음\n",
    "        cpc_str = cpc_str.replace(\"[\", \"\"); cpc_str = cpc_str.replace(\"]\", \"\")\n",
    "    except AttributeError:\n",
    "        continue\n",
    "    except Exception as e:\n",
    "        errorData.append([data['applicationNumber'], e])\n",
    "\n",
    "    cpc_list = [cpc.strip() for cpc in cpc_str.split(\",\")]\n",
    "    split_cpc_list = [cpc[:4] for cpc in cpc_list]\n",
    "\n",
    "    for cpc in set(split_cpc_list):\n",
    "        if cpc[:4] == \"G16Y\":\n",
    "            patentNumber = data['applicationNumber']\n",
    "            target_patent_number.append(patentNumber)\n",
    "            break"
   ]
  },
  {
   "cell_type": "code",
   "execution_count": 9,
   "metadata": {},
   "outputs": [],
   "source": [
    "# claim_df = claim_df.drop(columns=['Unnamed: 0'])\n",
    "# claim_df.head()"
   ]
  },
  {
   "cell_type": "code",
   "execution_count": 80,
   "metadata": {},
   "outputs": [
    {
     "data": {
      "text/html": [
       "<div>\n",
       "<style scoped>\n",
       "    .dataframe tbody tr th:only-of-type {\n",
       "        vertical-align: middle;\n",
       "    }\n",
       "\n",
       "    .dataframe tbody tr th {\n",
       "        vertical-align: top;\n",
       "    }\n",
       "\n",
       "    .dataframe thead th {\n",
       "        text-align: right;\n",
       "    }\n",
       "</style>\n",
       "<table border=\"1\" class=\"dataframe\">\n",
       "  <thead>\n",
       "    <tr style=\"text-align: right;\">\n",
       "      <th></th>\n",
       "      <th>seq</th>\n",
       "      <th>applicationNumber</th>\n",
       "      <th>claim</th>\n",
       "    </tr>\n",
       "  </thead>\n",
       "  <tbody>\n",
       "    <tr>\n",
       "      <th>0</th>\n",
       "      <td>653</td>\n",
       "      <td>1020190007311</td>\n",
       "      <td>1. 다수곳에 배치된 세정기들에 개별적으로 설치된 통신모듈 및 사용자의 정보를 공유...</td>\n",
       "    </tr>\n",
       "    <tr>\n",
       "      <th>1</th>\n",
       "      <td>679</td>\n",
       "      <td>1020190007627</td>\n",
       "      <td>1. 블록체인에 기반한 스마트 팩토리 구현을 위한 인공지능 IIoT(Industri...</td>\n",
       "    </tr>\n",
       "    <tr>\n",
       "      <th>2</th>\n",
       "      <td>1333</td>\n",
       "      <td>1020190016713</td>\n",
       "      <td>1. 태양전지판과, 상기 태양전지판에서 생산한 전력을 저장하는 배터리와, 상기 태양...</td>\n",
       "    </tr>\n",
       "    <tr>\n",
       "      <th>3</th>\n",
       "      <td>1448</td>\n",
       "      <td>1020190019082</td>\n",
       "      <td>1. 실시간 메이크업 진단 및 질의응답 서비스 제공 시스템으로서,유저로부터 유저정보...</td>\n",
       "    </tr>\n",
       "    <tr>\n",
       "      <th>4</th>\n",
       "      <td>1487</td>\n",
       "      <td>1020190019837</td>\n",
       "      <td>1. 연속된 단계의 반도체 공정들로 이루어진 제조 설비 시스템의 분산처리 공정관리를...</td>\n",
       "    </tr>\n",
       "  </tbody>\n",
       "</table>\n",
       "</div>"
      ],
      "text/plain": [
       "    seq  applicationNumber                                              claim\n",
       "0   653      1020190007311  1. 다수곳에 배치된 세정기들에 개별적으로 설치된 통신모듈 및 사용자의 정보를 공유...\n",
       "1   679      1020190007627  1. 블록체인에 기반한 스마트 팩토리 구현을 위한 인공지능 IIoT(Industri...\n",
       "2  1333      1020190016713  1. 태양전지판과, 상기 태양전지판에서 생산한 전력을 저장하는 배터리와, 상기 태양...\n",
       "3  1448      1020190019082  1. 실시간 메이크업 진단 및 질의응답 서비스 제공 시스템으로서,유저로부터 유저정보...\n",
       "4  1487      1020190019837  1. 연속된 단계의 반도체 공정들로 이루어진 제조 설비 시스템의 분산처리 공정관리를..."
      ]
     },
     "execution_count": 80,
     "metadata": {},
     "output_type": "execute_result"
    }
   ],
   "source": [
    "claim_df = claim_df[claim_df['applicationNumber'].isin(target_patent_number)]\n",
    "claim_df = claim_df.reset_index(drop=True)  \n",
    "claim_df.head()"
   ]
  },
  {
   "cell_type": "markdown",
   "metadata": {},
   "source": [
    "## 4. 청구항 건수 카운팅\n",
    "- 문장 개수, 길이 조절"
   ]
  },
  {
   "cell_type": "code",
   "execution_count": 11,
   "metadata": {},
   "outputs": [],
   "source": [
    "# claim_row_count_dict = {}\n",
    "\n",
    "# for _, row in tqdm(claim_df.iterrows(), total=len(claim_df)):\n",
    "#     original_claim = row['claim']\n",
    "#     row_claim_dict = {}\n",
    "#     split_claim = original_claim.split(\"\\n\")\n",
    "#     row_claim_dict['문장개수'] = len(split_claim)\n",
    "#     row_claim_dict['문장길이'] = []\n",
    "\n",
    "#     for claim in split_claim:\n",
    "#         if len(claim)!=0:\n",
    "#             row_claim_dict['문장길이'].append(len(claim))\n",
    "#     claim_row_count_dict[row['applicationNumber']] = row_claim_dict\n",
    "    "
   ]
  },
  {
   "cell_type": "code",
   "execution_count": 12,
   "metadata": {},
   "outputs": [],
   "source": [
    "# claim_row_count_dict"
   ]
  },
  {
   "cell_type": "code",
   "execution_count": 13,
   "metadata": {},
   "outputs": [],
   "source": [
    "# claim_df.to_csv(os.path.join(save_path, \"G16Y_118.csv\"), encoding='euc-kr', index=False)"
   ]
  },
  {
   "cell_type": "markdown",
   "metadata": {},
   "source": [
    "# 4. 일단 문장만 처리"
   ]
  },
  {
   "cell_type": "code",
   "execution_count": 81,
   "metadata": {},
   "outputs": [
    {
     "data": {
      "text/html": [
       "<div>\n",
       "<style scoped>\n",
       "    .dataframe tbody tr th:only-of-type {\n",
       "        vertical-align: middle;\n",
       "    }\n",
       "\n",
       "    .dataframe tbody tr th {\n",
       "        vertical-align: top;\n",
       "    }\n",
       "\n",
       "    .dataframe thead th {\n",
       "        text-align: right;\n",
       "    }\n",
       "</style>\n",
       "<table border=\"1\" class=\"dataframe\">\n",
       "  <thead>\n",
       "    <tr style=\"text-align: right;\">\n",
       "      <th></th>\n",
       "      <th>seq</th>\n",
       "      <th>applicationNumber</th>\n",
       "      <th>claim</th>\n",
       "    </tr>\n",
       "  </thead>\n",
       "  <tbody>\n",
       "    <tr>\n",
       "      <th>0</th>\n",
       "      <td>653</td>\n",
       "      <td>1020190007311</td>\n",
       "      <td>1. 다수곳에 배치된 세정기들에 개별적으로 설치된 통신모듈 및 사용자의 정보를 공유...</td>\n",
       "    </tr>\n",
       "    <tr>\n",
       "      <th>1</th>\n",
       "      <td>679</td>\n",
       "      <td>1020190007627</td>\n",
       "      <td>1. 블록체인에 기반한 스마트 팩토리 구현을 위한 인공지능 IIoT(Industri...</td>\n",
       "    </tr>\n",
       "    <tr>\n",
       "      <th>2</th>\n",
       "      <td>1333</td>\n",
       "      <td>1020190016713</td>\n",
       "      <td>1. 태양전지판과, 상기 태양전지판에서 생산한 전력을 저장하는 배터리와, 상기 태양...</td>\n",
       "    </tr>\n",
       "    <tr>\n",
       "      <th>3</th>\n",
       "      <td>1448</td>\n",
       "      <td>1020190019082</td>\n",
       "      <td>1. 실시간 메이크업 진단 및 질의응답 서비스 제공 시스템으로서,유저로부터 유저정보...</td>\n",
       "    </tr>\n",
       "    <tr>\n",
       "      <th>4</th>\n",
       "      <td>1487</td>\n",
       "      <td>1020190019837</td>\n",
       "      <td>1. 연속된 단계의 반도체 공정들로 이루어진 제조 설비 시스템의 분산처리 공정관리를...</td>\n",
       "    </tr>\n",
       "    <tr>\n",
       "      <th>...</th>\n",
       "      <td>...</td>\n",
       "      <td>...</td>\n",
       "      <td>...</td>\n",
       "    </tr>\n",
       "    <tr>\n",
       "      <th>113</th>\n",
       "      <td>1586183</td>\n",
       "      <td>1020060015085</td>\n",
       "      <td>1. 홈 네트워크의 홈 서버에 연결되는 가전기기와, 상기 가전기기와 이동통신단말기를...</td>\n",
       "    </tr>\n",
       "    <tr>\n",
       "      <th>114</th>\n",
       "      <td>1691799</td>\n",
       "      <td>1020060135481</td>\n",
       "      <td>1. 발신측 이동단말기에 입력된 사용자의 음성신호를 상기 발신측 이동단말기의 번호와...</td>\n",
       "    </tr>\n",
       "    <tr>\n",
       "      <th>115</th>\n",
       "      <td>1870812</td>\n",
       "      <td>1020040058953</td>\n",
       "      <td>1. 복합기(1)에서 그 일측에 인공지능컴퓨터프로세서와 칩이 내장된 컴퓨터기(23)...</td>\n",
       "    </tr>\n",
       "    <tr>\n",
       "      <th>116</th>\n",
       "      <td>1870821</td>\n",
       "      <td>1020040058962</td>\n",
       "      <td>1. 집(1)에서 그 일측에 인공지능컴퓨터프로세서와 칩이 내장된 컴퓨터기(23)에 ...</td>\n",
       "    </tr>\n",
       "    <tr>\n",
       "      <th>117</th>\n",
       "      <td>1909225</td>\n",
       "      <td>1020040101224</td>\n",
       "      <td>1.                     소정 통신규격을 지원하는 수요 대응형 댁내...</td>\n",
       "    </tr>\n",
       "  </tbody>\n",
       "</table>\n",
       "<p>118 rows × 3 columns</p>\n",
       "</div>"
      ],
      "text/plain": [
       "         seq  applicationNumber  \\\n",
       "0        653      1020190007311   \n",
       "1        679      1020190007627   \n",
       "2       1333      1020190016713   \n",
       "3       1448      1020190019082   \n",
       "4       1487      1020190019837   \n",
       "..       ...                ...   \n",
       "113  1586183      1020060015085   \n",
       "114  1691799      1020060135481   \n",
       "115  1870812      1020040058953   \n",
       "116  1870821      1020040058962   \n",
       "117  1909225      1020040101224   \n",
       "\n",
       "                                                 claim  \n",
       "0    1. 다수곳에 배치된 세정기들에 개별적으로 설치된 통신모듈 및 사용자의 정보를 공유...  \n",
       "1    1. 블록체인에 기반한 스마트 팩토리 구현을 위한 인공지능 IIoT(Industri...  \n",
       "2    1. 태양전지판과, 상기 태양전지판에서 생산한 전력을 저장하는 배터리와, 상기 태양...  \n",
       "3    1. 실시간 메이크업 진단 및 질의응답 서비스 제공 시스템으로서,유저로부터 유저정보...  \n",
       "4    1. 연속된 단계의 반도체 공정들로 이루어진 제조 설비 시스템의 분산처리 공정관리를...  \n",
       "..                                                 ...  \n",
       "113  1. 홈 네트워크의 홈 서버에 연결되는 가전기기와, 상기 가전기기와 이동통신단말기를...  \n",
       "114  1. 발신측 이동단말기에 입력된 사용자의 음성신호를 상기 발신측 이동단말기의 번호와...  \n",
       "115  1. 복합기(1)에서 그 일측에 인공지능컴퓨터프로세서와 칩이 내장된 컴퓨터기(23)...  \n",
       "116  1. 집(1)에서 그 일측에 인공지능컴퓨터프로세서와 칩이 내장된 컴퓨터기(23)에 ...  \n",
       "117  1.                     소정 통신규격을 지원하는 수요 대응형 댁내...  \n",
       "\n",
       "[118 rows x 3 columns]"
      ]
     },
     "execution_count": 81,
     "metadata": {},
     "output_type": "execute_result"
    }
   ],
   "source": [
    "# 불용어 제거\n",
    "def delete_word(text: str)->str:\n",
    "    delete_word = [\"삭제\", \"<P INDENT='14' ALIGN='JUSTIFIED'>\", \"</P>\", \"\\n\"]\n",
    "    for delete in delete_word:\n",
    "        text = text.replace(delete, \"\", -1)\n",
    "    return text\n",
    "\n",
    "claim_df['claim'] = claim_df['claim'].apply(lambda data: delete_word(data))\n",
    "claim_df"
   ]
  },
  {
   "cell_type": "code",
   "execution_count": 88,
   "metadata": {},
   "outputs": [
    {
     "data": {
      "text/html": [
       "<div>\n",
       "<style scoped>\n",
       "    .dataframe tbody tr th:only-of-type {\n",
       "        vertical-align: middle;\n",
       "    }\n",
       "\n",
       "    .dataframe tbody tr th {\n",
       "        vertical-align: top;\n",
       "    }\n",
       "\n",
       "    .dataframe thead th {\n",
       "        text-align: right;\n",
       "    }\n",
       "</style>\n",
       "<table border=\"1\" class=\"dataframe\">\n",
       "  <thead>\n",
       "    <tr style=\"text-align: right;\">\n",
       "      <th></th>\n",
       "      <th>seq</th>\n",
       "      <th>applicationNumber</th>\n",
       "      <th>claim</th>\n",
       "    </tr>\n",
       "  </thead>\n",
       "  <tbody>\n",
       "    <tr>\n",
       "      <th>0</th>\n",
       "      <td>653</td>\n",
       "      <td>1020190007311</td>\n",
       "      <td>다수곳에 배치된 세정기들에 개별적으로 설치된 통신모듈 및 사용자의 정보를 공유하는 ...</td>\n",
       "    </tr>\n",
       "    <tr>\n",
       "      <th>1</th>\n",
       "      <td>679</td>\n",
       "      <td>1020190007627</td>\n",
       "      <td>블록체인에 기반한 스마트 팩토리 구현을 위한 인공지능 IIoT(Industrial ...</td>\n",
       "    </tr>\n",
       "    <tr>\n",
       "      <th>2</th>\n",
       "      <td>1333</td>\n",
       "      <td>1020190016713</td>\n",
       "      <td>태양전지판과, 상기 태양전지판에서 생산한 전력을 저장하는 배터리와, 상기 태양전지판...</td>\n",
       "    </tr>\n",
       "    <tr>\n",
       "      <th>3</th>\n",
       "      <td>1448</td>\n",
       "      <td>1020190019082</td>\n",
       "      <td>실시간 메이크업 진단 및 질의응답 서비스 제공 시스템으로서,유저로부터 유저정보를 입...</td>\n",
       "    </tr>\n",
       "    <tr>\n",
       "      <th>4</th>\n",
       "      <td>1487</td>\n",
       "      <td>1020190019837</td>\n",
       "      <td>연속된 단계의 반도체 공정들로 이루어진 제조 설비 시스템의 분산처리 공정관리를 위해...</td>\n",
       "    </tr>\n",
       "    <tr>\n",
       "      <th>...</th>\n",
       "      <td>...</td>\n",
       "      <td>...</td>\n",
       "      <td>...</td>\n",
       "    </tr>\n",
       "    <tr>\n",
       "      <th>113</th>\n",
       "      <td>1586183</td>\n",
       "      <td>1020060015085</td>\n",
       "      <td>홈 네트워크의 홈 서버에 연결되는 가전기기와, 상기 가전기기와 이동통신단말기를 홈 ...</td>\n",
       "    </tr>\n",
       "    <tr>\n",
       "      <th>114</th>\n",
       "      <td>1691799</td>\n",
       "      <td>1020060135481</td>\n",
       "      <td>발신측 이동단말기에 입력된 사용자의 음성신호를 상기 발신측 이동단말기의 번호와 맵핑...</td>\n",
       "    </tr>\n",
       "    <tr>\n",
       "      <th>115</th>\n",
       "      <td>1870812</td>\n",
       "      <td>1020040058953</td>\n",
       "      <td>복합기(1)에서 그 일측에 인공지능컴퓨터프로세서와 칩이 내장된 컴퓨터기(23)에 의...</td>\n",
       "    </tr>\n",
       "    <tr>\n",
       "      <th>116</th>\n",
       "      <td>1870821</td>\n",
       "      <td>1020040058962</td>\n",
       "      <td>집(1)에서 그 일측에 인공지능컴퓨터프로세서와 칩이 내장된 컴퓨터기(23)에 의해 ...</td>\n",
       "    </tr>\n",
       "    <tr>\n",
       "      <th>117</th>\n",
       "      <td>1909225</td>\n",
       "      <td>1020040101224</td>\n",
       "      <td>소정 통신규격을 지원하는 수요 대응형 댁내 네트워크망에 결합된 다중접속 콘솔서버 시...</td>\n",
       "    </tr>\n",
       "  </tbody>\n",
       "</table>\n",
       "<p>118 rows × 3 columns</p>\n",
       "</div>"
      ],
      "text/plain": [
       "         seq  applicationNumber  \\\n",
       "0        653      1020190007311   \n",
       "1        679      1020190007627   \n",
       "2       1333      1020190016713   \n",
       "3       1448      1020190019082   \n",
       "4       1487      1020190019837   \n",
       "..       ...                ...   \n",
       "113  1586183      1020060015085   \n",
       "114  1691799      1020060135481   \n",
       "115  1870812      1020040058953   \n",
       "116  1870821      1020040058962   \n",
       "117  1909225      1020040101224   \n",
       "\n",
       "                                                 claim  \n",
       "0    다수곳에 배치된 세정기들에 개별적으로 설치된 통신모듈 및 사용자의 정보를 공유하는 ...  \n",
       "1    블록체인에 기반한 스마트 팩토리 구현을 위한 인공지능 IIoT(Industrial ...  \n",
       "2    태양전지판과, 상기 태양전지판에서 생산한 전력을 저장하는 배터리와, 상기 태양전지판...  \n",
       "3    실시간 메이크업 진단 및 질의응답 서비스 제공 시스템으로서,유저로부터 유저정보를 입...  \n",
       "4    연속된 단계의 반도체 공정들로 이루어진 제조 설비 시스템의 분산처리 공정관리를 위해...  \n",
       "..                                                 ...  \n",
       "113  홈 네트워크의 홈 서버에 연결되는 가전기기와, 상기 가전기기와 이동통신단말기를 홈 ...  \n",
       "114  발신측 이동단말기에 입력된 사용자의 음성신호를 상기 발신측 이동단말기의 번호와 맵핑...  \n",
       "115  복합기(1)에서 그 일측에 인공지능컴퓨터프로세서와 칩이 내장된 컴퓨터기(23)에 의...  \n",
       "116  집(1)에서 그 일측에 인공지능컴퓨터프로세서와 칩이 내장된 컴퓨터기(23)에 의해 ...  \n",
       "117  소정 통신규격을 지원하는 수요 대응형 댁내 네트워크망에 결합된 다중접속 콘솔서버 시...  \n",
       "\n",
       "[118 rows x 3 columns]"
      ]
     },
     "execution_count": 88,
     "metadata": {},
     "output_type": "execute_result"
    }
   ],
   "source": [
    "#TODO: functions.py의 delete_claim_number 함수로 교체\n",
    "def text_replace(text:str)->str:\n",
    "    new_text = re.sub(r\"(\\d)\\. \", \" \", text, count=1)\n",
    "    new_text = re.sub(r\"(\\d)\\. \", \"\\n\", new_text)\n",
    "    return new_text.strip()\n",
    "\n",
    "claim_df['claim'] = claim_df['claim'].apply(lambda data: text_replace(data))\n",
    "claim_df"
   ]
  },
  {
   "cell_type": "code",
   "execution_count": 89,
   "metadata": {},
   "outputs": [
    {
     "data": {
      "text/html": [
       "<div>\n",
       "<style scoped>\n",
       "    .dataframe tbody tr th:only-of-type {\n",
       "        vertical-align: middle;\n",
       "    }\n",
       "\n",
       "    .dataframe tbody tr th {\n",
       "        vertical-align: top;\n",
       "    }\n",
       "\n",
       "    .dataframe thead th {\n",
       "        text-align: right;\n",
       "    }\n",
       "</style>\n",
       "<table border=\"1\" class=\"dataframe\">\n",
       "  <thead>\n",
       "    <tr style=\"text-align: right;\">\n",
       "      <th></th>\n",
       "      <th>seq</th>\n",
       "      <th>applicationNumber</th>\n",
       "      <th>sentence</th>\n",
       "      <th>len_sen</th>\n",
       "    </tr>\n",
       "  </thead>\n",
       "  <tbody>\n",
       "    <tr>\n",
       "      <th>0</th>\n",
       "      <td>653</td>\n",
       "      <td>1020190007311</td>\n",
       "      <td>다수곳에 배치된 세정기들에 개별적으로 설치된 통신모듈 및 사용자의 정보를 공유하는 ...</td>\n",
       "      <td>360</td>\n",
       "    </tr>\n",
       "    <tr>\n",
       "      <th>1</th>\n",
       "      <td>653</td>\n",
       "      <td>1020190007311</td>\n",
       "      <td>제 1 항에 있어서,상기 사용자의 단말기에 애플리케이션을 설치하는 단계에서는 설치된...</td>\n",
       "      <td>161</td>\n",
       "    </tr>\n",
       "    <tr>\n",
       "      <th>2</th>\n",
       "      <td>679</td>\n",
       "      <td>1020190007627</td>\n",
       "      <td>블록체인에 기반한 스마트 팩토리 구현을 위한 인공지능 IIoT(Industrial ...</td>\n",
       "      <td>5098</td>\n",
       "    </tr>\n",
       "    <tr>\n",
       "      <th>3</th>\n",
       "      <td>1333</td>\n",
       "      <td>1020190016713</td>\n",
       "      <td>태양전지판과, 상기 태양전지판에서 생산한 전력을 저장하는 배터리와, 상기 태양전지판...</td>\n",
       "      <td>1150</td>\n",
       "    </tr>\n",
       "    <tr>\n",
       "      <th>5</th>\n",
       "      <td>1333</td>\n",
       "      <td>1020190016713</td>\n",
       "      <td>제1항에 있어서,상기 메인 컨트롤러는상기 IoT 모듈로부터 전송되는 수질 측정신호를...</td>\n",
       "      <td>614</td>\n",
       "    </tr>\n",
       "    <tr>\n",
       "      <th>...</th>\n",
       "      <td>...</td>\n",
       "      <td>...</td>\n",
       "      <td>...</td>\n",
       "      <td>...</td>\n",
       "    </tr>\n",
       "    <tr>\n",
       "      <th>1101</th>\n",
       "      <td>1909225</td>\n",
       "      <td>1020040101224</td>\n",
       "      <td>제2항에 있어서,                상기 멀티...</td>\n",
       "      <td>240</td>\n",
       "    </tr>\n",
       "    <tr>\n",
       "      <th>1102</th>\n",
       "      <td>1909225</td>\n",
       "      <td>1020040101224</td>\n",
       "      <td>제2항에 있어서,                상기 콘솔...</td>\n",
       "      <td>257</td>\n",
       "    </tr>\n",
       "    <tr>\n",
       "      <th>1103</th>\n",
       "      <td>1909225</td>\n",
       "      <td>1020040101224</td>\n",
       "      <td>제5항에 있어서,                상기 콘솔...</td>\n",
       "      <td>288</td>\n",
       "    </tr>\n",
       "    <tr>\n",
       "      <th>1104</th>\n",
       "      <td>1909225</td>\n",
       "      <td>1020040101224</td>\n",
       "      <td>제5항에 있어서,                                상기 서비...</td>\n",
       "      <td>245</td>\n",
       "    </tr>\n",
       "    <tr>\n",
       "      <th>1105</th>\n",
       "      <td>1909225</td>\n",
       "      <td>1020040101224</td>\n",
       "      <td>제5항에 있어서,                                상기 서비...</td>\n",
       "      <td>245</td>\n",
       "    </tr>\n",
       "  </tbody>\n",
       "</table>\n",
       "<p>902 rows × 4 columns</p>\n",
       "</div>"
      ],
      "text/plain": [
       "          seq  applicationNumber  \\\n",
       "0         653      1020190007311   \n",
       "1         653      1020190007311   \n",
       "2         679      1020190007627   \n",
       "3        1333      1020190016713   \n",
       "5        1333      1020190016713   \n",
       "...       ...                ...   \n",
       "1101  1909225      1020040101224   \n",
       "1102  1909225      1020040101224   \n",
       "1103  1909225      1020040101224   \n",
       "1104  1909225      1020040101224   \n",
       "1105  1909225      1020040101224   \n",
       "\n",
       "                                               sentence  len_sen  \n",
       "0     다수곳에 배치된 세정기들에 개별적으로 설치된 통신모듈 및 사용자의 정보를 공유하는 ...      360  \n",
       "1     제 1 항에 있어서,상기 사용자의 단말기에 애플리케이션을 설치하는 단계에서는 설치된...      161  \n",
       "2     블록체인에 기반한 스마트 팩토리 구현을 위한 인공지능 IIoT(Industrial ...     5098  \n",
       "3     태양전지판과, 상기 태양전지판에서 생산한 전력을 저장하는 배터리와, 상기 태양전지판...     1150  \n",
       "5     제1항에 있어서,상기 메인 컨트롤러는상기 IoT 모듈로부터 전송되는 수질 측정신호를...      614  \n",
       "...                                                 ...      ...  \n",
       "1101                  제2항에 있어서,                상기 멀티...      240  \n",
       "1102                  제2항에 있어서,                상기 콘솔...      257  \n",
       "1103                  제5항에 있어서,                상기 콘솔...      288  \n",
       "1104  제5항에 있어서,                                상기 서비...      245  \n",
       "1105  제5항에 있어서,                                상기 서비...      245  \n",
       "\n",
       "[902 rows x 4 columns]"
      ]
     },
     "execution_count": 89,
     "metadata": {},
     "output_type": "execute_result"
    }
   ],
   "source": [
    "claim_df2 = claim_df.copy()\n",
    "claim_df2 = claim_df2.assign(sentence=claim_df2['claim'].str.split(\"\\n\")).explode(\"sentence\").reset_index(drop=True) # 청구항 문장 단위로 분리\n",
    "claim_df2 = claim_df2[claim_df2['sentence'].apply(lambda data: True if len(data)>1 else False)]  # 공백 제거\n",
    "claim_df2 = claim_df2.assign(len_sen=claim_df2['sentence'].apply(lambda data: len(data)))\n",
    "claim_df2 = claim_df2.drop(columns=['claim'])\n",
    "claim_df2"
   ]
  },
  {
   "cell_type": "code",
   "execution_count": null,
   "metadata": {},
   "outputs": [],
   "source": [
    "# claim_df2.to_csv(os.path.join(save_path, \"G16Y_118_v4.csv\"), encoding='euc-kr', index=False)"
   ]
  },
  {
   "cell_type": "code",
   "execution_count": 87,
   "metadata": {},
   "outputs": [
    {
     "data": {
      "text/plain": [
       "118"
      ]
     },
     "execution_count": 87,
     "metadata": {},
     "output_type": "execute_result"
    }
   ],
   "source": [
    "len(claim_df2['applicationNumber'].unique())"
   ]
  },
  {
   "cell_type": "code",
   "execution_count": 96,
   "metadata": {},
   "outputs": [
    {
     "data": {
      "text/plain": [
       "183"
      ]
     },
     "execution_count": 96,
     "metadata": {},
     "output_type": "execute_result"
    }
   ],
   "source": [
    "target_df = claim_df2[(claim_df2['len_sen'] >= 194) & (claim_df2['len_sen'] <= 294)]\n",
    "len(target_df)"
   ]
  },
  {
   "cell_type": "markdown",
   "metadata": {},
   "source": [
    "# 5. 문장 토크나이징"
   ]
  },
  {
   "cell_type": "markdown",
   "metadata": {},
   "source": [
    "# 특허 데이터 확인"
   ]
  },
  {
   "cell_type": "code",
   "execution_count": 102,
   "metadata": {},
   "outputs": [
    {
     "name": "stderr",
     "output_type": "stream",
     "text": [
      "/tmp/ipykernel_143817/2279253133.py:11: SettingWithCopyWarning: \n",
      "A value is trying to be set on a copy of a slice from a DataFrame.\n",
      "Try using .loc[row_indexer,col_indexer] = value instead\n",
      "\n",
      "See the caveats in the documentation: https://pandas.pydata.org/pandas-docs/stable/user_guide/indexing.html#returning-a-view-versus-a-copy\n",
      "  target_df['tokens'] = target_df['sentence'].apply(lambda data: tokenizing(data))\n"
     ]
    },
    {
     "data": {
      "text/html": [
       "<div>\n",
       "<style scoped>\n",
       "    .dataframe tbody tr th:only-of-type {\n",
       "        vertical-align: middle;\n",
       "    }\n",
       "\n",
       "    .dataframe tbody tr th {\n",
       "        vertical-align: top;\n",
       "    }\n",
       "\n",
       "    .dataframe thead th {\n",
       "        text-align: right;\n",
       "    }\n",
       "</style>\n",
       "<table border=\"1\" class=\"dataframe\">\n",
       "  <thead>\n",
       "    <tr style=\"text-align: right;\">\n",
       "      <th></th>\n",
       "      <th>seq</th>\n",
       "      <th>applicationNumber</th>\n",
       "      <th>sentence</th>\n",
       "      <th>len_sen</th>\n",
       "      <th>tokens</th>\n",
       "    </tr>\n",
       "  </thead>\n",
       "  <tbody>\n",
       "    <tr>\n",
       "      <th>8</th>\n",
       "      <td>1448</td>\n",
       "      <td>1020190019082</td>\n",
       "      <td>제 1항에 있어서,상기 시스템은,상기 촬영이미지에 대한 가이드이미지를 생성하는 가이...</td>\n",
       "      <td>231</td>\n",
       "      <td>[CLS], 제, 1, ##항, ##에, 있, ##어서, ,, 상기, 시스템, ##...</td>\n",
       "    </tr>\n",
       "    <tr>\n",
       "      <th>9</th>\n",
       "      <td>1448</td>\n",
       "      <td>1020190019082</td>\n",
       "      <td>제 2항에 있어서,상기 시스템은,상기 촬영이미지와 상기 가이드이미지의 각각의 구도를...</td>\n",
       "      <td>275</td>\n",
       "      <td>[CLS], 제, 2, ##항, ##에, 있, ##어서, ,, 상기, 시스템, ##...</td>\n",
       "    </tr>\n",
       "    <tr>\n",
       "      <th>25</th>\n",
       "      <td>2451</td>\n",
       "      <td>1020190043955</td>\n",
       "      <td>수신된 디바이스 정보를 디바이스 등록 정보로 저장하는 디바이스 등록부;새로운 디바이...</td>\n",
       "      <td>277</td>\n",
       "      <td>[CLS], 수신, ##된, 디바이스, 정보, ##를, 디바이스, 등록, 정보, #...</td>\n",
       "    </tr>\n",
       "    <tr>\n",
       "      <th>27</th>\n",
       "      <td>2451</td>\n",
       "      <td>1020190043955</td>\n",
       "      <td>제 1 항에 있어서,상기 디바이스 접속 결정부는,상기 접속 요청 신호를 수신하는 경...</td>\n",
       "      <td>195</td>\n",
       "      <td>[CLS], 제, 1, 항, ##에, 있, ##어서, ,, 상기, 디바이스, 접속,...</td>\n",
       "    </tr>\n",
       "    <tr>\n",
       "      <th>36</th>\n",
       "      <td>3672</td>\n",
       "      <td>1020180000048</td>\n",
       "      <td>제1항에 있어서,모듈형 컨테이너 부스의 상부에 형성된 전광판은 2단 이상의 복층으로...</td>\n",
       "      <td>194</td>\n",
       "      <td>[CLS], 제, ##1, ##항, ##에, 있, ##어서, ,, 모듈, ##형, ...</td>\n",
       "    </tr>\n",
       "    <tr>\n",
       "      <th>...</th>\n",
       "      <td>...</td>\n",
       "      <td>...</td>\n",
       "      <td>...</td>\n",
       "      <td>...</td>\n",
       "      <td>...</td>\n",
       "    </tr>\n",
       "    <tr>\n",
       "      <th>1101</th>\n",
       "      <td>1909225</td>\n",
       "      <td>1020040101224</td>\n",
       "      <td>제2항에 있어서,                상기 멀티...</td>\n",
       "      <td>240</td>\n",
       "      <td>[CLS], 제, ##2, ##항, ##에, 있, ##어서, ,, 상기, 멀티, 콘...</td>\n",
       "    </tr>\n",
       "    <tr>\n",
       "      <th>1102</th>\n",
       "      <td>1909225</td>\n",
       "      <td>1020040101224</td>\n",
       "      <td>제2항에 있어서,                상기 콘솔...</td>\n",
       "      <td>257</td>\n",
       "      <td>[CLS], 제, ##2, ##항, ##에, 있, ##어서, ,, 상기, 콘솔, #...</td>\n",
       "    </tr>\n",
       "    <tr>\n",
       "      <th>1103</th>\n",
       "      <td>1909225</td>\n",
       "      <td>1020040101224</td>\n",
       "      <td>제5항에 있어서,                상기 콘솔...</td>\n",
       "      <td>288</td>\n",
       "      <td>[CLS], 제, ##5, ##항, ##에, 있, ##어서, ,, 상기, 콘솔, #...</td>\n",
       "    </tr>\n",
       "    <tr>\n",
       "      <th>1104</th>\n",
       "      <td>1909225</td>\n",
       "      <td>1020040101224</td>\n",
       "      <td>제5항에 있어서,                                상기 서비...</td>\n",
       "      <td>245</td>\n",
       "      <td>[CLS], 제, ##5, ##항, ##에, 있, ##어서, ,, 상기, 서비스, ...</td>\n",
       "    </tr>\n",
       "    <tr>\n",
       "      <th>1105</th>\n",
       "      <td>1909225</td>\n",
       "      <td>1020040101224</td>\n",
       "      <td>제5항에 있어서,                                상기 서비...</td>\n",
       "      <td>245</td>\n",
       "      <td>[CLS], 제, ##5, ##항, ##에, 있, ##어서, ,, 상기, 서비스, ...</td>\n",
       "    </tr>\n",
       "  </tbody>\n",
       "</table>\n",
       "<p>183 rows × 5 columns</p>\n",
       "</div>"
      ],
      "text/plain": [
       "          seq  applicationNumber  \\\n",
       "8        1448      1020190019082   \n",
       "9        1448      1020190019082   \n",
       "25       2451      1020190043955   \n",
       "27       2451      1020190043955   \n",
       "36       3672      1020180000048   \n",
       "...       ...                ...   \n",
       "1101  1909225      1020040101224   \n",
       "1102  1909225      1020040101224   \n",
       "1103  1909225      1020040101224   \n",
       "1104  1909225      1020040101224   \n",
       "1105  1909225      1020040101224   \n",
       "\n",
       "                                               sentence  len_sen  \\\n",
       "8     제 1항에 있어서,상기 시스템은,상기 촬영이미지에 대한 가이드이미지를 생성하는 가이...      231   \n",
       "9     제 2항에 있어서,상기 시스템은,상기 촬영이미지와 상기 가이드이미지의 각각의 구도를...      275   \n",
       "25    수신된 디바이스 정보를 디바이스 등록 정보로 저장하는 디바이스 등록부;새로운 디바이...      277   \n",
       "27    제 1 항에 있어서,상기 디바이스 접속 결정부는,상기 접속 요청 신호를 수신하는 경...      195   \n",
       "36    제1항에 있어서,모듈형 컨테이너 부스의 상부에 형성된 전광판은 2단 이상의 복층으로...      194   \n",
       "...                                                 ...      ...   \n",
       "1101                  제2항에 있어서,                상기 멀티...      240   \n",
       "1102                  제2항에 있어서,                상기 콘솔...      257   \n",
       "1103                  제5항에 있어서,                상기 콘솔...      288   \n",
       "1104  제5항에 있어서,                                상기 서비...      245   \n",
       "1105  제5항에 있어서,                                상기 서비...      245   \n",
       "\n",
       "                                                 tokens  \n",
       "8     [CLS], 제, 1, ##항, ##에, 있, ##어서, ,, 상기, 시스템, ##...  \n",
       "9     [CLS], 제, 2, ##항, ##에, 있, ##어서, ,, 상기, 시스템, ##...  \n",
       "25    [CLS], 수신, ##된, 디바이스, 정보, ##를, 디바이스, 등록, 정보, #...  \n",
       "27    [CLS], 제, 1, 항, ##에, 있, ##어서, ,, 상기, 디바이스, 접속,...  \n",
       "36    [CLS], 제, ##1, ##항, ##에, 있, ##어서, ,, 모듈, ##형, ...  \n",
       "...                                                 ...  \n",
       "1101  [CLS], 제, ##2, ##항, ##에, 있, ##어서, ,, 상기, 멀티, 콘...  \n",
       "1102  [CLS], 제, ##2, ##항, ##에, 있, ##어서, ,, 상기, 콘솔, #...  \n",
       "1103  [CLS], 제, ##5, ##항, ##에, 있, ##어서, ,, 상기, 콘솔, #...  \n",
       "1104  [CLS], 제, ##5, ##항, ##에, 있, ##어서, ,, 상기, 서비스, ...  \n",
       "1105  [CLS], 제, ##5, ##항, ##에, 있, ##어서, ,, 상기, 서비스, ...  \n",
       "\n",
       "[183 rows x 5 columns]"
      ]
     },
     "execution_count": 102,
     "metadata": {},
     "output_type": "execute_result"
    }
   ],
   "source": [
    "#TODO: functions.py 수정\n",
    "\n",
    "model_path = \"../KIPI-KorPatELECTRA/KorPatELECTRA/PT\"\n",
    "tokenizer = ElectraTokenizer.from_pretrained(model_path)\n",
    "def tokenizing(sen: str)-> str:\n",
    "    tokens = tokenizer.tokenize(sen)\n",
    "    tokens = [\"[CLS]\"] + tokens + [\"[SEP]\"]\n",
    "\n",
    "    return \", \".join(token for token in tokens)\n",
    "    \n",
    "target_df['tokens'] = target_df['sentence'].apply(lambda data: tokenizing(data))\n",
    "target_df"
   ]
  },
  {
   "cell_type": "code",
   "execution_count": 104,
   "metadata": {},
   "outputs": [],
   "source": [
    "target_df.to_csv(os.path.join(save_path, \"llm프롬포팅용데이터.csv\"), encoding='euc-kr', index=False)"
   ]
  },
  {
   "cell_type": "code",
   "execution_count": 64,
   "metadata": {},
   "outputs": [
    {
     "name": "stdout",
     "output_type": "stream",
     "text": [
      "['실시간 메이크업 진단 및 질의응답 서비스 제공 시스템으로서,유저로부터 유저정보를 입력받는 유저가입부 및, 전문가로부터 전문가정보를 입력받는 전문가가입부를 포함하는 가입처리모듈;복수의 상기 전문가를 리스트화한 멘토리스트를 생성하는 리스트생성부 및, 상기 멘토리스트를 상기 유저에게 제공하는 리스트제공부와, 상기 유저로부터 상기 멘토리스트에 속한 상기 전문가 중 적어도 어느 하나를 선택받는 멘토선택부를 포함하는 멘토선택모듈;상기 유저로부터 상기 유저의 안면부를 촬영한 적어도 하나 이상의 촬영이미지 및 관련질문을 입력받는 질문입력모듈;상기 유저로부터 선택받은 상기 전문가에게 상기 유저의 촬영이미지 및 상기 관련질문을 제공하는 질문제공모듈;상기 촬영이미지를 분석하여 상기 촬영이미지로부터 적어도 하나 이상의 메이크업영역을 검출하는 영역검출부 및, 각각의 상기 메이크업영역에 대해 색상정보 및 도포정보를 생성하는 영역분석부와, 상기 색상정보 및 상기 도포정보에 따라 각각의 상기 메이크업영역에 대한 영역별점수를 산출하는 영역별산출부 및, 상기 영역별점수를 기반으로 하여 상기 촬영이미지에 대한 종합점수를 산출하는 종합점수산출부를 포함하는 자동분석모듈;상기 전문가로부터 멘토코멘트를 입력받는 코멘트입력부 및, 상기 멘토코멘트 및 상기 영역별점수와 상기 종합점수를 상기 유저에게 제공하는 코멘트전달부를 포함하는 멘토링수행모듈;을 포함하고, 상기 질문입력모듈은, 상기 유저에게 기 설정된 기준색상이미지를 제공하는 기준색상제공부 및, 상기 유저로부터 상기 기준색상이미지 및 상기 유저의 안면부가 함께 촬영된 적어도 하나 이상의 촬영이미지와 상기 관련질문을 입력받는 질문입력부를 포함하며,상기 자동분석모듈은,유저에게 제공된 상기 기준색상이미지의 색상정보인 기준색상정보를 분석하는 기준분석파트 및, 상기 촬영이미지에 포함된 상기 기준색상이미지의 색상정보인 입력색상정보를 분석하는 비교분석파트와, 상기 입력색상정보와 상기 기준색상정보가 일치되도록 상기 촬영이미지를 보정 처리하는 보정처리파트를 포함하는 이미지보정부를 포함하고,상기 영역검출부는,보정 처리된 상기 촬영이미지를 분석하여 적어도 하나 이상의 메이크업영역을 검출하는 것을 특징으로 하는, 실시간 메이크업 진단 및 질의응답 서비스 제공 시스템.', '제 1항에 있어서,상기 시스템은,상기 촬영이미지에 대한 가이드이미지를 생성하는 가이드생성부 및,상기 가이드이미지를 상기 유저에게 제공하는 가이드제공부를 포함하는 가이드제공모듈;을 더 포함하며,상기 질문입력모듈은,상기 가이드이미지를 제공받은 상기 유저로부터 상기 유저의 안면부를 촬영한 적어도 하나 이상의 촬영이미지 및 관련질문을 입력받는 것을 특징으로 하는, 실시간 메이크업 진단 및 질의응답 서비스 제공 시스템.', '제 2항에 있어서,상기 시스템은,상기 촬영이미지와 상기 가이드이미지의 각각의 구도를 분석하는 구도분석부 및,분석된 상기 촬영이미지의 구도 및 상기 가이드이미지의 구도 사이의 유사도를 분석하는 유사도분석부 및,상기 촬영이미지 및 상기 가이드이미지의 구도 사이의 유사도가 기 설정된 기준유사도 이하임에 따라 상기 유저에게 상기 촬영이미지에 대한 재입력을 요청하는 추가이미지요청부를 포함하는 가이드분석모듈;을 더 포함하는 것을 특징으로 하는, 실시간 메이크업 진단 및 질의응답 서비스 제공 시스템.', '', '', '제 1항에 있어서,상기 시스템은,상기 촬영이미지에 대한 복수개의 가이드이미지를 생성하는 가이드생성부 및,복수개의 상기 가이드이미지를 상기 유저에게 제공하는 가이드제공부를 포함하는 가이드제공모듈;을 더 포함하며,상기 질문입력모듈은,상기 가이드이미지를 제공받은 상기 유저로부터 상기 유저의 안면부를 촬영한 복수개의 촬영이미지 및 관련질문을 입력받고,상기 시스템은,입력받은 복수개의 촬영이미지를 조합하여 3차원이미지를 생성하는 3차원이미지생성모듈;을 더 포함하며,상기 영역검출부는,상기 3차원이미지를 분석하여 상기 3차원이미지로부터 적어도 하나 이상의 메이크업영역을 검출하고,상기 종합점수산출부는,상기 영역별점수를 기반으로 하여 상기 3차원이미지에 대한 종합점수를 산출하는 것을 특징으로 하는, 실시간 메이크업 진단 및 질의응답 서비스 제공 시스템.', '제 6항에 있어서,상기 가이드이미지는,안면부에 대한 저면가이드이미지, 상면가이드이미지, 정면가이드이미지, 좌측면가이드이미지, 우측면가이드이미지를 포함하고,상기 질문입력모듈은,상기 가이드이미지를 제공받은 상기 유저로부터 안면부의 저면, 상면, 정면, 좌측면, 우측면을 포함하는 적어도 다섯 개 이상의 촬영이미지 및 관련질문을 입력받으며,상기 3차원이미지생성모듈은,복수개의 상기 촬영이미지를 전처리하여 노이즈를 제거하는 노이즈제거부 및,노이즈가 제거된 복수개의 상기 촬영이미지로부터 대상체를 추출하는 대상체추출부 및,추출된 각각의 상기 촬영이미지의 대상체에 대해 촬영거리 오차를 보정하여 복수개의 상기 대상체의 크기가 일치하도록 보정하는 크기보정부 및,추출된 각각의 상기 촬영이미지의 대상체에 대해 촬영각도 오차를 보정하여 복수개의 상기 대상체가 직각을 이루도록 보정하는 각도보정부와,방향별 상기 대상체의 세로축 좌표 및 깊이 정보를 기반으로 복수개의 상기 대상체를 렌더링하여 3차원이미지를 생성하는 렌더링부를 포함하는 것을 특징으로 하는, 실시간 메이크업 진단 및 질의응답 서비스 제공 시스템.', '제 6항에 있어서,상기 3차원이미지생성모듈은,생성된 상기 3차원이미지로부터 잔존 노이즈를 검출하고 제거하여 상기 3차원이미지에 대한 추가 보정을 수행하는 추가보정부를 더 포함하는 것을 특징으로 하는, 실시간 메이크업 진단 및 질의응답 서비스 제공 시스템.', '제 8항에 있어서,상기 추가보정부는,소벨(Sobel) 연산자를 통해 상기 3차원이미지로부터 에지를 검출하는 에지 검출파트와,상기 설정된 기준값보다 작은 화소 값을 가지는 에지의 화소를 노이즈로 검출하는 노이즈검출파트 및,검출된 상기 노이즈를 제거하는 노이즈제거파트와,상기 3차원이미지의 프레임을 이진수 프레임으로 변환한 후 최근린 보간법을 통해 상기 이진수 프레임의 보완화소값을 산출하는 보완화소연산파트와,상기 보완화소값을 기반으로 상기 이진수 프레임으로부터 보완 프레임을 생성한 후 상기 3차원이미지의 프레임을 상기 보완 프레임으로 치환하여 상기 3차원이미지의 에지를 보완하는 이미지보완파트를 포함하는 것을 특징으로 하는, 실시간 메이크업 진단 및 질의응답 서비스 제공 시스템.', '1제 9항에 있어서,상기 보완화소값은,다음의 수학식 1을 통해 산출되는 것을 특징으로 하는, 실시간 메이크업 진단 및 질의응답 서비스 제공 시스템.수학식 1, (여기서, 는 이진수 형태의 보완화소값, 는 2n배 축소시킨 후 다시 2n배 확대시킨 이진수 프레임, 는 비트 OR 연산)', '1', '1', '1', '1']\n"
     ]
    }
   ],
   "source": [
    "for claim in claim_df[claim_df['applicationNumber']==1020190019082]['claim'].str.split(\"\\n\"):\n",
    "    print(claim)"
   ]
  },
  {
   "cell_type": "code",
   "execution_count": 76,
   "metadata": {},
   "outputs": [],
   "source": [
    "# 1020190019082\n",
    "# 1020090108319\n",
    "# 1020040058962\n",
    "\n",
    "target = claim_df_original[claim_df_original['applicationNumber']==1020040058962]"
   ]
  },
  {
   "cell_type": "code",
   "execution_count": 77,
   "metadata": {},
   "outputs": [
    {
     "name": "stdout",
     "output_type": "stream",
     "text": [
      "[\"1. <P INDENT='14' ALIGN='JUSTIFIED'>집(1)에서 그 일측에 인공지능컴퓨터프로세서와 칩이 내장된 컴퓨터기(23)에 의해 입력정보에 따라 움직이는 통제회로부(10)와 전원부(9)와 스윗치(9')와 CCTV 송수신부(15)를 설치구성하여 범인(침입자)가 들어오거나 문앞에 서성될때 이를감지하는 전자감응장치기(2)와 적외선감지기(3)를 문밖이나 문내측 출입구 또는 본발명품내외측에 설치구성하여 놓고 여기서 감지포착된 전기적신호가 통제부(10)로 통보하면 위의 출입구 등,복도에 설치된 CCTV카메라기(15'&quot;)(15')와 본발명품, 본체(22)에 설치된 CCTV카메라기(15&quot;)가 송수신부(15)에 의해 작동 촬영시작되어 실시간으로 동영상, 사진 등을 원격 송수신기(13)에 의해 경찰서 112지령실 또는 사용자등의 휴대폰으로 메모리된 내용이 전송된다 그리고 그 전기적신호에 의해 본발명품을 강제로 열거나 충격을 주거나, 터치시에도 문등의 내측 일측에 설치된 감지센스(2')와 자동 감지센스(2,3)에 의하여 마취탄장치기(4)에 의해 마취탄(4')이 발사부(5)로 발사되어 범인을 항거불능으로 만들어서 체포시키며 또한 동시에 에어백식으로 발사되는 그물발사기(6)를 일측에 설치구성시키며 인공지능컴퓨터(8)가 사람의 음성, 얼굴 등의 인식하여 통제 작동명령을 내려서 위의 발사부(5)가 작동되어 마취탄(4')이나 그외 가스탄(4&quot;)이 발사되어 터지고 그물발사기(6)가 작동는 것을 특징으로 하는 테러방지용 최첨단 하이테크 디지털 기능성의 집 의 제조방법</P>\", \"2. <P INDENT='14' ALIGN='JUSTIFIED'>제1항에 있어서 습도조절기(11&quot;)가 설치된 것을 특징으로 하는 테러방지용 <DP N='13' TYPE='SOFT'>최첨단 하이테크디지털기능성의 집 의 제조방법</P>\", \"3. <P INDENT='14' ALIGN='JUSTIFIED'>제1항에 있어서 전자충격기(19)가 설치된 것을 특징으로하는 테러방지용최첨단하이테크디지털기능성의 집 의 제조방법</P>\", \"4. <P INDENT='14' ALIGN='JUSTIFIED'>제1항에 있어서 부비츄랩기(20)가 설치된것을 특징으로하는 테러방지용최첨단하이테크디지털기능성의 집 의 제조방법</P>\", \"5. <P INDENT='14' ALIGN='JUSTIFIED'>제1항에 있어서 건강체크기(30)가 설치된것을 특징으로하는 테러방지용 최첨단 하이테크 디지털기능성 집 의 제조방법</P>\", \"6. <P INDENT='14' ALIGN='JUSTIFIED'>제1항에 있어서 광촉매물질이 본체(22)에 도포 또는 함유된 것을 특징으로 하는 테러방지용 최첨단 하이테크 디지털기능성의 집 의 제조방법</P>\", \"7. <P INDENT='14' ALIGN='JUSTIFIED'>제1항에 있어서 인공지능컴퓨터가 내장된 식의 곡식자동배합시켜 토출시키는 장치기가 설치된 것을 특징으로하는 테러방지용 최첨단 하이테크 디지털 기능성의 집 의 제조방법</P>\", \"8. <P INDENT='14' ALIGN='JUSTIFIED'>제1항에 있어서 인공지능 컴퓨터가 내장된 건강진단장치기가 설치된 것을 특징으로 하는 테러방지용 최첨단 하이테크 디지털 기능성 집 의 제조방법</P>\", \"9. <P INDENT='14' ALIGN='JUSTIFIED'>제1항에 있어서 전자식 향기, 살균가스, 항균가스 등을 훈증시키는 전자훈증방출기(29)가 설치된 것을 특징으로하는 테러방지용 최첨단하이테크디지털기능성의 집 의 제조방법</P>\", \"10. <P INDENT='14' ALIGN='JUSTIFIED'>제1항에 있어서 각종 보석류 일체가 설치되는 안착구(처)를 구비한것을 특징으로 하는 테러방지용 최첨단 하이테크디지털기능성의 집 의 제조방법</P>\", \"11. <P INDENT='14' ALIGN='JUSTIFIED'>제1항에 있어서 인공지능 컴퓨터가 내장된 장치기(23)가 설치된 것을 특징으로하는 테러방지용 최첨단 하이테크 디지털 기능성의 집 의 제조방법</P>\", \"12. <P INDENT='14' ALIGN='JUSTIFIED'>제1항에 있어서 본체(22)의 재질로서 바이오세라믹, 게르마늄, 황토 옥 등으로 합성된기능성물질(21)과 토르마린 원석 및 모든 원석류 일체와 모든 보석류 일체와 모든 흙류일체와 모든 식물,동물류 일체로 임의처리 공정으로 제작된 것을 특징으로 하는 테러방지용 최첨단 하이테크 디지털 기능성의 집 의 제조방법</P>\", \"13. <P INDENT='14' ALIGN='JUSTIFIED'>제1항에 있어서 확성기(11)와 스피커(11')와 라디오(11&quot;&quot;)와 TV(9&quot;)와  자동조명등(44')과 조명자동기(44)와 벨(12)이 설치된 것을 특징으로하는 테러방지용 최첨단 하이테크 디지털 기능성의 집 의 제조방법 </P>\", \"14. <DP N='15' TYPE='SOFT'><P INDENT='14' ALIGN='JUSTIFIED'>제1항에 있어서 인공지능 컴퓨터식의 송수신발신장치기가 설치된 것을 특징으로하는 테러방지용 최첨단 하이테크디지털 기능성의 집 의제조방법</P>\", \"15. <P INDENT='14' ALIGN='JUSTIFIED'>제1항에 있어서 초음파 벌레퇴치기(33)가 설치된 것을 특징으로하는 테러방지용 최첨단 하이테크 디지털 기능성의 집 의 제조방법</P>\", \"16. <P INDENT='14' ALIGN='JUSTIFIED'>제1항에 있어서 비상벨장치기(35)가 설치된 것을 특징으로 하는 테러방지용 최첨단 하이테크 디지털 기능성의 집 의 제조방법</P>\", \"17. <P INDENT='14' ALIGN='JUSTIFIED'>제1항에 있어서 환경체크장치기(37)와 콘트롤박스(38)가 설치된것을 특징으로 하는 테러방지용 최첨단 하이테크 디지털 기능성의 집 의 제조방법</P>\", \"18. <P INDENT='14' ALIGN='JUSTIFIED'>제1항에 있어서 전자식 인공지능컴퓨터의 프로세서와 칩이 내장된 최첨단의 음성, 얼굴, 지문등을 인식을 해 문을 자동 개폐시키는 개폐 잠금 장치기(43) 설치된 것을 특징으로하는 테러방지용 최첨단 하이테크 디지털 기능성의 집 의 제조방법</P>\", \"19. <P INDENT='14' ALIGN='JUSTIFIED'>제1항에 있어서 화재발생 감지센스 및 경보, 휴대폰으로 원격송신발신하는 알림장치기(39)가 설치된것을 특징으로하는 테러방지용 최첨단 하이테크 디지털 기능성의 집 의 제조방법.</P>\", \"20. <P INDENT='14' ALIGN='JUSTIFIED'>제1항에 있어서 건강체크장치기(40)가 설치된 것을 특징으로하는 테러방지용 최첨단 하이테크디지털기능성의 집 의 제조방법.</P>\", \"21. <P INDENT='14' ALIGN='JUSTIFIED'>제1항에 있어서 음이온발생기(46)와 도난경보기(42)와 원적외선기(46)가 설치된 것을 특징으로하는 테러방지용 최첨단하이테크디지털기능성의 집 의 제조방법</P>\", \"22. <P INDENT='14' ALIGN='JUSTIFIED'>제1항에 있어서 산소발생기(47)와 오존발생기(48)와 향기발생기(49)가 설치된 것을 특징으로 하는 테러방지용 최첨단 하이테크 디지털 기능성의 집 의 제조방법</P>\", \"23. <P INDENT='14' ALIGN='JUSTIFIED'>제1항에 있어서 음성멜러디등의 알람기(45)와 전자식 저울계(52)와 훈증기(53)가 설치된것을 특징으로하는 테러방지용 최첨단하이테크디지털기능성의 집 의 제조방법</P>\", \"24. <P INDENT='14' ALIGN='JUSTIFIED'>제1항에 있어서 에어컨기(50)와 히이타기(51)가 설치된 것을 특징으로하는 테러방지용 최첨단 하이테크 디지털 기능성의 집 의 제조방법</P>\", \"25. <P INDENT='14' ALIGN='JUSTIFIED'>제1항에 있어서 컴퓨터(56)가 설치된 것을 특징으로하는 테러방지용 최첨단 하이테크 디지털 기능성의 집 의 제조방법 </P>\", '']\n"
     ]
    }
   ],
   "source": [
    "for claim in target['claim'].str.split(\"\\n\"):\n",
    "    print(claim)"
   ]
  },
  {
   "cell_type": "code",
   "execution_count": null,
   "metadata": {},
   "outputs": [],
   "source": [
    "#  '11. 삭제', '12. 삭제', '13. 삭제', '14. 삭제', ''"
   ]
  }
 ],
 "metadata": {
  "kernelspec": {
   "display_name": "korpatE",
   "language": "python",
   "name": "python3"
  },
  "language_info": {
   "codemirror_mode": {
    "name": "ipython",
    "version": 3
   },
   "file_extension": ".py",
   "mimetype": "text/x-python",
   "name": "python",
   "nbconvert_exporter": "python",
   "pygments_lexer": "ipython3",
   "version": "3.8.0"
  }
 },
 "nbformat": 4,
 "nbformat_minor": 2
}
