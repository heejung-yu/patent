{
 "cells": [
  {
   "cell_type": "markdown",
   "metadata": {},
   "source": [
    "# 개체명 태그 데이터 EDA"
   ]
  },
  {
   "cell_type": "code",
   "execution_count": 139,
   "metadata": {},
   "outputs": [],
   "source": [
    "import pandas as pd\n",
    "import matplotlib.pyplot as plt\n",
    "from tqdm import tqdm\n",
    "import os\n",
    "import numpy as np"
   ]
  },
  {
   "cell_type": "markdown",
   "metadata": {},
   "source": [
    "# class 테스트"
   ]
  },
  {
   "cell_type": "code",
   "execution_count": 140,
   "metadata": {},
   "outputs": [],
   "source": [
    "class DataEDA:\n",
    "    def __init__ (self):\n",
    "        self.data_dict = dict()\n",
    "        self.data_df = pd.DataFrame()\n",
    "\n",
    "    # csv 파일 읽기 -------------------------------------------------------------------------------\n",
    "    def read_csv(self, path: str)-> pd.DataFrame:\n",
    "        try:\n",
    "            df = pd.read_csv(path)\n",
    "        except Exception as e:\n",
    "            print(e)\n",
    "            df = pd.DataFrame()\n",
    "        return df\n",
    "    \n",
    "    # 데이터 최소, 최대, 평균, 표준편차 ------------------------------------------------------------\n",
    "    def data_status(self, stat_list: list, text: str)-> dict:\n",
    "        stat_dict = {}\n",
    "\n",
    "        stat_dict[f'{text} 최소'] = min(stat_list) \n",
    "        stat_dict[f'{text} 최대'] = max(stat_list)\n",
    "        stat_dict[f'{text} 평균'] = int(sum(stat_list)/len(stat_list))\n",
    "        stat_dict[f'{text} 표준 편차'] = int(np.std(stat_list)) \n",
    "\n",
    "        return stat_dict\n",
    "    \n",
    "    # 특허별 문장 건수  --------------------------------------------------------------------------------------------\n",
    "    def _setence_count_per_pt(self, df: pd.DataFrame)-> dict:\n",
    "        unique_pt_group = df.groupby(['특허번호'])\n",
    "\n",
    "        sentence_per_pt = []\n",
    "        for idx, data in unique_pt_group:\n",
    "            sentence_per_pt.append(len(set(data['문장번호'])))\n",
    "\n",
    "        return self.data_status(sentence_per_pt, '문장 건수')\n",
    "    \n",
    "    # 문장 길이 -----------------------------------------------------------------------------------------------\n",
    "    def _sentence_length(self, df: pd.DataFrame)-> dict:\n",
    "        unique_pt_sen_group = df.groupby(['특허번호', '문장번호'])\n",
    "\n",
    "        sentence_len_list = []\n",
    "        for idx, data in unique_pt_sen_group:\n",
    "            sentence = data['문장'].iloc[0]\n",
    "            sentence_len_list.append(len(sentence))\n",
    "\n",
    "        return self.data_status(sentence_len_list, '문장 길이')\n",
    "\n",
    "    # 기본 통계 (파일이름, 행수, 특허건수, 전체 문장 건수) ------------------------------------------------------------------\n",
    "    def base_eda(self, df: pd.DataFrame, filename: str)-> dict:\n",
    "        df_eda_dict = {}\n",
    "        df_eda_dict['파일이름'] = filename.replace(\".csv\", \"\")\n",
    "        df_eda_dict['행수'] = len(df)\n",
    "\n",
    "        unique_pt = df['특허번호'].dropna().unique(); df_eda_dict['특허 건수'] = len(unique_pt) # 특허 건수 카운팅\n",
    "        unique_pt_sen_group = df.groupby(['특허번호', '문장번호']); df_eda_dict['전체 문장 건수'] = len(unique_pt_sen_group.groups) # 전체 문장 건수\n",
    "\n",
    "        # bio 태그 별 건수\n",
    "        tag_group = df.groupby('BIO')\n",
    "        for idx, data in tag_group:\n",
    "            df_eda_dict[idx] = len(data)\n",
    "\n",
    "        return df_eda_dict\n",
    "\n",
    "    # main -----------------------------------------------------------------------------------------------------------------\n",
    "    def run(self, data_path: str=\"./data/ner_dic_ami\"):\n",
    "        data_file_list = os.listdir(data_path)\n",
    "\n",
    "        for filename in tqdm(data_file_list):\n",
    "            df = self.read_csv(os.path.join(data_path, filename))\n",
    "            df[['특허번호', '문장번호', '문장']] = df[['특허번호', '문장번호', '문장']].ffill() # nan값 채우기\n",
    "\n",
    "            base_dict = self.base_eda(df, filename)\n",
    "            self.data_df = pd.concat([self.data_df, pd.DataFrame([base_dict])])"
   ]
  },
  {
   "cell_type": "code",
   "execution_count": 141,
   "metadata": {},
   "outputs": [
    {
     "name": "stderr",
     "output_type": "stream",
     "text": [
      "100%|██████████| 4/4 [00:00<00:00, 31.51it/s]\n"
     ]
    }
   ],
   "source": [
    "test = DataEDA()\n",
    "test.run(\"./data/ner_dic_ami\")"
   ]
  },
  {
   "cell_type": "code",
   "execution_count": 138,
   "metadata": {},
   "outputs": [
    {
     "data": {
      "text/html": [
       "<div>\n",
       "<style scoped>\n",
       "    .dataframe tbody tr th:only-of-type {\n",
       "        vertical-align: middle;\n",
       "    }\n",
       "\n",
       "    .dataframe tbody tr th {\n",
       "        vertical-align: top;\n",
       "    }\n",
       "\n",
       "    .dataframe thead th {\n",
       "        text-align: right;\n",
       "    }\n",
       "</style>\n",
       "<table border=\"1\" class=\"dataframe\">\n",
       "  <thead>\n",
       "    <tr style=\"text-align: right;\">\n",
       "      <th></th>\n",
       "      <th>파일이름</th>\n",
       "      <th>행수</th>\n",
       "      <th>특허 건수</th>\n",
       "      <th>전체 문장 건수</th>\n",
       "      <th>B_TRM</th>\n",
       "      <th>I_TRM</th>\n",
       "      <th>O</th>\n",
       "    </tr>\n",
       "  </thead>\n",
       "  <tbody>\n",
       "    <tr>\n",
       "      <th>0</th>\n",
       "      <td>G06V_클라우드컴퓨터</td>\n",
       "      <td>27520</td>\n",
       "      <td>24</td>\n",
       "      <td>459</td>\n",
       "      <td>3353</td>\n",
       "      <td>3670</td>\n",
       "      <td>20006</td>\n",
       "    </tr>\n",
       "    <tr>\n",
       "      <th>0</th>\n",
       "      <td>G06W_빅데이터</td>\n",
       "      <td>5199</td>\n",
       "      <td>5</td>\n",
       "      <td>122</td>\n",
       "      <td>538</td>\n",
       "      <td>506</td>\n",
       "      <td>4140</td>\n",
       "    </tr>\n",
       "    <tr>\n",
       "      <th>0</th>\n",
       "      <td>G06Y_인공지능</td>\n",
       "      <td>106302</td>\n",
       "      <td>99</td>\n",
       "      <td>1783</td>\n",
       "      <td>14820</td>\n",
       "      <td>14318</td>\n",
       "      <td>76137</td>\n",
       "    </tr>\n",
       "    <tr>\n",
       "      <th>0</th>\n",
       "      <td>G16Y_사물인터넷</td>\n",
       "      <td>4130</td>\n",
       "      <td>6</td>\n",
       "      <td>76</td>\n",
       "      <td>670</td>\n",
       "      <td>512</td>\n",
       "      <td>2845</td>\n",
       "    </tr>\n",
       "  </tbody>\n",
       "</table>\n",
       "</div>"
      ],
      "text/plain": [
       "           파일이름      행수  특허 건수  전체 문장 건수  B_TRM  I_TRM      O\n",
       "0  G06V_클라우드컴퓨터   27520     24       459   3353   3670  20006\n",
       "0     G06W_빅데이터    5199      5       122    538    506   4140\n",
       "0     G06Y_인공지능  106302     99      1783  14820  14318  76137\n",
       "0    G16Y_사물인터넷    4130      6        76    670    512   2845"
      ]
     },
     "execution_count": 138,
     "metadata": {},
     "output_type": "execute_result"
    }
   ],
   "source": [
    "test.data_df"
   ]
  },
  {
   "cell_type": "markdown",
   "metadata": {},
   "source": [
    "# 기타"
   ]
  },
  {
   "cell_type": "code",
   "execution_count": 72,
   "metadata": {},
   "outputs": [
    {
     "data": {
      "image/png": "[encoded data removed]",
      "text/plain": [
       "<Figure size 640x480 with 1 Axes>"
      ]
     },
     "metadata": {},
     "output_type": "display_data"
    }
   ],
   "source": [
    "# # 문장길이 박스플롯\n",
    "# plt.boxplot(sentence_len_list, vert=False, patch_artist=True, boxprops=dict(facecolor='skyblue', color='black'))\n",
    "# plt.title(\"Sentence Length Differences (Box Plot)\")\n",
    "# plt.xlabel(\"Sentence Length\")\n",
    "# plt.show()"
   ]
  },
  {
   "cell_type": "code",
   "execution_count": null,
   "metadata": {},
   "outputs": [],
   "source": []
  }
 ],
 "metadata": {
  "kernelspec": {
   "display_name": "base",
   "language": "python",
   "name": "python3"
  },
  "language_info": {
   "codemirror_mode": {
    "name": "ipython",
    "version": 3
   },
   "file_extension": ".py",
   "mimetype": "text/x-python",
   "name": "python",
   "nbconvert_exporter": "python",
   "pygments_lexer": "ipython3",
   "version": "3.11.7"
  }
 },
 "nbformat": 4,
 "nbformat_minor": 2
}
