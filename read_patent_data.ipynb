{
 "cells": [
  {
   "cell_type": "code",
   "execution_count": 1,
   "metadata": {},
   "outputs": [],
   "source": [
    "import requests\n",
    "import pandas as pd\n",
    "from tqdm import tqdm\n",
    "from bs4 import BeautifulSoup\n",
    "import os\n",
    "import xml.etree.ElementTree as ET\n",
    "import json\n",
    "import xmltodict\n",
    "import xml.etree.ElementTree as ET\n",
    "import pickle\n",
    "import json\n",
    "from typing import List"
   ]
  },
  {
   "cell_type": "markdown",
   "metadata": {},
   "source": [
    "# ~~1. 특허 데이터 오픈 API 읽어오기~~\n",
    "- 공공데이터포털, \"한국과학기술연구원_특허DB\""
   ]
  },
  {
   "cell_type": "code",
   "execution_count": 3,
   "metadata": {},
   "outputs": [],
   "source": [
    "uri = \"http://161.122.37.103:6736/openapi-data/service/thesis/\"\n",
    "encodingKey = \"wJ%2FpsYnaSH4n0J%2B%2BtvxXVLG8SP5xctqn5M1rOIBUM5sC3qi4eMcrV3j35I6Z2CEaMy32X2FNuzf4hDEXPiIuXA%3D%3D\"\n",
    "decodingKey = \"wJ/psYnaSH4n0J++tvxXVLG8SP5xctqn5M1rOIBUM5sC3qi4eMcrV3j35I6Z2CEaMy32X2FNuzf4hDEXPiIuXA==\"\n",
    "\n",
    "service_name_dict = {'논문조회서비스': 'GetThesisInfoService', \n",
    "                     '특허조회서비스': 'GetPatentInfoService'}"
   ]
  },
  {
   "cell_type": "code",
   "execution_count": 4,
   "metadata": {},
   "outputs": [],
   "source": [
    "# response 반환\n",
    "def getResponse(url, params):\n",
    "    try:\n",
    "        response = requests.get(url, params=params)\n",
    "    except Exception as e:\n",
    "        print(e)\n",
    "        return\n",
    "    return response"
   ]
  },
  {
   "cell_type": "code",
   "execution_count": 5,
   "metadata": {},
   "outputs": [],
   "source": [
    "# 전체 데이터개수 반환\n",
    "def getLastPageNum(response):\n",
    "    soup =BeautifulSoup(response.text, 'xml')\n",
    "    return int(soup.find(\"totalCount\").text)"
   ]
  },
  {
   "cell_type": "code",
   "execution_count": 6,
   "metadata": {},
   "outputs": [],
   "source": [
    "def createData(response):\n",
    "    contents = response.json()\n",
    "    return pd.DataFrame(contents['response']['body']['items'])"
   ]
  },
  {
   "cell_type": "code",
   "execution_count": 7,
   "metadata": {},
   "outputs": [],
   "source": [
    "def getData(url, totalPageNum):\n",
    "    df_list = []\n",
    "    pageNum = 1\n",
    "    params ={'serviceKey' : decodingKey, 'pageNo' : pageNum, 'numOfRows' : '1000', 'type' : 'json'}\n",
    "\n",
    "    with tqdm(total=totalPageNum, desc=f\"진행 상황\") as pbar:\n",
    "        for i in range(totalPageNum):\n",
    "            df_list.append(createData(getResponse(url, params=params)))\n",
    "\n",
    "            pageNum+=1\n",
    "            params ={'serviceKey' : decodingKey, 'pageNo' : pageNum, 'numOfRows' : '1000', 'type' : 'json'}\n",
    "            pbar.update(1)  # 진행 상황 업데이트\n",
    "            \n",
    "    return df_list"
   ]
  },
  {
   "cell_type": "code",
   "execution_count": 8,
   "metadata": {},
   "outputs": [
    {
     "ename": "AttributeError",
     "evalue": "'NoneType' object has no attribute 'text'",
     "output_type": "error",
     "traceback": [
      "\u001b[0;31m---------------------------------------------------------------------------\u001b[0m",
      "\u001b[0;31mAttributeError\u001b[0m                            Traceback (most recent call last)",
      "Cell \u001b[0;32mIn[8], line 5\u001b[0m\n\u001b[1;32m      3\u001b[0m target_uri \u001b[38;5;241m=\u001b[39m \u001b[38;5;124m'\u001b[39m\u001b[38;5;124mhttp://161.122.37.103:6736/openapi-data/service/patent/patentApplication?pageNo=1&applyDate=201411&serviceKey=\u001b[39m\u001b[38;5;124m'\u001b[39m\u001b[38;5;241m+\u001b[39mdecodingKey\n\u001b[1;32m      4\u001b[0m \u001b[38;5;66;03m# 데이터 전체 개수 카운팅\u001b[39;00m\n\u001b[0;32m----> 5\u001b[0m totalDataLength \u001b[38;5;241m=\u001b[39m \u001b[43mgetLastPageNum\u001b[49m\u001b[43m(\u001b[49m\u001b[43mgetResponse\u001b[49m\u001b[43m(\u001b[49m\u001b[43mtarget_uri\u001b[49m\u001b[43m,\u001b[49m\u001b[43m \u001b[49m\u001b[43mparams\u001b[49m\u001b[43m)\u001b[49m\u001b[43m)\u001b[49m\n\u001b[1;32m      6\u001b[0m totalPageNum \u001b[38;5;241m=\u001b[39m \u001b[38;5;28mint\u001b[39m(totalDataLength\u001b[38;5;241m/\u001b[39m\u001b[38;5;241m1000\u001b[39m)\u001b[38;5;241m+\u001b[39m\u001b[38;5;241m1\u001b[39m\n\u001b[1;32m      8\u001b[0m df \u001b[38;5;241m=\u001b[39m pd\u001b[38;5;241m.\u001b[39mconcat(getData(target_uri, totalPageNum), ignore_index\u001b[38;5;241m=\u001b[39m\u001b[38;5;28;01mTrue\u001b[39;00m)\n",
      "Cell \u001b[0;32mIn[5], line 4\u001b[0m, in \u001b[0;36mgetLastPageNum\u001b[0;34m(response)\u001b[0m\n\u001b[1;32m      2\u001b[0m \u001b[38;5;28;01mdef\u001b[39;00m \u001b[38;5;21mgetLastPageNum\u001b[39m(response):\n\u001b[1;32m      3\u001b[0m     soup \u001b[38;5;241m=\u001b[39mBeautifulSoup(response\u001b[38;5;241m.\u001b[39mtext, \u001b[38;5;124m'\u001b[39m\u001b[38;5;124mxml\u001b[39m\u001b[38;5;124m'\u001b[39m)\n\u001b[0;32m----> 4\u001b[0m     \u001b[38;5;28;01mreturn\u001b[39;00m \u001b[38;5;28mint\u001b[39m(\u001b[43msoup\u001b[49m\u001b[38;5;241;43m.\u001b[39;49m\u001b[43mfind\u001b[49m\u001b[43m(\u001b[49m\u001b[38;5;124;43m\"\u001b[39;49m\u001b[38;5;124;43mtotalCount\u001b[39;49m\u001b[38;5;124;43m\"\u001b[39;49m\u001b[43m)\u001b[49m\u001b[38;5;241;43m.\u001b[39;49m\u001b[43mtext\u001b[49m)\n",
      "\u001b[0;31mAttributeError\u001b[0m: 'NoneType' object has no attribute 'text'"
     ]
    }
   ],
   "source": [
    "params ={'serviceKey' : encodingKey, 'pageNo' : 1, 'numOfRows' : '1000', 'type' : 'xml'}\n",
    "target_uri = uri+service_name_dict['특허조회서비스']\n",
    "target_uri = 'http://161.122.37.103:6736/openapi-data/service/patent/patentApplication?pageNo=1&applyDate=201411&serviceKey='+decodingKey\n",
    "# 데이터 전체 개수 카운팅\n",
    "totalDataLength = getLastPageNum(getResponse(target_uri, params))\n",
    "totalPageNum = int(totalDataLength/1000)+1\n",
    "\n",
    "df = pd.concat(getData(target_uri, totalPageNum), ignore_index=True)"
   ]
  },
  {
   "cell_type": "markdown",
   "metadata": {},
   "source": [
    "# 2. USPTO 데이터"
   ]
  },
  {
   "cell_type": "code",
   "execution_count": 4,
   "metadata": {},
   "outputs": [],
   "source": [
    "def read_pkl_file(filePath):\n",
    "    with open(filePath, 'rb') as file:\n",
    "        data = pickle.load(file)\n",
    "    return data"
   ]
  },
  {
   "cell_type": "code",
   "execution_count": 5,
   "metadata": {},
   "outputs": [
    {
     "data": {
      "text/plain": [
       "1"
      ]
     },
     "execution_count": 5,
     "metadata": {},
     "output_type": "execute_result"
    }
   ],
   "source": [
    "patent_data_path = \"./data/patent\"\n",
    "patent_file_list = os.listdir(patent_data_path)\n",
    "len(patent_file_list)"
   ]
  },
  {
   "cell_type": "code",
   "execution_count": 6,
   "metadata": {},
   "outputs": [
    {
     "name": "stderr",
     "output_type": "stream",
     "text": [
      "Read Patent File:   0%|          | 0/1 [00:09<?, ?it/s]\n"
     ]
    }
   ],
   "source": [
    "for filename in tqdm(patent_file_list, desc=f\"Read Patent File\"):\n",
    "    p_data: List[dict] = read_pkl_file(os.path.join(patent_data_path, filename))\n",
    "    break"
   ]
  },
  {
   "cell_type": "code",
   "execution_count": 9,
   "metadata": {},
   "outputs": [
    {
     "name": "stderr",
     "output_type": "stream",
     "text": [
      "Read 2003.pkl data: 100%|██████████| 187104/187104 [11:25<00:00, 272.81it/s]\n"
     ]
    }
   ],
   "source": [
    "patent_df = pd.DataFrame()\n",
    "\n",
    "for data in tqdm(p_data, desc=f\"Read {filename} data\"):  \n",
    "    patent_name = data.get('bibliographic_information', {}).get('title_of_invention', None)\n",
    "    code_information = data.get('classifications', {})\n",
    "    cpc_ipc_code = code_information.get('main_or_locrano_class', None)\n",
    "    edition = code_information.get('ipc_edition', None)\n",
    "    patent_df = pd.concat([patent_df, pd.DataFrame([{'patent_title':patent_name, 'cpc_ipc_code': cpc_ipc_code, 'edition': edition}])])"
   ]
  },
  {
   "cell_type": "code",
   "execution_count": 11,
   "metadata": {},
   "outputs": [
    {
     "data": {
      "text/plain": [
       "(187104,\n",
       "                                         patent_title  cpc_ipc_code edition\n",
       " 0       Method and apparatus for pay-per-view system   [H04N  716]     [7]\n",
       " 0  Method and apparatus for customized rendering ...   [H04N  900]     [7]\n",
       " 0  Conditional access filter as for a packet vide...  [H04N  7167]     [7]\n",
       " 0  System for distributing and handling electroni...   [H04N  545]     [7]\n",
       " 0  Method and apparatus for lost connectivity rec...  [H04N  7173]     [7])"
      ]
     },
     "execution_count": 11,
     "metadata": {},
     "output_type": "execute_result"
    }
   ],
   "source": [
    "len(patent_df), patent_df.tail()"
   ]
  },
  {
   "cell_type": "code",
   "execution_count": 13,
   "metadata": {},
   "outputs": [],
   "source": [
    "patent_df.to_csv(\"./data/output/2003_patent_titlt_code(241204,1).csv\")"
   ]
  },
  {
   "cell_type": "markdown",
   "metadata": {},
   "source": [
    "# 1. cpc코드"
   ]
  },
  {
   "cell_type": "code",
   "execution_count": 15,
   "metadata": {},
   "outputs": [
    {
     "data": {
      "text/plain": [
       "9"
      ]
     },
     "execution_count": 15,
     "metadata": {},
     "output_type": "execute_result"
    }
   ],
   "source": [
    "cpc_data_path = \"./data/cpc_title\"\n",
    "cpc_file_list = [filename for filename in os.listdir(cpc_data_path) if filename.endswith(\"txt\")]\n",
    "len(cpc_file_list)"
   ]
  },
  {
   "cell_type": "code",
   "execution_count": 26,
   "metadata": {},
   "outputs": [
    {
     "data": {
      "text/html": [
       "<div>\n",
       "<style scoped>\n",
       "    .dataframe tbody tr th:only-of-type {\n",
       "        vertical-align: middle;\n",
       "    }\n",
       "\n",
       "    .dataframe tbody tr th {\n",
       "        vertical-align: top;\n",
       "    }\n",
       "\n",
       "    .dataframe thead th {\n",
       "        text-align: right;\n",
       "    }\n",
       "</style>\n",
       "<table border=\"1\" class=\"dataframe\">\n",
       "  <thead>\n",
       "    <tr style=\"text-align: right;\">\n",
       "      <th></th>\n",
       "      <th>code</th>\n",
       "      <th>depth</th>\n",
       "      <th>title</th>\n",
       "    </tr>\n",
       "  </thead>\n",
       "  <tbody>\n",
       "    <tr>\n",
       "      <th>0</th>\n",
       "      <td>D</td>\n",
       "      <td>NaN</td>\n",
       "      <td>TEXTILES; PAPER</td>\n",
       "    </tr>\n",
       "    <tr>\n",
       "      <th>1</th>\n",
       "      <td>D01</td>\n",
       "      <td>NaN</td>\n",
       "      <td>NATURAL OR MAN-MADE THREADS OR FIBRES; SPINNING</td>\n",
       "    </tr>\n",
       "    <tr>\n",
       "      <th>2</th>\n",
       "      <td>D01B</td>\n",
       "      <td>NaN</td>\n",
       "      <td>MECHANICAL TREATMENT OF NATURAL FIBROUS OR FIL...</td>\n",
       "    </tr>\n",
       "    <tr>\n",
       "      <th>3</th>\n",
       "      <td>D01B1/00</td>\n",
       "      <td>0.0</td>\n",
       "      <td>Mechanical separation of fibres from plant mat...</td>\n",
       "    </tr>\n",
       "    <tr>\n",
       "      <th>4</th>\n",
       "      <td>D01B1/02</td>\n",
       "      <td>1.0</td>\n",
       "      <td>Separating vegetable fibres from seeds, e.g. c...</td>\n",
       "    </tr>\n",
       "    <tr>\n",
       "      <th>...</th>\n",
       "      <td>...</td>\n",
       "      <td>...</td>\n",
       "      <td>...</td>\n",
       "    </tr>\n",
       "    <tr>\n",
       "      <th>5688</th>\n",
       "      <td>D21J5/00</td>\n",
       "      <td>0.0</td>\n",
       "      <td>Manufacture of hollow articles by transferring...</td>\n",
       "    </tr>\n",
       "    <tr>\n",
       "      <th>5689</th>\n",
       "      <td>D21J7/00</td>\n",
       "      <td>0.0</td>\n",
       "      <td>Manufacture of hollow articles from fibre susp...</td>\n",
       "    </tr>\n",
       "    <tr>\n",
       "      <th>5690</th>\n",
       "      <td>D99</td>\n",
       "      <td>NaN</td>\n",
       "      <td>SUBJECT MATTER NOT OTHERWISE PROVIDED FOR IN T...</td>\n",
       "    </tr>\n",
       "    <tr>\n",
       "      <th>5691</th>\n",
       "      <td>D99Z</td>\n",
       "      <td>NaN</td>\n",
       "      <td>SUBJECT MATTER NOT OTHERWISE PROVIDED FOR IN T...</td>\n",
       "    </tr>\n",
       "    <tr>\n",
       "      <th>5692</th>\n",
       "      <td>D99Z99/00</td>\n",
       "      <td>0.0</td>\n",
       "      <td>Subject matter not otherwise provided for in t...</td>\n",
       "    </tr>\n",
       "  </tbody>\n",
       "</table>\n",
       "<p>5693 rows × 3 columns</p>\n",
       "</div>"
      ],
      "text/plain": [
       "           code  depth                                              title\n",
       "0             D    NaN                                    TEXTILES; PAPER\n",
       "1           D01    NaN    NATURAL OR MAN-MADE THREADS OR FIBRES; SPINNING\n",
       "2          D01B    NaN  MECHANICAL TREATMENT OF NATURAL FIBROUS OR FIL...\n",
       "3      D01B1/00    0.0  Mechanical separation of fibres from plant mat...\n",
       "4      D01B1/02    1.0  Separating vegetable fibres from seeds, e.g. c...\n",
       "...         ...    ...                                                ...\n",
       "5688   D21J5/00    0.0  Manufacture of hollow articles by transferring...\n",
       "5689   D21J7/00    0.0  Manufacture of hollow articles from fibre susp...\n",
       "5690        D99    NaN  SUBJECT MATTER NOT OTHERWISE PROVIDED FOR IN T...\n",
       "5691       D99Z    NaN  SUBJECT MATTER NOT OTHERWISE PROVIDED FOR IN T...\n",
       "5692  D99Z99/00    0.0  Subject matter not otherwise provided for in t...\n",
       "\n",
       "[5693 rows x 3 columns]"
      ]
     },
     "execution_count": 26,
     "metadata": {},
     "output_type": "execute_result"
    }
   ],
   "source": [
    "for filename in cpc_file_list:\n",
    "    df = pd.read_csv(os.path.join(cpc_data_path, filename), sep='\\t', names=['code','depth','title'])\n",
    "    break\n",
    "df"
   ]
  },
  {
   "cell_type": "code",
   "execution_count": null,
   "metadata": {},
   "outputs": [],
   "source": []
  }
 ],
 "metadata": {
  "kernelspec": {
   "display_name": "base",
   "language": "python",
   "name": "python3"
  },
  "language_info": {
   "codemirror_mode": {
    "name": "ipython",
    "version": 3
   },
   "file_extension": ".py",
   "mimetype": "text/x-python",
   "name": "python",
   "nbconvert_exporter": "python",
   "pygments_lexer": "ipython3",
   "version": "3.9.19"
  }
 },
 "nbformat": 4,
 "nbformat_minor": 2
}
