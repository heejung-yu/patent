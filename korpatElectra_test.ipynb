{
 "cells": [
  {
   "cell_type": "code",
   "execution_count": 74,
   "metadata": {},
   "outputs": [],
   "source": [
    "import MeCab\n",
    "from transformers import ElectraModel, ElectraTokenizer\n",
    "import torch\n",
    "import pandas as pd\n",
    "from tqdm import tqdm\n",
    "from transformers import ElectraForTokenClassification"
   ]
  },
  {
   "cell_type": "markdown",
   "metadata": {},
   "source": [
    "# 1. 데이터 읽어오기"
   ]
  },
  {
   "cell_type": "code",
   "execution_count": null,
   "metadata": {},
   "outputs": [],
   "source": [
    "claim_data_path = \"./data/patent/kipris_claim_patent.csv\"\n",
    "claim_df = pd.read_csv(claim_data_path)\n",
    "claim_df = claim_df.drop(columns=[\"Unnamed: 0\"])\n",
    "claim_df.head()"
   ]
  },
  {
   "cell_type": "markdown",
   "metadata": {},
   "source": [
    "# 2. 개체명 추출"
   ]
  },
  {
   "cell_type": "markdown",
   "metadata": {},
   "source": [
    "## 2.1 mecab-ko-dic"
   ]
  },
  {
   "cell_type": "code",
   "execution_count": 64,
   "metadata": {},
   "outputs": [
    {
     "data": {
      "text/plain": [
       "(6663692,\n",
       "     실시예  Unnamed: 1  Unnamed: 2  Unnamed: 3  NNG  *  F 실시예.1 *.1 *.2 *.3 *.4\n",
       " 0    일측         NaN         NaN         NaN  NNG  *  T    일측   *   *   *   *\n",
       " 1   청구항         NaN         NaN         NaN  NNG  *  T   청구항   *   *   *   *\n",
       " 2   제어부         NaN         NaN         NaN  NNG  *  F   제어부   *   *   *   *\n",
       " 3  어드레스         NaN         NaN         NaN  NNG  *  F  어드레스   *   *   *   *\n",
       " 4  제조방법         NaN         NaN         NaN  NNG  *  T  제조방법   *   *   *   *)"
      ]
     },
     "execution_count": 64,
     "metadata": {},
     "output_type": "execute_result"
    }
   ],
   "source": [
    "# path = \"/home/ui/project/graduate_paper/korpatElectra/KIPI-KorPatELECTRA/pat_all_mecab_dic.csv\"\n",
    "# user_dict = pd.read_csv(path)\n",
    "# len(user_dict), user_dict.head()"
   ]
  },
  {
   "cell_type": "code",
   "execution_count": 8,
   "metadata": {},
   "outputs": [
    {
     "name": "stdout",
     "output_type": "stream",
     "text": [
      "안녕\tNNG,행위,T,안녕,*,*,*,*\n",
      "하\tXSV,*,F,하,*,*,*,*\n",
      "세요\tEP+EF,*,F,세요,Inflect,EP,EF,시/EP/*+어요/EF/*\n",
      ".\tSF,*,*,*,*,*,*,*\n",
      "EOS\n",
      "\n"
     ]
    }
   ],
   "source": [
    "# Tagger 객체 생성\n",
    "mecab = MeCab.Tagger()\n",
    "print(mecab.parse(\"안녕하세요.\"))"
   ]
  },
  {
   "cell_type": "code",
   "execution_count": null,
   "metadata": {},
   "outputs": [],
   "source": [
    "columns = [\"품사태그\", \"의미 부류\", \"종성유무\", \"원형\", \"타입\", \"첫번째품사\", \"마지막품사\", \"표현\"]\n",
    "result_df = pd.DataFrame()\n",
    "\n",
    "for data in claim_df['claim']:\n",
    "    for d in mecab.parse(data).split(\"\\n\"):\n",
    "        try:\n",
    "            text, classification = d.split(\"\\t\")\n",
    "            result_list = classification.split(\",\")\n",
    "            result_df = pd.concat([result_df, pd.DataFrame([result_list], columns=columns)])\n",
    "            \n",
    "        except ValueError:  # 마지막에 공백이 split(\"\\t\") 안 됨\n",
    "            continue\n",
    "        except Exception as e:\n",
    "            print(e)\n",
    "\n",
    "    break"
   ]
  },
  {
   "cell_type": "code",
   "execution_count": 61,
   "metadata": {},
   "outputs": [
    {
     "data": {
      "text/html": [
       "<div>\n",
       "<style scoped>\n",
       "    .dataframe tbody tr th:only-of-type {\n",
       "        vertical-align: middle;\n",
       "    }\n",
       "\n",
       "    .dataframe tbody tr th {\n",
       "        vertical-align: top;\n",
       "    }\n",
       "\n",
       "    .dataframe thead th {\n",
       "        text-align: right;\n",
       "    }\n",
       "</style>\n",
       "<table border=\"1\" class=\"dataframe\">\n",
       "  <thead>\n",
       "    <tr style=\"text-align: right;\">\n",
       "      <th></th>\n",
       "      <th>품사태그</th>\n",
       "      <th>의미 부류</th>\n",
       "      <th>종성유무</th>\n",
       "      <th>원형</th>\n",
       "      <th>타입</th>\n",
       "      <th>첫번째품사</th>\n",
       "      <th>마지막품사</th>\n",
       "      <th>표현</th>\n",
       "    </tr>\n",
       "  </thead>\n",
       "  <tbody>\n",
       "    <tr>\n",
       "      <th>0</th>\n",
       "      <td>SN</td>\n",
       "      <td>*</td>\n",
       "      <td>*</td>\n",
       "      <td>*</td>\n",
       "      <td>*</td>\n",
       "      <td>*</td>\n",
       "      <td>*</td>\n",
       "      <td>*</td>\n",
       "    </tr>\n",
       "    <tr>\n",
       "      <th>0</th>\n",
       "      <td>SF</td>\n",
       "      <td>*</td>\n",
       "      <td>*</td>\n",
       "      <td>*</td>\n",
       "      <td>*</td>\n",
       "      <td>*</td>\n",
       "      <td>*</td>\n",
       "      <td>*</td>\n",
       "    </tr>\n",
       "    <tr>\n",
       "      <th>0</th>\n",
       "      <td>NR</td>\n",
       "      <td>*</td>\n",
       "      <td>F</td>\n",
       "      <td>하나</td>\n",
       "      <td>*</td>\n",
       "      <td>*</td>\n",
       "      <td>*</td>\n",
       "      <td>*</td>\n",
       "    </tr>\n",
       "    <tr>\n",
       "      <th>0</th>\n",
       "      <td>NNG</td>\n",
       "      <td>*</td>\n",
       "      <td>T</td>\n",
       "      <td>이상</td>\n",
       "      <td>*</td>\n",
       "      <td>*</td>\n",
       "      <td>*</td>\n",
       "      <td>*</td>\n",
       "    </tr>\n",
       "    <tr>\n",
       "      <th>0</th>\n",
       "      <td>NNG</td>\n",
       "      <td>*</td>\n",
       "      <td>T</td>\n",
       "      <td>배전반</td>\n",
       "      <td>Compound</td>\n",
       "      <td>*</td>\n",
       "      <td>*</td>\n",
       "      <td>배전/NNG/*+반/NNG/*</td>\n",
       "    </tr>\n",
       "  </tbody>\n",
       "</table>\n",
       "</div>"
      ],
      "text/plain": [
       "  품사태그 의미 부류 종성유무   원형        타입 첫번째품사 마지막품사                표현\n",
       "0   SN     *    *    *         *     *     *                 *\n",
       "0   SF     *    *    *         *     *     *                 *\n",
       "0   NR     *    F   하나         *     *     *                 *\n",
       "0  NNG     *    T   이상         *     *     *                 *\n",
       "0  NNG     *    T  배전반  Compound     *     *  배전/NNG/*+반/NNG/*"
      ]
     },
     "execution_count": 61,
     "metadata": {},
     "output_type": "execute_result"
    }
   ],
   "source": [
    "result_df.head()"
   ]
  },
  {
   "cell_type": "code",
   "execution_count": null,
   "metadata": {},
   "outputs": [],
   "source": [
    "# result_df.to_csv(\"./data/output/electra_macab_test.csv\")"
   ]
  },
  {
   "cell_type": "markdown",
   "metadata": {},
   "source": [
    "## 2.2 BIO 태깅"
   ]
  },
  {
   "cell_type": "code",
   "execution_count": null,
   "metadata": {},
   "outputs": [],
   "source": []
  },
  {
   "cell_type": "markdown",
   "metadata": {},
   "source": [
    "# 2.3 모델 "
   ]
  },
  {
   "cell_type": "code",
   "execution_count": 76,
   "metadata": {},
   "outputs": [
    {
     "name": "stderr",
     "output_type": "stream",
     "text": [
      "Some weights of ElectraForTokenClassification were not initialized from the model checkpoint at monologg/koelectra-base-v3-discriminator and are newly initialized: ['classifier.bias', 'classifier.weight']\n",
      "You should probably TRAIN this model on a down-stream task to be able to use it for predictions and inference.\n"
     ]
    }
   ],
   "source": [
    "# 모델과 토크나이저 로드\n",
    "model_name = \"monologg/koelectra-base-v3-discriminator\"\n",
    "tokenizer = ElectraTokenizer.from_pretrained(model_name)\n",
    "model = ElectraModel.from_pretrained(model_name)\n",
    "model = ElectraForTokenClassification.from_pretrained(\n",
    "    \"monologg/koelectra-base-v3-discriminator\",\n",
    "    num_labels=10\n",
    ")\n",
    "\n",
    "# 입력 텍스트\n",
    "text = \"안녕하세요, Transformers 라이브러리를 사용하고 있습니다.\"\n",
    "\n",
    "# 토큰화 (딕셔너리 형태로 출력)\n",
    "inputs = tokenizer(text, return_tensors=\"pt\", truncation=True, padding=True)\n",
    "\n",
    "# 모델 출력\n",
    "with torch.no_grad():\n",
    "    outputs = model(**inputs)\n",
    "\n",
    "# print(outputs.last_hidden_state.shape)"
   ]
  },
  {
   "cell_type": "code",
   "execution_count": null,
   "metadata": {},
   "outputs": [
    {
     "name": "stdout",
     "output_type": "stream",
     "text": [
      "1. 하나 이상 배전반, 조기화재검지센서, 감시카메라로 구성된 배전반 통합 방재시스템에 있어서,배전반은 통합제어계전기, 배전반 우선순위절체기, 단말 6G SECURITY ENGINE을 포함하는 저압반, 아크검출기를 포함하는 고압반, 교류모터 고장 검출장치를 포함하는 모터콘트롤반, 전압이상 차단기를 포함하는 분전반을 포함하는 배전반이며;상기 배전반을 감시하는 감시카메라는 주제어부, 영상 보안처리부, 입출력부를 포함하여 구성되어 통합제어계전기에서 턴온 이벤트, 동작 제어신호 이벤트, 이상신호 이벤트, 조기화재검지 이벤트가 수신될 경우, 주제어부는 MCU(Micro Control Unit), PUF Chip, PUF-PIN Memory, QRNG Chip, Security OTP Memory로 구성되며;영상 보안처리부는 촬상센서부, 5G QUANTUM JUMP ENGINE로 구성되며; 양자통신부는 Bob 6G QUANTUM SERVER, Non-QUANTUM CHANNEL, Alice 6G QUANTUM SERVER로 구성되어,촬상센서부 내부 이미지센서는 광학신호를 전기신호로 변환한 영상데이터를 5G QUANTUM JUMP ENGINE으로 전송하며;하나 이상의 배전반으로부터 수집되는 배전반 상태정보 데이터를 단말 6G SECURITY ENGINE에서 수집하여 Bob 6G QUANTUM SERVER로 전송하며;및Alice 6G QUANTUM SERVER는 배전반 우선순위절체기 제어데이터를 Bob 6G QUANTUM SERVER로 전송하여 배전반 내부 단말 6G SECURITY ENGINE을 통하여 제어하며;단말 6G SECURITY ENGINE는 Bob 6G QUANTUM SERVER로부터 배전반 우선순위절체기 제어데이터를 수신하여 배전반 우선순위절체기로 전송하며;및배전반 우선순위절체기 제어데이터에 따라 배전반 우선순위절체기를 ON/OFF 제어하여 하나 이상의 배전반을 선택 운전하며;및 주제어부 MCU(Micro Control Unit)는 PUF Chip의 하드웨어 핀에서 PIN(Personal Identification Number) 데이터를 추출하여 PUF-PIN Memory 및 Alice 6G QUANTUM SERVER에 저장하며;상기 MCU(Micro Control Unit)는 QRNG Chip를 통해 양자난수를 발생시켜 PUF-PIN Memory에 저장된 PIN(Personal Identification Number) 데이터로 대칭암호키를 생성 후 상기 QRNG Chip를 통해 생성한 양자난수로 대칭암호키를 암호화하여 비대칭암호키를 생성하여 Security OTP Memory에 저장하며;Bob 6G QUANTUM SERVER는 Non-QUANTUM CHANNEL를 통해 Alice 6G QUANTUM SERVER로부터 비대칭암호키로 암호화된 PIN(Personal Identification Number) 데이터를 수신 후 입출력부를 통해 MCU(Micro Control Unit)로 전송하며;상기 MCU(Micro Control Unit)는 대칭암호키로 복호화하여 PUF-PIN Memory에 저장된 PIN(Personal Identification Number) 데이터와 일치할 경우, 5G QUANTUM JUMP ENGINE로 부터 영상데이터를 Non-QUANTUM CHANNEL를 통해 Alice 6G QUANTUM SERVER가 수신하는 것을 특징으로 하는 인공지능 통합방재 배전반 시스템.\n",
      "2. 통합제어계전기를 포함하는 저압반, 아크검출기를 포함하는 변압기반 및 고압반, 교류모터 고장 검출장치를 포함하는 모터콘트롤반, 전압이상 차단기를 포함하는 저압반 및 분전반, 조기화재검지센서, 화재검지센서로 구성된 인공지능 통합방재 배전반 시스템에 있어서,교류 모터의 이상상태를 검출하는 교류모터 고장 검출장치를 포함하는 모터콘트롤반에 있어서,상기 교류 모터의 전압 입력단자에 연결되며, 입력 전압의 위상을 0(zero)에서 90도까지 지연시키는 전압 위상 지연 설정부;상기 전압 위상 지연 설정부의 출력과 기준전압을 비교하여 전압 위상을 구형파로 변환하여 출력하는 제1 비교기를 포함하는 전압 위상 변환부;상기 교류 모터의 전류 입력단자에 연결되며, 부하측에 흐르는 전류 위상을 구형파로 검출하는 전류 위상 검출부;상기 전류 위상 검출부의 출력과 기준전압을 비교하여 전류 위상을 구형파로 변환하여 출력하는 제2 비교기를 포함하는 전류 위상 변환부;상기 전압 위상 변환부의 출력 및 상기 전류 위상 변환부의 출력 합성분과 기준전압을 비교하여 전압 위상과 전류 위상의 위상차를 구형파로 출력하는 제3 비교기를 포함하는 위상 비교부;상기 위상 비교부의 출력을 적분하여 톱니파 형태로 변환하는 톱니파 발생부;상기 톱니파 발생부의 출력과 기준전압을 비교하여 전압 위상과 전류 위상의 위상차에 대응하는 펄스 신호를 출력하는 제4 비교기를 포함하는 위상차 검출부;상기 위상차 검출부의 출력을 계수하며 누적 계수치가 소정치 이상일 때 출력을 발생시키는 리플 카운터를 포함하는 노이즈 필터부;및상기 노이즈 필터부의 출력에 따라 스위칭되어 이상신호를 출력하는 이상신호 출력부;상기 이상신호 출력부를 통해 이상신호가 발생할 경우 이상신호 이벤트를 저압반 내부의 통합제어계전기로 전송하는 교류모터 고장 검출장치;분전반 내부의 누전차단기 후단부 또는 변압기반 또는 고압반 중 어느 하나 이상에 배치되어 선간에 발생하는 아크검출기에 있어서,접촉 불량에 의한 아크 펄스 전류를 포함한 회전 동작전원용 정류부;상기 정류부를 통과한 상기 아크 펄스 전류에 의한 아크 전압을 검출하는 아크 전압 검출부;상기 아크 전압 검출부의 전단 또는 후단에 결합되는 고주파 통과 필터;상기 아크 전압 검출부가 검출하는 아크 전압을 이용하여 릴레이동작제어신호를 생성하는 제어신호 생성부;및상기 릴레이동작제어신호에 제어되어 옥내 배선의 접지 라인과 전원 라인을 전기적으로 연결하는 릴레이를 포함하고 상기 제어신호 생성부는,상기 아크 전압을 입력 터미널에 입력받아 소정의 펄스 폭을 생성하는 펄스 신호 생성부;상기 펄스 신호 생성부로부터 출력되는 펄스 신호가 소정 개수 이상이면 펄스 지연 신호를 생성하는 펄스 지연 신호 생성부;및상기 펄스 지연 신호를 이용하여 릴레이를 동작시키기 위한 릴레이 동작 제어신호를 생성하는 동작 제어신호 생성부;상기 동작 제어신호 생성부에서 동작 제어신호가 분전반 또는 변압기반 또는 고압반 중 어느 하나 이상에서 발생할 경우, 동작 제어신호 이벤트를 통합제어계전기로 전송하는 아크검출기;선간 전압 강하시 누설 전류를 인위적으로 발생시킴으로써 스위치를 동작시키는 전압이상 차단기를 포함하는 저압반 또는 분전반에 있어서,입력되는 상용 교류 전원을 정류하여 출력하는 정류부;상기 정류부에 병렬연결되고, 상기 정류부로부터 출력되는 순수 맥류 성분의 정류전압을 직류가 포함된 맥류로 부분 평활화하는 평활부;상기 정류부에 병렬연결되고, 직렬연결의 저항으로 구성되며, 상기 정류부로부터 출력되는 정류전압을 분압하는 분압부;상기 분압부로부터 제공되는 전압이 소정 전압보다 낮으면 트리거신호를 발생하는 트리거신호발생부;상기 정류부와 병렬연결되고, 상기 트리거신호에 턴온되는 스위칭소자와 상기 스위칭소자에 직렬연결된 릴레이를 포함하는 릴레이구동부;및상기 정류부의 출력과 접지 사이에 연결되고, 상기 릴레이의 동작으로 인해 발생하는 누설전류를 제한하는 누설전류제한부를 포함하고, 상기 트리거신호발생부는, 소정 전압을 충전하여 제공하는 충전전압 제공부;및상기 분압부로부터 제공되는 전압이 상기 소정 전압보다 낮으면 턴온되는 스위칭 소자를 포함하는 전압이상 차단기에서 턴온 이벤트가 발생할 경우 분전반에 경고램프가 점등 또는 통합제어계전기로 턴온 이벤트를 전송하는 전압이상 차단기;HCl 가스검지 화재검지센서에 있어서,화재검지센서는 Ag 기판 상에 도금방식, 증착방식, 디핑방식 중 어느 하나 이상의 방식을 통해 입자의 크기가 0.3 ~ 0.6㎛ 범위로 형성되는 AgI 층;상기 AgI 층 상에 도금방식, 증착방식, 디핑방식 중 어느 하나 이상의 방식을 통해 적층된 구조로 입자의 크기가 0.4 ~ 1.0㎛ 범위로 형성되는 AgCl 층;으로 구성되어, AgCl 층에 덩어리형태(bulk)인 나노 다공성 구조 라인타입 전도성 촉매 박막 패턴을 형성하여 전극 쌍 사이에서 전하를 띤 캐리어의 빠른 전도길을 제공하는 전도성 박막 패턴;상기 전도성 박막 패턴은 전도성 박막을 형성하고 상기 전도성 박막을 패터닝(Ptterning) 형성하는 것으로, 전도성 박막 패턴은 전극 쌍과 평행하도록 배치되어 전극 쌍 사이에서 전도길(conduction path)을 따라 전자가 전도할 때, 전자가 가스 감지막과 전도성 박막 패턴에서 번갈아 가며 전도할 수 있도록 배치는 것으로, 가스 감지막은 전도성 박막 패턴 상에 박막의 형태로 증착되어 형성되어, 가스 감지막은 외부로부터 도입되는 감지 대상 가스가 가스 감지막을 통과하여 확산하여 전도성 박막 패턴에 충분히 도달할 수 있게 상기 전도성 박막 패턴을 둘러싸는 가스 감지막;상기 가스 감지막에 전원을 인가하는 전극 쌍을 포함하되,상기 전도성 박막 패턴은 감지 대상 가스에 대한 상기 가스 감지막의 감지 반응을 촉진하는 촉매 작용을 하는 화재검지센서에서 화재검지 이벤트가 발생할 경우, 화재검지 이벤트를 통합제어계전기로 전송하며;Benzyl Alcohol 가스검지 또는 BHT 가스검지 조기화재검지센서에 있어서,조기화재검지센서는 Benzyl Alcohol 가스검지 또는 BHT 가스검지로 구성되어, 조기화재검지 이벤트가 발생할 경우, 조기화재검지 이벤트를 통합제어계전기로 전송하며;저압반 내부의 통합제어계전기는 턴온 이벤트만 수신될 경우, 위험경보 이벤트를 발생하며;및통합제어계전기는 동작 제어신호 이벤트만 수신될 경우, 위험경보 이벤트를 발생하며;및통합제어계전기는 이상신호 이벤트만 수신될 경우, 해당 부하를 차단 및 위험경보 이벤트를 발생하며;및통합제어계전기는 조기화재검지 이벤트가 발생할 경우, 위험경보 이벤트를 발생하며;및통합제어계전기는 화재검지 이벤트가 발생할 경우, 화재경보 이벤트를 발생하며;통합제어계전기는 턴온 이벤트, 동작 제어신호 이벤트, 이상신호 이벤트 중 어느하나 이상의 이벤트와 화재검지 이벤트가 동시에 발생할 경우 고압차단기를 작동시키며;통합제어계전기는 조기화재검지 이벤트 또는 화재검지 이벤트가 발생하지 않은 상태에서 축전지반에 이상이 발생할 경우, 저압반의 220V 상용전원을 110V로 강압하여 저압반 구동전원을 공급하는 것을 특징으로 하는 인공지능 통합방재 배전반 시스템.\n",
      "3. 하나 이상의 배전반, 조기화재검지센서, 감시카메라로 구성된 배전반 통합 방재시스템에 있어서,배전반은 통합제어계전기, 배전반 우선순위절체기, 단말 6G SECURITY ENGINE을 포함하는 저압반, 아크검출기를 포함하는 고압반, 교류모터 고장 검출장치를 포함하는 모터콘트롤반, 전압이상 차단기를 포함하는 분전반을 포함하는 배전반이며;상기 배전반을 감시하는 감시카메라는 주제어부, 영상 보안처리부, 입출력부를 포함하여 구성되어 통합제어계전기에서 턴온 이벤트, 동작 제어신호 이벤트, 이상신호 이벤트, 조기화재검지 이벤트가 수신될 경우, 상기 배전반을 감시하는 감시카메라는 주제어부, 영상 보안처리부, 입출력부를 포함하여 구성되고,주제어부는 MCU, PUF Chip, PUF-PIN Memory, QRNG Chip, Security OTP Memory로 구성되며;영상 보안처리부는 촬상센서부, 5G QUANTUM JUMP ENGINE으로 구성되며; 양자통신부는 Bob 6G QUANTUM SERVER, Bob QUANTUM SERVER, Non-QUANTUM CHANNEL, QUANTUM CHANNEL, Alice 6G QUANTUM SERVER, Alice QUANTUM SERVER로 구성되어,촬상센서부 내부 이미지센서는 광학신호를 전기신호로 변환한 영상데이터를 5G QUANTUM JUMP ENGINE으로 전송하며;배전반으로부터 수집되는 배전반 상태정보 데이터를 단말 6G SECURITY ENGINE에서 수집하여 Bob 6G QUANTUM SERVER로 전송하며;및Bob 6G QUANTUM SERVER는 Alice 6G QUANTUM SERVER, Alice QUANTUM SERVER 중 어느 하나로부터 배전반 제어데이터를 수신하여 배전반 내부 단말 6G SECURITY ENGINE으로 전송하며;단말 6G SECURITY ENGINE는 Bob 6G QUANTUM SERVER로부터 배전반 제어데이터를 수신하여 통합제어계전기로 전송하며;및배전반 제어데이터에 따라 통합제어계전기를 제어하여 배전반을 제어하며;및주제어부 MCU는 PUF Chip의 하드웨어 핀에서 PIN(Personal Identification Number) 데이터를 추출하여 PUF-PIN Memory 및 Alice 6G QUANTUM SERVER에 저장하며;상기 MCU는 QRNG Chip를 통해 양자난수를 발생시켜 PUF-PIN Memory에 저장된 PIN(Personal Identification Number) 데이터로 대칭암호키를 생성 후 상기 QRNG Chip를 통해 생성한 양자난수로 대칭암호키를 암호화하여 비대칭암호키를 생성하여 Security OTP Memory에 저장하며;Bob 6G QUANTUM SERVER는 Non-QUANTUM CHANNEL를 통해 Alice 6G QUANTUM SERVER로부터 비대칭암호키로 암호화된 PIN(Personal Identification Number) 데이터를 수신 후 입출력부를 통해 MCU로 전송하며;상기 MCU는 대칭암호키로 복호화하여 PUF-PIN Memory에 저장된 PIN(Personal Identification Number) 데이터와 일치할 경우 5G QUANTUM JUMP ENGINE으로부터 영상데이터를 Non-QUANTUM CHANNEL를 통해 Alice 6G QUANTUM SERVER가 수신하며;Alice QUANTUM SERVER와 Bob QUANTUM SERVER는 QUANTUM CHANNEL로 연결되어,Alice QUANTUM SERVER에서 QUANTUM KEY를 생성하여 QUANTUM KEY를 QUANTUM CHANNEL를 통해 Bob QUANTUM SERVER로 전송하며;Bob QUANTUM SERVER는 5G QUANTUM JUMP ENGINE으로부터 Bob 6G QUANTUM SERVER를 거쳐 영상데이터를 수신하여 QUANTUM KEY로 영상데이터를 암호화한 암호화 영상데이터를 QUANTUM CHANNEL를 통해 Alice QUANTUM SERVER로 전송하며;Alice QUANTUM SERVER는 QUANTUM KEY로 암호화한 암호화 영상데이터를 복호화하는 것을 특징으로 하는 인공지능 통합방재 배전반 시스템.\n",
      "4. 통합제어계전기 및 전압이상 차단기를 포함하는 저압반, 아크검출기를 포함하는 고압반, 교류모터 고장 검출장치를 포함하는 모터콘트롤반, 조기화재검지센서, 화재검지센서로 구성된 인공지능 통합방재 배전반 시스템에 있어서,교류 모터의 이상상태를 검출하는 교류모터 고장 검출장치를 포함하는 모터콘트롤반에 있어서,상기 교류 모터의 전압 입력단자에 연결되며, 입력 전압의 위상을 0(zero)에서 90도까지 지연시키는 전압 위상 지연 설정부;상기 전압 위상 지연 설정부의 출력과 기준전압을 비교하여 전압 위상을 구형파로 변환하여 출력하는 제1 비교기를 포함하는 전압 위상 변환부;상기 교류 모터의 전류 입력단자에 연결되며, 부하측에 흐르는 전류 위상을 구형파로 검출하는 전류 위상 검출부;상기 전류 위상 검출부의 출력과 기준전압을 비교하여 전류 위상을 구형파로 변환하여 출력하는 제2 비교기를 포함하는 전류 위상 변환부;상기 전압 위상 변환부의 출력 및 상기 전류 위상 변환부의 출력 합성분과 기준전압을 비교하여 전압 위상과 전류 위상의 위상차를 구형파로 출력하는 제3 비교기를 포함하는 위상 비교부;상기 위상 비교부의 출력을 적분하여 톱니파 형태로 변환하는 톱니파 발생부;상기 톱니파 발생부의 출력과 기준전압을 비교하여 전압 위상과 전류 위상의 위상차에 대응하는 펄스 신호를 출력하는 제4 비교기를 포함하는 위상차 검출부;상기 위상차 검출부의 출력을 계수하며 누적 계수치가 소정치 이상일 때 출력을 발생시키는 리플 카운터를 포함하는 노이즈 필터부;및상기 노이즈 필터부의 출력에 따라 스위칭되어 이상신호를 출력하는 이상신호 출력부;상기 이상신호 출력부를 통해 이상신호가 발생할 경우 이상신호 이벤트를 저압반 내부의 통합제어계전기로 전송하는 교류모터 고장 검출장치;고압반에 설치된 아크검출기에 있어서,접촉 불량에 의한 아크 펄스 전류를 포함한 회전 동작전원용 정류부;상\n"
     ]
    }
   ],
   "source": [
    "for data in claim_df['claim']: # 청구항 4줄 이상\n",
    "    for sentence in data.split(\"\\n\"): # 청구항 1줄\n",
    "            \n",
    "        \n",
    "        break\n",
    "    break"
   ]
  },
  {
   "cell_type": "code",
   "execution_count": null,
   "metadata": {},
   "outputs": [],
   "source": []
  }
 ],
 "metadata": {
  "kernelspec": {
   "display_name": "base",
   "language": "python",
   "name": "python3"
  },
  "language_info": {
   "codemirror_mode": {
    "name": "ipython",
    "version": 3
   },
   "file_extension": ".py",
   "mimetype": "text/x-python",
   "name": "python",
   "nbconvert_exporter": "python",
   "pygments_lexer": "ipython3",
   "version": "3.9.19"
  }
 },
 "nbformat": 4,
 "nbformat_minor": 2
}
